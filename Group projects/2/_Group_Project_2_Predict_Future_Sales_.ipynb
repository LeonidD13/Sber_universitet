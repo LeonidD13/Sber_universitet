{
  "cells": [
    {
      "cell_type": "markdown",
      "metadata": {
        "id": "xZ40gZM17S9l"
      },
      "source": [
        "[Ссылка на соревнование Kaggle](https://www.kaggle.com/c/competitive-train-science-predict-future-sales/overview)"
      ]
    },
    {
      "cell_type": "code",
      "execution_count": null,
      "metadata": {
        "id": "6hhwqA3bt17E"
      },
      "outputs": [],
      "source": [
        "run = 0\n",
        "if run:\n",
        "    ! mkdir ~/.kaggle\n",
        "    ! cp /content/drive/MyDrive/kaggle.json ~/.kaggle/kaggle.json\n",
        "    ! chmod 600 ~/.kaggle/kaggle.json\n",
        "    ! pip install kaggle\n",
        "    ! kaggle competitions download -c competitive-data-science-predict-future-sales\n",
        "    ! unzip \"items.csv.zip\"\n",
        "    ! unzip \"sales_train.csv.zip\"\n",
        "    ! unzip \"test.csv.zip\"\n",
        "\n",
        "    # ! pip install catboost\n",
        "    # ! pip install -U pandas-profiling"
      ]
    },
    {
      "cell_type": "code",
      "execution_count": null,
      "metadata": {
        "colab": {
          "base_uri": "https://localhost:8080/",
          "height": 90,
          "resources": {
            "http://localhost:8080/nbextensions/google.colab/files.js": {
              "data": "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",
              "headers": [
                [
                  "content-type",
                  "application/javascript"
                ]
              ],
              "ok": true,
              "status": 200,
              "status_text": ""
            }
          }
        },
        "id": "qLNowd4XKiEF",
        "outputId": "8b6b622e-440f-4b6d-ceed-1b2dd61e1920"
      },
      "outputs": [
        {
          "data": {
            "text/html": [
              "\n",
              "     <input type=\"file\" id=\"files-fcf1ca48-bda0-4177-9a90-bed9fb6dd154\" name=\"files[]\" multiple disabled\n",
              "        style=\"border:none\" />\n",
              "     <output id=\"result-fcf1ca48-bda0-4177-9a90-bed9fb6dd154\">\n",
              "      Upload widget is only available when the cell has been executed in the\n",
              "      current browser session. Please rerun this cell to enable.\n",
              "      </output>\n",
              "      <script src=\"/nbextensions/google.colab/files.js\"></script> "
            ],
            "text/plain": [
              "<IPython.core.display.HTML object>"
            ]
          },
          "metadata": {},
          "output_type": "display_data"
        },
        {
          "name": "stdout",
          "output_type": "stream",
          "text": [
            "Saving kaggle.json to kaggle.json\n",
            "User uploaded file \"kaggle.json\" with length 64 bytes\n"
          ]
        }
      ],
      "source": [
        "\n",
        "from google.colab import files\n",
        "\n",
        "uploaded = files.upload()\n",
        "\n",
        "for fn in uploaded.keys():\n",
        "  print('User uploaded file \"{name}\" with length {length} bytes'.format(\n",
        "      name=fn, length=len(uploaded[fn])))\n",
        "!mkdir -p ~/.kaggle/ && mv kaggle.json ~/.kaggle/ && chmod 600 ~/.kaggle/kaggle.json\n"
      ]
    },
    {
      "cell_type": "code",
      "execution_count": null,
      "metadata": {
        "colab": {
          "base_uri": "https://localhost:8080/"
        },
        "id": "wGzaywOxKmwz",
        "outputId": "ad9e4a22-d812-463f-b321-b73ff4ebc73c"
      },
      "outputs": [
        {
          "name": "stdout",
          "output_type": "stream",
          "text": [
            "Warning: Looks like you're using an outdated API Version, please consider updating (server 1.5.12 / client 1.5.4)\n",
            "Downloading items.csv.zip to kaggle\n",
            "  0% 0.00/368k [00:00<?, ?B/s]\n",
            "100% 368k/368k [00:00<00:00, 50.7MB/s]\n",
            "Downloading test.csv.zip to kaggle\n",
            "  0% 0.00/1.02M [00:00<?, ?B/s]\n",
            "100% 1.02M/1.02M [00:00<00:00, 68.6MB/s]\n",
            "Downloading sales_train.csv.zip to kaggle\n",
            " 38% 5.00M/13.3M [00:00<00:00, 42.6MB/s]\n",
            "100% 13.3M/13.3M [00:00<00:00, 65.0MB/s]\n",
            "Downloading item_categories.csv to kaggle\n",
            "  0% 0.00/3.49k [00:00<?, ?B/s]\n",
            "100% 3.49k/3.49k [00:00<00:00, 3.96MB/s]\n",
            "Downloading shops.csv to kaggle\n",
            "  0% 0.00/2.91k [00:00<?, ?B/s]\n",
            "100% 2.91k/2.91k [00:00<00:00, 3.11MB/s]\n",
            "Downloading sample_submission.csv.zip to kaggle\n",
            "  0% 0.00/468k [00:00<?, ?B/s]\n",
            "100% 468k/468k [00:00<00:00, 225MB/s]\n"
          ]
        }
      ],
      "source": [
        "!kaggle competitions download -c competitive-data-science-predict-future-sales -p kaggle/"
      ]
    },
    {
      "cell_type": "code",
      "execution_count": null,
      "metadata": {
        "colab": {
          "base_uri": "https://localhost:8080/"
        },
        "id": "I4xl4pZXKpUW",
        "outputId": "9fccf3c6-8932-4877-8df3-01f2d0d6b7b4"
      },
      "outputs": [
        {
          "name": "stdout",
          "output_type": "stream",
          "text": [
            "Archive:  /content/kaggle/sales_train.csv.zip\n",
            "  inflating: sales_train.csv         \n",
            "Archive:  /content/kaggle/test.csv.zip\n",
            "  inflating: test.csv                \n",
            "Archive:  /content/kaggle/sample_submission.csv.zip\n",
            "  inflating: sample_submission.csv   \n",
            "unzip:  cannot find or open /content/kaggle/shops.csv.zip, /content/kaggle/shops.csv.zip.zip or /content/kaggle/shops.csv.zip.ZIP.\n",
            "Archive:  /content/kaggle/items.csv.zip\n",
            "  inflating: items.csv               \n"
          ]
        }
      ],
      "source": [
        "!unzip /content/kaggle/sales_train.csv.zip\n",
        "!unzip /content/kaggle/test.csv.zip\n",
        "!unzip /content/kaggle/sample_submission.csv.zip\n",
        "!unzip /content/kaggle/shops.csv.zip\n",
        "!unzip /content/kaggle/items.csv.zip"
      ]
    },
    {
      "cell_type": "markdown",
      "metadata": {
        "id": "ECy-xJrGQV4V"
      },
      "source": [
        "# Определения"
      ]
    },
    {
      "cell_type": "code",
      "execution_count": null,
      "metadata": {
        "id": "ypKB28YC0sqX"
      },
      "outputs": [],
      "source": [
        "import numpy as np\n",
        "import pandas as pd\n",
        "import matplotlib as plt\n",
        "# from sklearn import model_selection\n",
        "# from sklearn.model_selection import train_test_split\n",
        "# from catboost import CatBoostRegressor, Pool\n",
        "import matplotlib.pyplot as plt\n",
        "import seaborn as sns\n",
        "import matplotlib.ticker as ticker\n",
        "from itertools import product\n",
        "import pickle"
      ]
    },
    {
      "cell_type": "code",
      "execution_count": null,
      "metadata": {
        "id": "IIrCNOzU0ufL"
      },
      "outputs": [],
      "source": [
        "\n",
        "\n",
        "test =  pd.read_csv ('/content/test.csv' )\n",
        "sales_train =  pd.read_csv ('/content/sales_train.csv' )\n",
        "item_categories =  pd.read_csv ('/content/kaggle/item_categories.csv' )\n",
        "sample_submission =  pd.read_csv ('/content/sample_submission.csv')\n",
        "shops = pd.read_csv('/content/kaggle/shops.csv')\n",
        "items = pd.read_csv('/content/items.csv')"
      ]
    },
    {
      "cell_type": "code",
      "execution_count": null,
      "metadata": {
        "colab": {
          "base_uri": "https://localhost:8080/"
        },
        "id": "Ebh8H1a0KPgL",
        "outputId": "de1650a9-3e60-4fc1-eb43-8993f7d74b7b"
      },
      "outputs": [
        {
          "name": "stdout",
          "output_type": "stream",
          "text": [
            "Mounted at /content/drive\n"
          ]
        }
      ],
      "source": [
        "from google.colab import drive\n",
        "drive.mount('/content/drive')"
      ]
    },
    {
      "cell_type": "code",
      "execution_count": null,
      "metadata": {
        "id": "X45Myziyp1W7"
      },
      "outputs": [],
      "source": [
        "shops['city'] = shops['shop_name'].str.split(' ').map(lambda x: x[0])\n",
        "shops.loc[shops.city == '!Якутск', 'city'] = 'Якутск'"
      ]
    },
    {
      "cell_type": "code",
      "execution_count": null,
      "metadata": {
        "id": "DdvrjgURLDPR"
      },
      "outputs": [],
      "source": [
        "sales_train = sales_train[sales_train.item_price<80000]\n",
        "sales_train = sales_train[sales_train.item_cnt_day<2000]"
      ]
    },
    {
      "cell_type": "markdown",
      "metadata": {
        "id": "rA_JbhLJQZHe"
      },
      "source": [
        "# EDA"
      ]
    },
    {
      "cell_type": "code",
      "execution_count": null,
      "metadata": {
        "colab": {
          "base_uri": "https://localhost:8080/",
          "height": 486
        },
        "id": "PgNFYdkeKHKc",
        "outputId": "bdcfccc2-24a2-43fe-8fe4-cafcc346a8c0"
      },
      "outputs": [
        {
          "data": {
            "image/png": "[encoded data removed]",
            "text/plain": [
              "<Figure size 1152x576 with 1 Axes>"
            ]
          },
          "metadata": {},
          "output_type": "display_data"
        }
      ],
      "source": [
        "ts=sales_train.groupby([\"date_block_num\"])[\"item_cnt_day\"].sum()\n",
        "\n",
        "fig, ax = plt.subplots(figsize=(16, 8))\n",
        "\n",
        "plt.title('Продажи за весь период')\n",
        "plt.xlabel('Месяцы')\n",
        "plt.ylabel('Продажи')\n",
        "\n",
        "major_ticks = np.arange(0, 34, 3)\n",
        "minor_ticks = np.arange(0, 34, 1)\n",
        "\n",
        "ax.set_xticks(major_ticks)\n",
        "ax.set_xticks(minor_ticks, minor=True)\n",
        "ax.grid(which='both')\n",
        "\n",
        "for i in range(34):\n",
        "    ax.annotate(\n",
        "                str(int(ts[i] / 1000))+'т.',\n",
        "                (i, ts[i]),\n",
        "                textcoords=\"offset points\",\n",
        "                xytext=(0, -15),\n",
        "                ha='center',\n",
        "                )\n",
        "\n",
        "plt.plot(ts, marker='o')\n",
        "plt.savefig('sales.png')\n",
        "plt.show()\n"
      ]
    },
    {
      "cell_type": "code",
      "execution_count": null,
      "metadata": {
        "colab": {
          "base_uri": "https://localhost:8080/",
          "height": 629
        },
        "id": "GumYjwKi6sr6",
        "outputId": "b774ded6-05b3-4683-9ecf-1441ec78ae36"
      },
      "outputs": [
        {
          "data": {
            "image/png": "[encoded data removed]",
            "text/plain": [
              "<Figure size 1152x720 with 1 Axes>"
            ]
          },
          "metadata": {},
          "output_type": "display_data"
        }
      ],
      "source": [
        "import textwrap\n",
        "def wrap_labels(ax, width, break_long_words=False):\n",
        "    labels = []\n",
        "    for label in ax.get_xticklabels():\n",
        "        text = label.get_text()\n",
        "        labels.append(textwrap.fill(text, width=width,\n",
        "                      break_long_words=break_long_words))\n",
        "    ax.set_xticklabels(labels, rotation=0)\n",
        "\n",
        "x = items.merge(item_categories, how='inner')\n",
        "x = x.groupby(['item_category_name']).count()\n",
        "x = x.sort_values(by='item_id',ascending=False)\n",
        "x = x.iloc[0:10].reset_index()\n",
        "\n",
        "\n",
        "fig, ax = plt.subplots(figsize=(16,10))\n",
        "sns.barplot(x=x.item_category_name, y=x.item_id, alpha=0.8)\n",
        "plt.title(\"Кол-во товаров по категориям (Топ-10)\")\n",
        "plt.ylabel('Кол-во товаров', fontsize=12)\n",
        "plt.xlabel('Категория', fontsize=12, wrap=True)\n",
        "wrap_labels(ax, 10)\n",
        "plt.savefig('items_cat.png')\n",
        "plt.show()\n"
      ]
    },
    {
      "cell_type": "code",
      "execution_count": null,
      "metadata": {
        "colab": {
          "base_uri": "https://localhost:8080/",
          "height": 625
        },
        "id": "EYct-OWoqOn7",
        "outputId": "e1a38f64-2b26-4994-ccb4-b8f4ea02b571"
      },
      "outputs": [
        {
          "data": {
            "image/png": "[encoded data removed]",
            "text/plain": [
              "<Figure size 1152x720 with 1 Axes>"
            ]
          },
          "metadata": {},
          "output_type": "display_data"
        }
      ],
      "source": [
        "y = shops.copy()\n",
        "y = y.groupby(['city']).count()\n",
        "y = y.sort_values(by='shop_name',ascending=False)\n",
        "y = y.iloc[0:5].reset_index()\n",
        "\n",
        "plt.figure(figsize=(16,10))\n",
        "sns.barplot(x=y.city, y=y.shop_name, alpha=0.8)\n",
        "plt.title(\"Города (Топ-5)\")\n",
        "plt.ylabel('Кол-во магазинов', fontsize=12)\n",
        "plt.xlabel('Город', fontsize=12)\n",
        "plt.savefig('city.png')\n",
        "plt.show()\n"
      ]
    },
    {
      "cell_type": "markdown",
      "metadata": {
        "id": "YaQmjB38QilS"
      },
      "source": [
        "# Feature Engineering"
      ]
    },
    {
      "cell_type": "code",
      "execution_count": null,
      "metadata": {
        "id": "ZsoiO_gTGbpA"
      },
      "outputs": [],
      "source": [
        "# Определим таргет\n",
        "target_col = 'item_cnt_day'"
      ]
    },
    {
      "cell_type": "code",
      "execution_count": null,
      "metadata": {
        "id": "gu6Fm7HPbjLY"
      },
      "outputs": [],
      "source": [
        "# all_in_one = sales_train.merge(items, how='inner')\n",
        "# all_in_one = all_in_one.merge(item_categories, how='inner')\n",
        "# all_in_one = all_in_one.merge(shops, how='inner')"
      ]
    },
    {
      "cell_type": "code",
      "execution_count": null,
      "metadata": {
        "id": "QgWYB53VFlkB"
      },
      "outputs": [],
      "source": [
        "# all_in_one_test = test.merge(items, how='inner')\n",
        "# all_in_one_test = all_in_one_test.merge(shops, how='inner')\n",
        "# all_in_one_test = all_in_one_test.merge(item_categories, how='inner')"
      ]
    },
    {
      "cell_type": "code",
      "execution_count": null,
      "metadata": {
        "id": "fyLDdLcathgd"
      },
      "outputs": [],
      "source": [
        "sales_train.insert(1, \"Day\", sales_train.date.str.split(pat=\".\", expand=True).astype('int32')[0])\n",
        "sales_train.insert(2, \"Month\", sales_train.date.str.split(pat=\".\", expand=True).astype('int32')[1])\n",
        "sales_train.insert(3, \"Year\", sales_train.date.str.split(pat=\".\", expand=True).astype('int32')[2])\n",
        "sales_train.drop(['date'], axis=1, inplace=True)"
      ]
    },
    {
      "cell_type": "code",
      "execution_count": null,
      "metadata": {
        "id": "GZoh6Loscg2T"
      },
      "outputs": [],
      "source": [
        "# from pandas_profiling import ProfileReport\n",
        "# profile = ProfileReport(all_in_one, title=\"Games\", explorative=True, minimal=False)\n",
        "# profile.to_file(\"pricing.html\")\n",
        "# profile"
      ]
    },
    {
      "cell_type": "code",
      "execution_count": null,
      "metadata": {
        "id": "Qgo7PbAMbBaq"
      },
      "outputs": [],
      "source": [
        "# # Посмотрим корриляцию с таргетом\n",
        "# correlations_train = abs(all_in_one.corr()[target_col]).sort_values()\n",
        "# correlations_train"
      ]
    },
    {
      "cell_type": "code",
      "execution_count": null,
      "metadata": {
        "id": "RxB2X7w-Ii8K"
      },
      "outputs": [],
      "source": [
        "item_categories.loc[item_categories.item_category_name == 'Кино - Blu-Ray', 'item_category_name'] = 'Кино - BluRay'"
      ]
    },
    {
      "cell_type": "code",
      "execution_count": null,
      "metadata": {
        "colab": {
          "base_uri": "https://localhost:8080/",
          "height": 206
        },
        "id": "Eou5bwivBkWw",
        "outputId": "46fc62ab-3626-41b9-cac4-a27b62e6724f"
      },
      "outputs": [
        {
          "data": {
            "text/html": [
              "\n",
              "  <div id=\"df-04dac407-65dd-4fe0-a871-04a86ea141d7\">\n",
              "    <div class=\"colab-df-container\">\n",
              "      <div>\n",
              "<style scoped>\n",
              "    .dataframe tbody tr th:only-of-type {\n",
              "        vertical-align: middle;\n",
              "    }\n",
              "\n",
              "    .dataframe tbody tr th {\n",
              "        vertical-align: top;\n",
              "    }\n",
              "\n",
              "    .dataframe thead th {\n",
              "        text-align: right;\n",
              "    }\n",
              "</style>\n",
              "<table border=\"1\" class=\"dataframe\">\n",
              "  <thead>\n",
              "    <tr style=\"text-align: right;\">\n",
              "      <th></th>\n",
              "      <th>item_category_id</th>\n",
              "      <th>type</th>\n",
              "      <th>subtype</th>\n",
              "    </tr>\n",
              "  </thead>\n",
              "  <tbody>\n",
              "    <tr>\n",
              "      <th>0</th>\n",
              "      <td>0</td>\n",
              "      <td>PC</td>\n",
              "      <td>Гарнитуры/Наушники</td>\n",
              "    </tr>\n",
              "    <tr>\n",
              "      <th>1</th>\n",
              "      <td>1</td>\n",
              "      <td>Аксессуары</td>\n",
              "      <td>PS2</td>\n",
              "    </tr>\n",
              "    <tr>\n",
              "      <th>2</th>\n",
              "      <td>2</td>\n",
              "      <td>Аксессуары</td>\n",
              "      <td>PS3</td>\n",
              "    </tr>\n",
              "    <tr>\n",
              "      <th>3</th>\n",
              "      <td>3</td>\n",
              "      <td>Аксессуары</td>\n",
              "      <td>PS4</td>\n",
              "    </tr>\n",
              "    <tr>\n",
              "      <th>4</th>\n",
              "      <td>4</td>\n",
              "      <td>Аксессуары</td>\n",
              "      <td>PSP</td>\n",
              "    </tr>\n",
              "  </tbody>\n",
              "</table>\n",
              "</div>\n",
              "      <button class=\"colab-df-convert\" onclick=\"convertToInteractive('df-04dac407-65dd-4fe0-a871-04a86ea141d7')\"\n",
              "              title=\"Convert this dataframe to an interactive table.\"\n",
              "              style=\"display:none;\">\n",
              "        \n",
              "  <svg xmlns=\"http://www.w3.org/2000/svg\" height=\"24px\"viewBox=\"0 0 24 24\"\n",
              "       width=\"24px\">\n",
              "    <path d=\"M0 0h24v24H0V0z\" fill=\"none\"/>\n",
              "    <path d=\"M18.56 5.44l.94 2.06.94-2.06 2.06-.94-2.06-.94-.94-2.06-.94 2.06-2.06.94zm-11 1L8.5 8.5l.94-2.06 2.06-.94-2.06-.94L8.5 2.5l-.94 2.06-2.06.94zm10 10l.94 2.06.94-2.06 2.06-.94-2.06-.94-.94-2.06-.94 2.06-2.06.94z\"/><path d=\"M17.41 7.96l-1.37-1.37c-.4-.4-.92-.59-1.43-.59-.52 0-1.04.2-1.43.59L10.3 9.45l-7.72 7.72c-.78.78-.78 2.05 0 2.83L4 21.41c.39.39.9.59 1.41.59.51 0 1.02-.2 1.41-.59l7.78-7.78 2.81-2.81c.8-.78.8-2.07 0-2.86zM5.41 20L4 18.59l7.72-7.72 1.47 1.35L5.41 20z\"/>\n",
              "  </svg>\n",
              "      </button>\n",
              "      \n",
              "  <style>\n",
              "    .colab-df-container {\n",
              "      display:flex;\n",
              "      flex-wrap:wrap;\n",
              "      gap: 12px;\n",
              "    }\n",
              "\n",
              "    .colab-df-convert {\n",
              "      background-color: #E8F0FE;\n",
              "      border: none;\n",
              "      border-radius: 50%;\n",
              "      cursor: pointer;\n",
              "      display: none;\n",
              "      fill: #1967D2;\n",
              "      height: 32px;\n",
              "      padding: 0 0 0 0;\n",
              "      width: 32px;\n",
              "    }\n",
              "\n",
              "    .colab-df-convert:hover {\n",
              "      background-color: #E2EBFA;\n",
              "      box-shadow: 0px 1px 2px rgba(60, 64, 67, 0.3), 0px 1px 3px 1px rgba(60, 64, 67, 0.15);\n",
              "      fill: #174EA6;\n",
              "    }\n",
              "\n",
              "    [theme=dark] .colab-df-convert {\n",
              "      background-color: #3B4455;\n",
              "      fill: #D2E3FC;\n",
              "    }\n",
              "\n",
              "    [theme=dark] .colab-df-convert:hover {\n",
              "      background-color: #434B5C;\n",
              "      box-shadow: 0px 1px 3px 1px rgba(0, 0, 0, 0.15);\n",
              "      filter: drop-shadow(0px 1px 2px rgba(0, 0, 0, 0.3));\n",
              "      fill: #FFFFFF;\n",
              "    }\n",
              "  </style>\n",
              "\n",
              "      <script>\n",
              "        const buttonEl =\n",
              "          document.querySelector('#df-04dac407-65dd-4fe0-a871-04a86ea141d7 button.colab-df-convert');\n",
              "        buttonEl.style.display =\n",
              "          google.colab.kernel.accessAllowed ? 'block' : 'none';\n",
              "\n",
              "        async function convertToInteractive(key) {\n",
              "          const element = document.querySelector('#df-04dac407-65dd-4fe0-a871-04a86ea141d7');\n",
              "          const dataTable =\n",
              "            await google.colab.kernel.invokeFunction('convertToInteractive',\n",
              "                                                     [key], {});\n",
              "          if (!dataTable) return;\n",
              "\n",
              "          const docLinkHtml = 'Like what you see? Visit the ' +\n",
              "            '<a target=\"_blank\" href=https://colab.research.google.com/notebooks/data_table.ipynb>data table notebook</a>'\n",
              "            + ' to learn more about interactive tables.';\n",
              "          element.innerHTML = '';\n",
              "          dataTable['output_type'] = 'display_data';\n",
              "          await google.colab.output.renderOutput(dataTable, element);\n",
              "          const docLink = document.createElement('div');\n",
              "          docLink.innerHTML = docLinkHtml;\n",
              "          element.appendChild(docLink);\n",
              "        }\n",
              "      </script>\n",
              "    </div>\n",
              "  </div>\n",
              "  "
            ],
            "text/plain": [
              "   item_category_id        type             subtype\n",
              "0                 0          PC  Гарнитуры/Наушники\n",
              "1                 1  Аксессуары                 PS2\n",
              "2                 2  Аксессуары                 PS3\n",
              "3                 3  Аксессуары                 PS4\n",
              "4                 4  Аксессуары                 PSP"
            ]
          },
          "execution_count": 16,
          "metadata": {},
          "output_type": "execute_result"
        }
      ],
      "source": [
        "item_categories['split'] = item_categories['item_category_name'].str.split('-')\n",
        "item_categories['type'] = item_categories['split'].map(lambda x: x[0].strip())\n",
        "# Если подкатегория равна пустому значению \n",
        "item_categories['subtype'] = item_categories['split'].map(lambda x: x[1].strip() if len(x) > 1 else x[0].strip())\n",
        "item_categories.drop(['item_category_name', 'split'],axis=1, inplace=True)\n",
        "item_categories.head()"
      ]
    },
    {
      "cell_type": "code",
      "execution_count": null,
      "metadata": {
        "id": "q_AEGL1GJrJc"
      },
      "outputs": [],
      "source": [
        "#Добавим в тестовый датасет для Нобря 2015 колонку date_block_num c индексом месяцы (34)\n",
        "test['date_block_num'] = 34\n",
        "test['date_block_num'] = test['date_block_num'].astype(np.int8)"
      ]
    },
    {
      "cell_type": "code",
      "execution_count": null,
      "metadata": {
        "id": "f2520bfe"
      },
      "outputs": [],
      "source": [
        "#matrix - матрица которую мы подготавливаем для обучения модели, за счет присоединения признаков и разных датасетов загруженных вначале\n",
        "matrix = []\n",
        "\n",
        "for month in sales_train['date_block_num'].unique():\n",
        "    shops_in_month = sales_train.loc[sales_train['date_block_num']==month, 'shop_id'].unique()\n",
        "    items_in_month = sales_train.loc[sales_train['date_block_num']==month, 'item_id'].unique()\n",
        "    matrix.append(np.array(list(product(*[[month], shops_in_month, items_in_month])), dtype='int32'))\n",
        "\n",
        "# Благодаря функции product перебираем возможные комбинации\n",
        "\n",
        "matrix = np.vstack(matrix)\n",
        "matrix = pd.DataFrame(matrix, columns = ['date_block_num','shop_id', 'item_id', ])"
      ]
    },
    {
      "cell_type": "code",
      "execution_count": null,
      "metadata": {
        "colab": {
          "base_uri": "https://localhost:8080/"
        },
        "id": "8FAewbrgohSW",
        "outputId": "aa0586de-68ea-4c5e-c3bb-ec58b605abaa"
      },
      "outputs": [
        {
          "data": {
            "text/plain": [
              "array([45, 46, 44, 41, 39, 42, 34, 31, 35, 38, 37, 36,  6, 56, 57, 55, 58,\n",
              "       59, 48, 47, 49, 53, 52, 50, 16, 15, 12, 14, 20, 19, 22, 18,  5,  4,\n",
              "        2,  3,  9,  7, 10, 28, 26, 25, 24, 21])"
            ]
          },
          "execution_count": 20,
          "metadata": {},
          "output_type": "execute_result"
        }
      ],
      "source": [
        "shops_in_month"
      ]
    },
    {
      "cell_type": "code",
      "execution_count": null,
      "metadata": {
        "colab": {
          "base_uri": "https://localhost:8080/",
          "height": 424
        },
        "id": "ff304f11",
        "outputId": "26d5651a-8923-4b8c-ae70-f5afc01a8e94"
      },
      "outputs": [
        {
          "data": {
            "text/html": [
              "\n",
              "  <div id=\"df-8411347f-d144-448a-84aa-98e279dbc9f2\">\n",
              "    <div class=\"colab-df-container\">\n",
              "      <div>\n",
              "<style scoped>\n",
              "    .dataframe tbody tr th:only-of-type {\n",
              "        vertical-align: middle;\n",
              "    }\n",
              "\n",
              "    .dataframe tbody tr th {\n",
              "        vertical-align: top;\n",
              "    }\n",
              "\n",
              "    .dataframe thead th {\n",
              "        text-align: right;\n",
              "    }\n",
              "</style>\n",
              "<table border=\"1\" class=\"dataframe\">\n",
              "  <thead>\n",
              "    <tr style=\"text-align: right;\">\n",
              "      <th></th>\n",
              "      <th>date_block_num</th>\n",
              "      <th>shop_id</th>\n",
              "      <th>item_id</th>\n",
              "    </tr>\n",
              "  </thead>\n",
              "  <tbody>\n",
              "    <tr>\n",
              "      <th>0</th>\n",
              "      <td>0</td>\n",
              "      <td>59</td>\n",
              "      <td>22154</td>\n",
              "    </tr>\n",
              "    <tr>\n",
              "      <th>1</th>\n",
              "      <td>0</td>\n",
              "      <td>59</td>\n",
              "      <td>2552</td>\n",
              "    </tr>\n",
              "    <tr>\n",
              "      <th>2</th>\n",
              "      <td>0</td>\n",
              "      <td>59</td>\n",
              "      <td>2554</td>\n",
              "    </tr>\n",
              "    <tr>\n",
              "      <th>3</th>\n",
              "      <td>0</td>\n",
              "      <td>59</td>\n",
              "      <td>2555</td>\n",
              "    </tr>\n",
              "    <tr>\n",
              "      <th>4</th>\n",
              "      <td>0</td>\n",
              "      <td>59</td>\n",
              "      <td>2564</td>\n",
              "    </tr>\n",
              "    <tr>\n",
              "      <th>...</th>\n",
              "      <td>...</td>\n",
              "      <td>...</td>\n",
              "      <td>...</td>\n",
              "    </tr>\n",
              "    <tr>\n",
              "      <th>11128045</th>\n",
              "      <td>34</td>\n",
              "      <td>45</td>\n",
              "      <td>18454</td>\n",
              "    </tr>\n",
              "    <tr>\n",
              "      <th>11128046</th>\n",
              "      <td>34</td>\n",
              "      <td>45</td>\n",
              "      <td>16188</td>\n",
              "    </tr>\n",
              "    <tr>\n",
              "      <th>11128047</th>\n",
              "      <td>34</td>\n",
              "      <td>45</td>\n",
              "      <td>15757</td>\n",
              "    </tr>\n",
              "    <tr>\n",
              "      <th>11128048</th>\n",
              "      <td>34</td>\n",
              "      <td>45</td>\n",
              "      <td>19648</td>\n",
              "    </tr>\n",
              "    <tr>\n",
              "      <th>11128049</th>\n",
              "      <td>34</td>\n",
              "      <td>45</td>\n",
              "      <td>969</td>\n",
              "    </tr>\n",
              "  </tbody>\n",
              "</table>\n",
              "<p>11128050 rows × 3 columns</p>\n",
              "</div>\n",
              "      <button class=\"colab-df-convert\" onclick=\"convertToInteractive('df-8411347f-d144-448a-84aa-98e279dbc9f2')\"\n",
              "              title=\"Convert this dataframe to an interactive table.\"\n",
              "              style=\"display:none;\">\n",
              "        \n",
              "  <svg xmlns=\"http://www.w3.org/2000/svg\" height=\"24px\"viewBox=\"0 0 24 24\"\n",
              "       width=\"24px\">\n",
              "    <path d=\"M0 0h24v24H0V0z\" fill=\"none\"/>\n",
              "    <path d=\"M18.56 5.44l.94 2.06.94-2.06 2.06-.94-2.06-.94-.94-2.06-.94 2.06-2.06.94zm-11 1L8.5 8.5l.94-2.06 2.06-.94-2.06-.94L8.5 2.5l-.94 2.06-2.06.94zm10 10l.94 2.06.94-2.06 2.06-.94-2.06-.94-.94-2.06-.94 2.06-2.06.94z\"/><path d=\"M17.41 7.96l-1.37-1.37c-.4-.4-.92-.59-1.43-.59-.52 0-1.04.2-1.43.59L10.3 9.45l-7.72 7.72c-.78.78-.78 2.05 0 2.83L4 21.41c.39.39.9.59 1.41.59.51 0 1.02-.2 1.41-.59l7.78-7.78 2.81-2.81c.8-.78.8-2.07 0-2.86zM5.41 20L4 18.59l7.72-7.72 1.47 1.35L5.41 20z\"/>\n",
              "  </svg>\n",
              "      </button>\n",
              "      \n",
              "  <style>\n",
              "    .colab-df-container {\n",
              "      display:flex;\n",
              "      flex-wrap:wrap;\n",
              "      gap: 12px;\n",
              "    }\n",
              "\n",
              "    .colab-df-convert {\n",
              "      background-color: #E8F0FE;\n",
              "      border: none;\n",
              "      border-radius: 50%;\n",
              "      cursor: pointer;\n",
              "      display: none;\n",
              "      fill: #1967D2;\n",
              "      height: 32px;\n",
              "      padding: 0 0 0 0;\n",
              "      width: 32px;\n",
              "    }\n",
              "\n",
              "    .colab-df-convert:hover {\n",
              "      background-color: #E2EBFA;\n",
              "      box-shadow: 0px 1px 2px rgba(60, 64, 67, 0.3), 0px 1px 3px 1px rgba(60, 64, 67, 0.15);\n",
              "      fill: #174EA6;\n",
              "    }\n",
              "\n",
              "    [theme=dark] .colab-df-convert {\n",
              "      background-color: #3B4455;\n",
              "      fill: #D2E3FC;\n",
              "    }\n",
              "\n",
              "    [theme=dark] .colab-df-convert:hover {\n",
              "      background-color: #434B5C;\n",
              "      box-shadow: 0px 1px 3px 1px rgba(0, 0, 0, 0.15);\n",
              "      filter: drop-shadow(0px 1px 2px rgba(0, 0, 0, 0.3));\n",
              "      fill: #FFFFFF;\n",
              "    }\n",
              "  </style>\n",
              "\n",
              "      <script>\n",
              "        const buttonEl =\n",
              "          document.querySelector('#df-8411347f-d144-448a-84aa-98e279dbc9f2 button.colab-df-convert');\n",
              "        buttonEl.style.display =\n",
              "          google.colab.kernel.accessAllowed ? 'block' : 'none';\n",
              "\n",
              "        async function convertToInteractive(key) {\n",
              "          const element = document.querySelector('#df-8411347f-d144-448a-84aa-98e279dbc9f2');\n",
              "          const dataTable =\n",
              "            await google.colab.kernel.invokeFunction('convertToInteractive',\n",
              "                                                     [key], {});\n",
              "          if (!dataTable) return;\n",
              "\n",
              "          const docLinkHtml = 'Like what you see? Visit the ' +\n",
              "            '<a target=\"_blank\" href=https://colab.research.google.com/notebooks/data_table.ipynb>data table notebook</a>'\n",
              "            + ' to learn more about interactive tables.';\n",
              "          element.innerHTML = '';\n",
              "          dataTable['output_type'] = 'display_data';\n",
              "          await google.colab.output.renderOutput(dataTable, element);\n",
              "          const docLink = document.createElement('div');\n",
              "          docLink.innerHTML = docLinkHtml;\n",
              "          element.appendChild(docLink);\n",
              "        }\n",
              "      </script>\n",
              "    </div>\n",
              "  </div>\n",
              "  "
            ],
            "text/plain": [
              "          date_block_num  shop_id  item_id\n",
              "0                      0       59    22154\n",
              "1                      0       59     2552\n",
              "2                      0       59     2554\n",
              "3                      0       59     2555\n",
              "4                      0       59     2564\n",
              "...                  ...      ...      ...\n",
              "11128045              34       45    18454\n",
              "11128046              34       45    16188\n",
              "11128047              34       45    15757\n",
              "11128048              34       45    19648\n",
              "11128049              34       45      969\n",
              "\n",
              "[11128050 rows x 3 columns]"
            ]
          },
          "execution_count": 21,
          "metadata": {},
          "output_type": "execute_result"
        }
      ],
      "source": [
        "matrix = pd.concat(\n",
        "    [matrix, test.drop(['ID'], axis=1)],\n",
        "    ignore_index=True, sort=False, keys= ['date_block_num','shop_id', 'item_id' ]\n",
        ")\n",
        "matrix"
      ]
    },
    {
      "cell_type": "code",
      "execution_count": null,
      "metadata": {
        "id": "de6fe4dd"
      },
      "outputs": [],
      "source": [
        "group = sales_train.groupby(['date_block_num','shop_id','item_id']).agg({'item_price':['last'],'item_cnt_day': ['sum']})\n",
        "group.reset_index(inplace=True)\n",
        "group.columns = ['date_block_num', 'shop_id', 'item_id', 'item_price', 'item_cnt_month']"
      ]
    },
    {
      "cell_type": "markdown",
      "metadata": {
        "id": "8e13d41a"
      },
      "source": [
        "Заполняем колонку проданного товара за месяц - item_cnt_month, если получаем пустое значение то ставим 0"
      ]
    },
    {
      "cell_type": "code",
      "execution_count": null,
      "metadata": {
        "id": "58e3265c"
      },
      "outputs": [],
      "source": [
        "matrix = pd.merge(matrix, group, on= ['date_block_num','shop_id', 'item_id'], how='left')\n",
        "matrix['item_cnt_month'] = (matrix['item_cnt_month']\n",
        "                                .fillna(0)\n",
        "                                .clip(0,20) \n",
        "                                .astype(np.float16))"
      ]
    },
    {
      "cell_type": "code",
      "execution_count": null,
      "metadata": {
        "colab": {
          "base_uri": "https://localhost:8080/",
          "height": 424
        },
        "id": "EZ_W8xJCSULi",
        "outputId": "d2599a7e-7348-46f1-bc20-8c42a828147a"
      },
      "outputs": [
        {
          "data": {
            "text/html": [
              "\n",
              "  <div id=\"df-1edd32c7-9229-47ff-982a-cf531a7c48b1\">\n",
              "    <div class=\"colab-df-container\">\n",
              "      <div>\n",
              "<style scoped>\n",
              "    .dataframe tbody tr th:only-of-type {\n",
              "        vertical-align: middle;\n",
              "    }\n",
              "\n",
              "    .dataframe tbody tr th {\n",
              "        vertical-align: top;\n",
              "    }\n",
              "\n",
              "    .dataframe thead th {\n",
              "        text-align: right;\n",
              "    }\n",
              "</style>\n",
              "<table border=\"1\" class=\"dataframe\">\n",
              "  <thead>\n",
              "    <tr style=\"text-align: right;\">\n",
              "      <th></th>\n",
              "      <th>date_block_num</th>\n",
              "      <th>shop_id</th>\n",
              "      <th>item_id</th>\n",
              "      <th>item_price</th>\n",
              "      <th>item_cnt_month</th>\n",
              "    </tr>\n",
              "  </thead>\n",
              "  <tbody>\n",
              "    <tr>\n",
              "      <th>0</th>\n",
              "      <td>0</td>\n",
              "      <td>59</td>\n",
              "      <td>22154</td>\n",
              "      <td>999.0</td>\n",
              "      <td>1.0</td>\n",
              "    </tr>\n",
              "    <tr>\n",
              "      <th>1</th>\n",
              "      <td>0</td>\n",
              "      <td>59</td>\n",
              "      <td>2552</td>\n",
              "      <td>NaN</td>\n",
              "      <td>0.0</td>\n",
              "    </tr>\n",
              "    <tr>\n",
              "      <th>2</th>\n",
              "      <td>0</td>\n",
              "      <td>59</td>\n",
              "      <td>2554</td>\n",
              "      <td>NaN</td>\n",
              "      <td>0.0</td>\n",
              "    </tr>\n",
              "    <tr>\n",
              "      <th>3</th>\n",
              "      <td>0</td>\n",
              "      <td>59</td>\n",
              "      <td>2555</td>\n",
              "      <td>NaN</td>\n",
              "      <td>0.0</td>\n",
              "    </tr>\n",
              "    <tr>\n",
              "      <th>4</th>\n",
              "      <td>0</td>\n",
              "      <td>59</td>\n",
              "      <td>2564</td>\n",
              "      <td>NaN</td>\n",
              "      <td>0.0</td>\n",
              "    </tr>\n",
              "    <tr>\n",
              "      <th>...</th>\n",
              "      <td>...</td>\n",
              "      <td>...</td>\n",
              "      <td>...</td>\n",
              "      <td>...</td>\n",
              "      <td>...</td>\n",
              "    </tr>\n",
              "    <tr>\n",
              "      <th>11128045</th>\n",
              "      <td>34</td>\n",
              "      <td>45</td>\n",
              "      <td>18454</td>\n",
              "      <td>NaN</td>\n",
              "      <td>0.0</td>\n",
              "    </tr>\n",
              "    <tr>\n",
              "      <th>11128046</th>\n",
              "      <td>34</td>\n",
              "      <td>45</td>\n",
              "      <td>16188</td>\n",
              "      <td>NaN</td>\n",
              "      <td>0.0</td>\n",
              "    </tr>\n",
              "    <tr>\n",
              "      <th>11128047</th>\n",
              "      <td>34</td>\n",
              "      <td>45</td>\n",
              "      <td>15757</td>\n",
              "      <td>NaN</td>\n",
              "      <td>0.0</td>\n",
              "    </tr>\n",
              "    <tr>\n",
              "      <th>11128048</th>\n",
              "      <td>34</td>\n",
              "      <td>45</td>\n",
              "      <td>19648</td>\n",
              "      <td>NaN</td>\n",
              "      <td>0.0</td>\n",
              "    </tr>\n",
              "    <tr>\n",
              "      <th>11128049</th>\n",
              "      <td>34</td>\n",
              "      <td>45</td>\n",
              "      <td>969</td>\n",
              "      <td>NaN</td>\n",
              "      <td>0.0</td>\n",
              "    </tr>\n",
              "  </tbody>\n",
              "</table>\n",
              "<p>11128050 rows × 5 columns</p>\n",
              "</div>\n",
              "      <button class=\"colab-df-convert\" onclick=\"convertToInteractive('df-1edd32c7-9229-47ff-982a-cf531a7c48b1')\"\n",
              "              title=\"Convert this dataframe to an interactive table.\"\n",
              "              style=\"display:none;\">\n",
              "        \n",
              "  <svg xmlns=\"http://www.w3.org/2000/svg\" height=\"24px\"viewBox=\"0 0 24 24\"\n",
              "       width=\"24px\">\n",
              "    <path d=\"M0 0h24v24H0V0z\" fill=\"none\"/>\n",
              "    <path d=\"M18.56 5.44l.94 2.06.94-2.06 2.06-.94-2.06-.94-.94-2.06-.94 2.06-2.06.94zm-11 1L8.5 8.5l.94-2.06 2.06-.94-2.06-.94L8.5 2.5l-.94 2.06-2.06.94zm10 10l.94 2.06.94-2.06 2.06-.94-2.06-.94-.94-2.06-.94 2.06-2.06.94z\"/><path d=\"M17.41 7.96l-1.37-1.37c-.4-.4-.92-.59-1.43-.59-.52 0-1.04.2-1.43.59L10.3 9.45l-7.72 7.72c-.78.78-.78 2.05 0 2.83L4 21.41c.39.39.9.59 1.41.59.51 0 1.02-.2 1.41-.59l7.78-7.78 2.81-2.81c.8-.78.8-2.07 0-2.86zM5.41 20L4 18.59l7.72-7.72 1.47 1.35L5.41 20z\"/>\n",
              "  </svg>\n",
              "      </button>\n",
              "      \n",
              "  <style>\n",
              "    .colab-df-container {\n",
              "      display:flex;\n",
              "      flex-wrap:wrap;\n",
              "      gap: 12px;\n",
              "    }\n",
              "\n",
              "    .colab-df-convert {\n",
              "      background-color: #E8F0FE;\n",
              "      border: none;\n",
              "      border-radius: 50%;\n",
              "      cursor: pointer;\n",
              "      display: none;\n",
              "      fill: #1967D2;\n",
              "      height: 32px;\n",
              "      padding: 0 0 0 0;\n",
              "      width: 32px;\n",
              "    }\n",
              "\n",
              "    .colab-df-convert:hover {\n",
              "      background-color: #E2EBFA;\n",
              "      box-shadow: 0px 1px 2px rgba(60, 64, 67, 0.3), 0px 1px 3px 1px rgba(60, 64, 67, 0.15);\n",
              "      fill: #174EA6;\n",
              "    }\n",
              "\n",
              "    [theme=dark] .colab-df-convert {\n",
              "      background-color: #3B4455;\n",
              "      fill: #D2E3FC;\n",
              "    }\n",
              "\n",
              "    [theme=dark] .colab-df-convert:hover {\n",
              "      background-color: #434B5C;\n",
              "      box-shadow: 0px 1px 3px 1px rgba(0, 0, 0, 0.15);\n",
              "      filter: drop-shadow(0px 1px 2px rgba(0, 0, 0, 0.3));\n",
              "      fill: #FFFFFF;\n",
              "    }\n",
              "  </style>\n",
              "\n",
              "      <script>\n",
              "        const buttonEl =\n",
              "          document.querySelector('#df-1edd32c7-9229-47ff-982a-cf531a7c48b1 button.colab-df-convert');\n",
              "        buttonEl.style.display =\n",
              "          google.colab.kernel.accessAllowed ? 'block' : 'none';\n",
              "\n",
              "        async function convertToInteractive(key) {\n",
              "          const element = document.querySelector('#df-1edd32c7-9229-47ff-982a-cf531a7c48b1');\n",
              "          const dataTable =\n",
              "            await google.colab.kernel.invokeFunction('convertToInteractive',\n",
              "                                                     [key], {});\n",
              "          if (!dataTable) return;\n",
              "\n",
              "          const docLinkHtml = 'Like what you see? Visit the ' +\n",
              "            '<a target=\"_blank\" href=https://colab.research.google.com/notebooks/data_table.ipynb>data table notebook</a>'\n",
              "            + ' to learn more about interactive tables.';\n",
              "          element.innerHTML = '';\n",
              "          dataTable['output_type'] = 'display_data';\n",
              "          await google.colab.output.renderOutput(dataTable, element);\n",
              "          const docLink = document.createElement('div');\n",
              "          docLink.innerHTML = docLinkHtml;\n",
              "          element.appendChild(docLink);\n",
              "        }\n",
              "      </script>\n",
              "    </div>\n",
              "  </div>\n",
              "  "
            ],
            "text/plain": [
              "          date_block_num  shop_id  item_id  item_price  item_cnt_month\n",
              "0                      0       59    22154       999.0             1.0\n",
              "1                      0       59     2552         NaN             0.0\n",
              "2                      0       59     2554         NaN             0.0\n",
              "3                      0       59     2555         NaN             0.0\n",
              "4                      0       59     2564         NaN             0.0\n",
              "...                  ...      ...      ...         ...             ...\n",
              "11128045              34       45    18454         NaN             0.0\n",
              "11128046              34       45    16188         NaN             0.0\n",
              "11128047              34       45    15757         NaN             0.0\n",
              "11128048              34       45    19648         NaN             0.0\n",
              "11128049              34       45      969         NaN             0.0\n",
              "\n",
              "[11128050 rows x 5 columns]"
            ]
          },
          "execution_count": 24,
          "metadata": {},
          "output_type": "execute_result"
        }
      ],
      "source": [
        "matrix"
      ]
    },
    {
      "cell_type": "code",
      "execution_count": null,
      "metadata": {
        "colab": {
          "base_uri": "https://localhost:8080/",
          "height": 617
        },
        "id": "5379cb78",
        "outputId": "5854a6d5-de20-4d38-a16b-f4fe7b043a70"
      },
      "outputs": [
        {
          "data": {
            "text/html": [
              "\n",
              "  <div id=\"df-34b69818-0899-4bb5-ad8c-e62e774d8eca\">\n",
              "    <div class=\"colab-df-container\">\n",
              "      <div>\n",
              "<style scoped>\n",
              "    .dataframe tbody tr th:only-of-type {\n",
              "        vertical-align: middle;\n",
              "    }\n",
              "\n",
              "    .dataframe tbody tr th {\n",
              "        vertical-align: top;\n",
              "    }\n",
              "\n",
              "    .dataframe thead th {\n",
              "        text-align: right;\n",
              "    }\n",
              "</style>\n",
              "<table border=\"1\" class=\"dataframe\">\n",
              "  <thead>\n",
              "    <tr style=\"text-align: right;\">\n",
              "      <th></th>\n",
              "      <th>date_block_num</th>\n",
              "      <th>shop_id</th>\n",
              "      <th>item_id</th>\n",
              "      <th>item_price</th>\n",
              "      <th>item_cnt_month</th>\n",
              "      <th>item_name</th>\n",
              "      <th>item_category_id</th>\n",
              "      <th>shop_name</th>\n",
              "      <th>city</th>\n",
              "      <th>type</th>\n",
              "      <th>subtype</th>\n",
              "    </tr>\n",
              "  </thead>\n",
              "  <tbody>\n",
              "    <tr>\n",
              "      <th>0</th>\n",
              "      <td>0</td>\n",
              "      <td>59</td>\n",
              "      <td>22154</td>\n",
              "      <td>999.0</td>\n",
              "      <td>1.0</td>\n",
              "      <td>ЯВЛЕНИЕ 2012 (BD)</td>\n",
              "      <td>37</td>\n",
              "      <td>Ярославль ТЦ \"Альтаир\"</td>\n",
              "      <td>Ярославль</td>\n",
              "      <td>Кино</td>\n",
              "      <td>BluRay</td>\n",
              "    </tr>\n",
              "    <tr>\n",
              "      <th>1</th>\n",
              "      <td>0</td>\n",
              "      <td>59</td>\n",
              "      <td>2552</td>\n",
              "      <td>NaN</td>\n",
              "      <td>0.0</td>\n",
              "      <td>DEEP PURPLE  The House Of Blue Light  LP</td>\n",
              "      <td>58</td>\n",
              "      <td>Ярославль ТЦ \"Альтаир\"</td>\n",
              "      <td>Ярославль</td>\n",
              "      <td>Музыка</td>\n",
              "      <td>Винил</td>\n",
              "    </tr>\n",
              "    <tr>\n",
              "      <th>2</th>\n",
              "      <td>0</td>\n",
              "      <td>59</td>\n",
              "      <td>2554</td>\n",
              "      <td>NaN</td>\n",
              "      <td>0.0</td>\n",
              "      <td>DEEP PURPLE  Who Do You Think We Are  LP</td>\n",
              "      <td>58</td>\n",
              "      <td>Ярославль ТЦ \"Альтаир\"</td>\n",
              "      <td>Ярославль</td>\n",
              "      <td>Музыка</td>\n",
              "      <td>Винил</td>\n",
              "    </tr>\n",
              "    <tr>\n",
              "      <th>3</th>\n",
              "      <td>0</td>\n",
              "      <td>59</td>\n",
              "      <td>2555</td>\n",
              "      <td>NaN</td>\n",
              "      <td>0.0</td>\n",
              "      <td>DEEP PURPLE 30 Very Best Of 2CD (Фирм.)</td>\n",
              "      <td>56</td>\n",
              "      <td>Ярославль ТЦ \"Альтаир\"</td>\n",
              "      <td>Ярославль</td>\n",
              "      <td>Музыка</td>\n",
              "      <td>CD фирменного производства</td>\n",
              "    </tr>\n",
              "    <tr>\n",
              "      <th>4</th>\n",
              "      <td>0</td>\n",
              "      <td>59</td>\n",
              "      <td>2564</td>\n",
              "      <td>NaN</td>\n",
              "      <td>0.0</td>\n",
              "      <td>DEEP PURPLE Perihelion: Live In Concert DVD (К...</td>\n",
              "      <td>59</td>\n",
              "      <td>Ярославль ТЦ \"Альтаир\"</td>\n",
              "      <td>Ярославль</td>\n",
              "      <td>Музыка</td>\n",
              "      <td>Музыкальное видео</td>\n",
              "    </tr>\n",
              "  </tbody>\n",
              "</table>\n",
              "</div>\n",
              "      <button class=\"colab-df-convert\" onclick=\"convertToInteractive('df-34b69818-0899-4bb5-ad8c-e62e774d8eca')\"\n",
              "              title=\"Convert this dataframe to an interactive table.\"\n",
              "              style=\"display:none;\">\n",
              "        \n",
              "  <svg xmlns=\"http://www.w3.org/2000/svg\" height=\"24px\"viewBox=\"0 0 24 24\"\n",
              "       width=\"24px\">\n",
              "    <path d=\"M0 0h24v24H0V0z\" fill=\"none\"/>\n",
              "    <path d=\"M18.56 5.44l.94 2.06.94-2.06 2.06-.94-2.06-.94-.94-2.06-.94 2.06-2.06.94zm-11 1L8.5 8.5l.94-2.06 2.06-.94-2.06-.94L8.5 2.5l-.94 2.06-2.06.94zm10 10l.94 2.06.94-2.06 2.06-.94-2.06-.94-.94-2.06-.94 2.06-2.06.94z\"/><path d=\"M17.41 7.96l-1.37-1.37c-.4-.4-.92-.59-1.43-.59-.52 0-1.04.2-1.43.59L10.3 9.45l-7.72 7.72c-.78.78-.78 2.05 0 2.83L4 21.41c.39.39.9.59 1.41.59.51 0 1.02-.2 1.41-.59l7.78-7.78 2.81-2.81c.8-.78.8-2.07 0-2.86zM5.41 20L4 18.59l7.72-7.72 1.47 1.35L5.41 20z\"/>\n",
              "  </svg>\n",
              "      </button>\n",
              "      \n",
              "  <style>\n",
              "    .colab-df-container {\n",
              "      display:flex;\n",
              "      flex-wrap:wrap;\n",
              "      gap: 12px;\n",
              "    }\n",
              "\n",
              "    .colab-df-convert {\n",
              "      background-color: #E8F0FE;\n",
              "      border: none;\n",
              "      border-radius: 50%;\n",
              "      cursor: pointer;\n",
              "      display: none;\n",
              "      fill: #1967D2;\n",
              "      height: 32px;\n",
              "      padding: 0 0 0 0;\n",
              "      width: 32px;\n",
              "    }\n",
              "\n",
              "    .colab-df-convert:hover {\n",
              "      background-color: #E2EBFA;\n",
              "      box-shadow: 0px 1px 2px rgba(60, 64, 67, 0.3), 0px 1px 3px 1px rgba(60, 64, 67, 0.15);\n",
              "      fill: #174EA6;\n",
              "    }\n",
              "\n",
              "    [theme=dark] .colab-df-convert {\n",
              "      background-color: #3B4455;\n",
              "      fill: #D2E3FC;\n",
              "    }\n",
              "\n",
              "    [theme=dark] .colab-df-convert:hover {\n",
              "      background-color: #434B5C;\n",
              "      box-shadow: 0px 1px 3px 1px rgba(0, 0, 0, 0.15);\n",
              "      filter: drop-shadow(0px 1px 2px rgba(0, 0, 0, 0.3));\n",
              "      fill: #FFFFFF;\n",
              "    }\n",
              "  </style>\n",
              "\n",
              "      <script>\n",
              "        const buttonEl =\n",
              "          document.querySelector('#df-34b69818-0899-4bb5-ad8c-e62e774d8eca button.colab-df-convert');\n",
              "        buttonEl.style.display =\n",
              "          google.colab.kernel.accessAllowed ? 'block' : 'none';\n",
              "\n",
              "        async function convertToInteractive(key) {\n",
              "          const element = document.querySelector('#df-34b69818-0899-4bb5-ad8c-e62e774d8eca');\n",
              "          const dataTable =\n",
              "            await google.colab.kernel.invokeFunction('convertToInteractive',\n",
              "                                                     [key], {});\n",
              "          if (!dataTable) return;\n",
              "\n",
              "          const docLinkHtml = 'Like what you see? Visit the ' +\n",
              "            '<a target=\"_blank\" href=https://colab.research.google.com/notebooks/data_table.ipynb>data table notebook</a>'\n",
              "            + ' to learn more about interactive tables.';\n",
              "          element.innerHTML = '';\n",
              "          dataTable['output_type'] = 'display_data';\n",
              "          await google.colab.output.renderOutput(dataTable, element);\n",
              "          const docLink = document.createElement('div');\n",
              "          docLink.innerHTML = docLinkHtml;\n",
              "          element.appendChild(docLink);\n",
              "        }\n",
              "      </script>\n",
              "    </div>\n",
              "  </div>\n",
              "  "
            ],
            "text/plain": [
              "   date_block_num  shop_id  ...    type                     subtype\n",
              "0               0       59  ...    Кино                      BluRay\n",
              "1               0       59  ...  Музыка                       Винил\n",
              "2               0       59  ...  Музыка                       Винил\n",
              "3               0       59  ...  Музыка  CD фирменного производства\n",
              "4               0       59  ...  Музыка           Музыкальное видео\n",
              "\n",
              "[5 rows x 11 columns]"
            ]
          },
          "execution_count": 25,
          "metadata": {},
          "output_type": "execute_result"
        }
      ],
      "source": [
        "matrix = pd.merge(matrix, items, on='item_id', how='left')\n",
        "matrix = pd.merge(matrix, shops, on='shop_id', how='left')\n",
        "matrix = pd.merge(matrix, item_categories, on='item_category_id', how='left')\n",
        "matrix.head()"
      ]
    },
    {
      "cell_type": "code",
      "execution_count": null,
      "metadata": {
        "colab": {
          "base_uri": "https://localhost:8080/",
          "height": 317
        },
        "id": "YAenUL2YNk4P",
        "outputId": "3e0dfdc8-7a97-4619-ff1b-b9ecdf87b396"
      },
      "outputs": [
        {
          "data": {
            "image/png": "[encoded data removed]",
            "text/plain": [
              "<Figure size 1800x576 with 1 Axes>"
            ]
          },
          "metadata": {},
          "output_type": "display_data"
        }
      ],
      "source": [
        "fig, axes = plt.subplots(figsize=(25,8))\n",
        "sns.lineplot(data=matrix.groupby(by='item_price').sum().reset_index(), x=\"item_price\", y='item_cnt_month', ax=axes)\n",
        "plt.savefig('item_cnt_month_item_price.png')\n",
        "plt.show()"
      ]
    },
    {
      "cell_type": "code",
      "execution_count": null,
      "metadata": {
        "id": "5U0ZfGDgM4cU"
      },
      "outputs": [],
      "source": [
        "# Сформируем целевые задержки по последним трём месяцам, за полгода и за год\n",
        "def lag_feature(df, lags, col):\n",
        "    tmp = df[['date_block_num','shop_id','item_id',col]]\n",
        "    for i in lags:\n",
        "        shifted = tmp.copy()\n",
        "        shifted.columns = ['date_block_num','shop_id','item_id', col+'_lag_'+str(i)]\n",
        "        shifted['date_block_num'] += i\n",
        "        df = pd.merge(df, shifted, on=['date_block_num','shop_id','item_id'], how='left')\n",
        "    return df"
      ]
    },
    {
      "cell_type": "code",
      "execution_count": null,
      "metadata": {
        "id": "ed102b95"
      },
      "outputs": [],
      "source": [
        "matrix = lag_feature(matrix, [1,2,3,6,12], 'item_cnt_month')"
      ]
    },
    {
      "cell_type": "code",
      "execution_count": null,
      "metadata": {
        "id": "28a4fa19"
      },
      "outputs": [],
      "source": [
        "matrix.to_csv('matrix.csv', index = False)"
      ]
    },
    {
      "cell_type": "markdown",
      "metadata": {
        "id": "cac2d2ea"
      },
      "source": [
        "## Сдвиги значений по одному и нескольким признакам "
      ]
    },
    {
      "cell_type": "markdown",
      "metadata": {
        "id": "8e0239da"
      },
      "source": [
        "Сдвиг среднемесячных продаж"
      ]
    },
    {
      "cell_type": "code",
      "execution_count": null,
      "metadata": {
        "id": "b6c7b6f3"
      },
      "outputs": [],
      "source": [
        "group = matrix.groupby(['date_block_num']).agg({'item_cnt_month': ['mean']})\n",
        "group.columns = [ 'date_avg_item_cnt' ]\n",
        "group.reset_index(inplace=True)\n",
        "\n",
        "matrix = pd.merge(matrix, group, on=['date_block_num'], how='left')\n",
        "matrix['date_avg_item_cnt'] = matrix['date_avg_item_cnt'].astype(np.float16)\n",
        "matrix = lag_feature(matrix, [1], 'date_avg_item_cnt')\n",
        "matrix.drop(['date_avg_item_cnt'], axis=1, inplace=True)"
      ]
    },
    {
      "cell_type": "markdown",
      "metadata": {
        "id": "24637b5a"
      },
      "source": [
        "Сдвиг среднемесячных продаж по товарам"
      ]
    },
    {
      "cell_type": "code",
      "execution_count": null,
      "metadata": {
        "id": "f47e20cc"
      },
      "outputs": [],
      "source": [
        "group = matrix.groupby(['date_block_num', 'item_id']).agg({'item_cnt_month': ['mean']})\n",
        "group.columns = [ 'date_item_avg_item_cnt' ]\n",
        "group.reset_index(inplace=True)\n",
        "\n",
        "matrix = pd.merge(matrix, group, on=['date_block_num','item_id'], how='left')\n",
        "matrix['date_item_avg_item_cnt'] = matrix['date_item_avg_item_cnt'].astype(np.float16)\n",
        "matrix = lag_feature(matrix, [1,2,3,6,12], 'date_item_avg_item_cnt')\n",
        "matrix.drop(['date_item_avg_item_cnt'], axis=1, inplace=True)"
      ]
    },
    {
      "cell_type": "markdown",
      "metadata": {
        "id": "712ae1bd"
      },
      "source": [
        "Сдвиг среднемесячных продаж по магазинам"
      ]
    },
    {
      "cell_type": "code",
      "execution_count": null,
      "metadata": {
        "id": "0060f752"
      },
      "outputs": [],
      "source": [
        "group = matrix.groupby(['date_block_num', 'shop_id']).agg({'item_cnt_month': ['mean']})\n",
        "group.columns = [ 'date_shop_avg_item_cnt' ]\n",
        "group.reset_index(inplace=True)\n",
        "\n",
        "matrix = pd.merge(matrix, group, on=['date_block_num','shop_id'], how='left')\n",
        "matrix['date_shop_avg_item_cnt'] = matrix['date_shop_avg_item_cnt'].astype(np.float16)\n",
        "matrix = lag_feature(matrix, [1,2,3,6,12], 'date_shop_avg_item_cnt')\n",
        "matrix.drop(['date_shop_avg_item_cnt'], axis=1, inplace=True)"
      ]
    },
    {
      "cell_type": "markdown",
      "metadata": {
        "id": "b3011849"
      },
      "source": [
        "Сдвиг среднемесячных продаж по категориям товаров"
      ]
    },
    {
      "cell_type": "code",
      "execution_count": null,
      "metadata": {
        "id": "2e08b5f2"
      },
      "outputs": [],
      "source": [
        "group = matrix.groupby(['date_block_num', 'item_category_id']).agg({'item_cnt_month': ['mean']})\n",
        "group.columns = [ 'date_category_avg_item_cnt' ]\n",
        "group.reset_index(inplace=True)\n",
        "\n",
        "matrix = pd.merge(matrix, group, on=['date_block_num','item_category_id'], how='left')\n",
        "matrix['date_category_avg_item_cnt'] = matrix['date_category_avg_item_cnt'].astype(np.float16)\n",
        "matrix = lag_feature(matrix, [1], 'date_category_avg_item_cnt')\n",
        "matrix.drop(['date_category_avg_item_cnt'], axis=1, inplace=True)"
      ]
    },
    {
      "cell_type": "markdown",
      "metadata": {
        "id": "78ddd027"
      },
      "source": [
        "Сдвиг среднемесячных продаж по магазинам и категориям товаров"
      ]
    },
    {
      "cell_type": "code",
      "execution_count": null,
      "metadata": {
        "id": "4e8dd0c4"
      },
      "outputs": [],
      "source": [
        "group = matrix.groupby(['date_block_num', 'shop_id', 'item_category_id']).agg({'item_cnt_month': ['mean']})\n",
        "group.columns = ['date_shop_cat_avg_item_cnt']\n",
        "group.reset_index(inplace=True)\n",
        "\n",
        "matrix = pd.merge(matrix, group, on=['date_block_num', 'shop_id', 'item_category_id'], how='left')\n",
        "matrix['date_shop_cat_avg_item_cnt'] = matrix['date_shop_cat_avg_item_cnt'].astype(np.float16)\n",
        "matrix = lag_feature(matrix, [1], 'date_shop_cat_avg_item_cnt')\n",
        "matrix.drop(['date_shop_cat_avg_item_cnt'], axis=1, inplace=True)"
      ]
    },
    {
      "cell_type": "markdown",
      "metadata": {
        "id": "7612ef12"
      },
      "source": [
        "Сдвиг среднемесячных продаж по магазинам и типу товаров"
      ]
    },
    {
      "cell_type": "code",
      "execution_count": null,
      "metadata": {
        "id": "c21e8de2"
      },
      "outputs": [],
      "source": [
        "group = matrix.groupby(['date_block_num', 'shop_id', 'type']).agg({'item_cnt_month': ['mean']})\n",
        "group.columns = ['date_shop_type_avg_item_cnt']\n",
        "group.reset_index(inplace=True)\n",
        "\n",
        "matrix = pd.merge(matrix, group, on=['date_block_num', 'shop_id', 'type'], how='left')\n",
        "matrix['date_shop_type_avg_item_cnt'] = matrix['date_shop_type_avg_item_cnt'].astype(np.float16)\n",
        "matrix = lag_feature(matrix, [1], 'date_shop_type_avg_item_cnt')\n",
        "matrix.drop(['date_shop_type_avg_item_cnt'], axis=1, inplace=True)"
      ]
    },
    {
      "cell_type": "markdown",
      "metadata": {
        "id": "dc47ce50"
      },
      "source": [
        "Сдвиг среднемесячных продаж по магазинам и подтипу товара"
      ]
    },
    {
      "cell_type": "code",
      "execution_count": null,
      "metadata": {
        "id": "ac84f2bd"
      },
      "outputs": [],
      "source": [
        "group = matrix.groupby(['date_block_num', 'shop_id', 'subtype']).agg({'item_cnt_month': ['mean']})\n",
        "group.columns = ['date_shop_subtype_avg_item_cnt']\n",
        "group.reset_index(inplace=True)\n",
        "\n",
        "matrix = pd.merge(matrix, group, on=['date_block_num', 'shop_id', 'subtype'], how='left')\n",
        "matrix['date_shop_subtype_avg_item_cnt'] = matrix['date_shop_subtype_avg_item_cnt'].astype(np.float16)\n",
        "matrix = lag_feature(matrix, [1], 'date_shop_subtype_avg_item_cnt')\n",
        "matrix.drop(['date_shop_subtype_avg_item_cnt'], axis=1, inplace=True)"
      ]
    },
    {
      "cell_type": "markdown",
      "metadata": {
        "id": "8d2f2e17"
      },
      "source": [
        "Сдвиг среднемесячных продаж по городам"
      ]
    },
    {
      "cell_type": "code",
      "execution_count": null,
      "metadata": {
        "id": "59b4f2ec"
      },
      "outputs": [],
      "source": [
        "group = matrix.groupby(['date_block_num', 'city']).agg({'item_cnt_month': ['mean']})\n",
        "group.columns = [ 'date_city_avg_item_cnt' ]\n",
        "group.reset_index(inplace=True)\n",
        "\n",
        "matrix = pd.merge(matrix, group, on=['date_block_num', 'city'], how='left')\n",
        "matrix['date_city_avg_item_cnt'] = matrix['date_city_avg_item_cnt'].astype(np.float16)\n",
        "matrix = lag_feature(matrix, [1], 'date_city_avg_item_cnt')\n",
        "matrix.drop(['date_city_avg_item_cnt'], axis=1, inplace=True)"
      ]
    },
    {
      "cell_type": "markdown",
      "metadata": {
        "id": "0cc9a50c"
      },
      "source": [
        "Сдвиг среднемесячных продаж по городам и товарам"
      ]
    },
    {
      "cell_type": "code",
      "execution_count": null,
      "metadata": {
        "colab": {
          "background_save": true
        },
        "id": "ff438c0f"
      },
      "outputs": [],
      "source": [
        "group = matrix.groupby(['date_block_num', 'item_id', 'city']).agg({'item_cnt_month': ['mean']})\n",
        "group.columns = [ 'date_item_city_avg_item_cnt' ]\n",
        "group.reset_index(inplace=True)\n",
        "\n",
        "matrix = pd.merge(matrix, group, on=['date_block_num', 'item_id', 'city'], how='left')\n",
        "matrix['date_item_city_avg_item_cnt'] = matrix['date_item_city_avg_item_cnt'].astype(np.float16)\n",
        "matrix = lag_feature(matrix, [1], 'date_item_city_avg_item_cnt')\n",
        "matrix.drop(['date_item_city_avg_item_cnt'], axis=1, inplace=True)"
      ]
    },
    {
      "cell_type": "markdown",
      "metadata": {
        "id": "2ae30ccc"
      },
      "source": [
        "Сдвиг среднемесячных продаж по типу товара"
      ]
    },
    {
      "cell_type": "code",
      "execution_count": null,
      "metadata": {
        "id": "d0eb3169"
      },
      "outputs": [],
      "source": [
        "group = matrix.groupby(['date_block_num', 'type']).agg({'item_cnt_month': ['mean']})\n",
        "group.columns = [ 'date_type_avg_item_cnt' ]\n",
        "group.reset_index(inplace=True)\n",
        "\n",
        "matrix = pd.merge(matrix, group, on=['date_block_num', 'type'], how='left')\n",
        "matrix['date_type_avg_item_cnt'] = matrix['date_type_avg_item_cnt'].astype(np.float16)\n",
        "matrix = lag_feature(matrix, [1], 'date_type_avg_item_cnt')\n",
        "matrix.drop(['date_type_avg_item_cnt'], axis=1, inplace=True)"
      ]
    },
    {
      "cell_type": "markdown",
      "metadata": {
        "id": "24802ecf"
      },
      "source": [
        "Сдвиг среднемесячных продаж по подтипу товара"
      ]
    },
    {
      "cell_type": "code",
      "execution_count": null,
      "metadata": {
        "id": "23eb16f3"
      },
      "outputs": [],
      "source": [
        "group = matrix.groupby(['date_block_num', 'subtype']).agg({'item_cnt_month': ['mean']})\n",
        "group.columns = [ 'date_subtype_avg_item_cnt' ]\n",
        "group.reset_index(inplace=True)\n",
        "\n",
        "matrix = pd.merge(matrix, group, on=['date_block_num', 'subtype'], how='left')\n",
        "matrix['date_subtype_avg_item_cnt'] = matrix['date_subtype_avg_item_cnt'].astype(np.float16)\n",
        "matrix = lag_feature(matrix, [1], 'date_subtype_avg_item_cnt')\n",
        "matrix.drop(['date_subtype_avg_item_cnt'], axis=1, inplace=True)"
      ]
    },
    {
      "cell_type": "code",
      "execution_count": null,
      "metadata": {
        "colab": {
          "base_uri": "https://localhost:8080/"
        },
        "id": "685bf9f9",
        "outputId": "bbc141a0-bb3a-4aff-f8c5-72790feee182"
      },
      "outputs": [
        {
          "data": {
            "text/plain": [
              "Index(['date_block_num', 'shop_id', 'item_id', 'item_price', 'item_cnt_month',\n",
              "       'item_name', 'item_category_id', 'shop_name', 'city', 'type', 'subtype',\n",
              "       'item_cnt_month_lag_1', 'item_cnt_month_lag_2', 'item_cnt_month_lag_3',\n",
              "       'item_cnt_month_lag_6', 'item_cnt_month_lag_12',\n",
              "       'date_avg_item_cnt_lag_1', 'date_item_avg_item_cnt_lag_1',\n",
              "       'date_item_avg_item_cnt_lag_2', 'date_item_avg_item_cnt_lag_3',\n",
              "       'date_item_avg_item_cnt_lag_6', 'date_item_avg_item_cnt_lag_12',\n",
              "       'date_shop_avg_item_cnt_lag_1', 'date_shop_avg_item_cnt_lag_2',\n",
              "       'date_shop_avg_item_cnt_lag_3', 'date_shop_avg_item_cnt_lag_6',\n",
              "       'date_shop_avg_item_cnt_lag_12', 'date_category_avg_item_cnt_lag_1',\n",
              "       'date_shop_cat_avg_item_cnt_lag_1', 'date_shop_type_avg_item_cnt_lag_1',\n",
              "       'date_shop_subtype_avg_item_cnt_lag_1', 'date_city_avg_item_cnt_lag_1',\n",
              "       'date_item_city_avg_item_cnt_lag_1', 'date_type_avg_item_cnt_lag_1',\n",
              "       'date_subtype_avg_item_cnt_lag_1'],\n",
              "      dtype='object')"
            ]
          },
          "execution_count": 44,
          "metadata": {},
          "output_type": "execute_result"
        }
      ],
      "source": [
        "matrix.columns"
      ]
    },
    {
      "cell_type": "code",
      "execution_count": null,
      "metadata": {
        "colab": {
          "base_uri": "https://localhost:8080/"
        },
        "id": "c470f71f",
        "outputId": "9522a0d4-8181-45c7-d7b0-cbe63308b39c"
      },
      "outputs": [
        {
          "name": "stdout",
          "output_type": "stream",
          "text": [
            "<class 'pandas.core.frame.DataFrame'>\n",
            "Int64Index: 11128050 entries, 0 to 11128049\n",
            "Data columns (total 35 columns):\n",
            " #   Column                                Dtype  \n",
            "---  ------                                -----  \n",
            " 0   date_block_num                        int32  \n",
            " 1   shop_id                               int64  \n",
            " 2   item_id                               int64  \n",
            " 3   item_price                            float64\n",
            " 4   item_cnt_month                        float16\n",
            " 5   item_name                             object \n",
            " 6   item_category_id                      int64  \n",
            " 7   shop_name                             object \n",
            " 8   city                                  object \n",
            " 9   type                                  object \n",
            " 10  subtype                               object \n",
            " 11  item_cnt_month_lag_1                  float16\n",
            " 12  item_cnt_month_lag_2                  float16\n",
            " 13  item_cnt_month_lag_3                  float16\n",
            " 14  item_cnt_month_lag_6                  float16\n",
            " 15  item_cnt_month_lag_12                 float16\n",
            " 16  date_avg_item_cnt_lag_1               float16\n",
            " 17  date_item_avg_item_cnt_lag_1          float16\n",
            " 18  date_item_avg_item_cnt_lag_2          float16\n",
            " 19  date_item_avg_item_cnt_lag_3          float16\n",
            " 20  date_item_avg_item_cnt_lag_6          float16\n",
            " 21  date_item_avg_item_cnt_lag_12         float16\n",
            " 22  date_shop_avg_item_cnt_lag_1          float16\n",
            " 23  date_shop_avg_item_cnt_lag_2          float16\n",
            " 24  date_shop_avg_item_cnt_lag_3          float16\n",
            " 25  date_shop_avg_item_cnt_lag_6          float16\n",
            " 26  date_shop_avg_item_cnt_lag_12         float16\n",
            " 27  date_category_avg_item_cnt_lag_1      float16\n",
            " 28  date_shop_cat_avg_item_cnt_lag_1      float16\n",
            " 29  date_shop_type_avg_item_cnt_lag_1     float16\n",
            " 30  date_shop_subtype_avg_item_cnt_lag_1  float16\n",
            " 31  date_city_avg_item_cnt_lag_1          float16\n",
            " 32  date_item_city_avg_item_cnt_lag_1     float16\n",
            " 33  date_type_avg_item_cnt_lag_1          float16\n",
            " 34  date_subtype_avg_item_cnt_lag_1       float16\n",
            "dtypes: float16(25), float64(1), int32(1), int64(3), object(5)\n",
            "memory usage: 1.4+ GB\n"
          ]
        }
      ],
      "source": [
        "matrix.info()"
      ]
    },
    {
      "cell_type": "markdown",
      "metadata": {
        "id": "2b830132"
      },
      "source": [
        "## Тренд цены"
      ]
    },
    {
      "cell_type": "code",
      "execution_count": null,
      "metadata": {
        "id": "ac2834b3"
      },
      "outputs": [],
      "source": [
        "group = sales_train.groupby(['item_id']).agg({'item_price': ['mean']})\n",
        "group.columns = ['item_avg_item_price']\n",
        "group.reset_index(inplace=True)\n",
        "\n",
        "matrix = pd.merge(matrix, group, on=['item_id'], how='left')\n",
        "matrix['item_avg_item_price'] = matrix['item_avg_item_price'].astype(np.float16)\n",
        "\n",
        "group = sales_train.groupby(['date_block_num','item_id']).agg({'item_price': ['mean']})\n",
        "group.columns = ['date_item_avg_item_price']\n",
        "group.reset_index(inplace=True)"
      ]
    },
    {
      "cell_type": "code",
      "execution_count": null,
      "metadata": {
        "id": "341e5251"
      },
      "outputs": [],
      "source": [
        "matrix = pd.merge(matrix, group, on=['date_block_num','item_id'], how='left')\n",
        "matrix['date_item_avg_item_price'] = matrix['date_item_avg_item_price'].astype(np.float16)\n",
        "\n",
        "lags = [1,2,3,4,5,6]\n",
        "matrix = lag_feature(matrix, lags, 'date_item_avg_item_price')"
      ]
    },
    {
      "cell_type": "markdown",
      "metadata": {
        "id": "8c2c5b37"
      },
      "source": [
        "Последнии продажи магазина и товара"
      ]
    },
    {
      "cell_type": "code",
      "execution_count": null,
      "metadata": {
        "id": "187a0ea7"
      },
      "outputs": [],
      "source": [
        "# cache = {}\n",
        "# matrix['item_shop_last_sale'] = -1\n",
        "# matrix['item_shop_last_sale'] = matrix['item_shop_last_sale'].astype(np.int8)\n",
        "# for idx, row in matrix.iterrows():    \n",
        "#     key = str(row.item_id)+' '+str(row.shop_id)\n",
        "#     if key not in cache:\n",
        "#         if row.item_cnt_month!=0:\n",
        "#             cache[key] = row.date_block_num\n",
        "#     else:\n",
        "#         last_date_block_num = cache[key]\n",
        "#         matrix.at[idx, 'item_shop_last_sale'] = row.date_block_num - last_date_block_num\n",
        "#         cache[key] = row.date_block_num "
      ]
    },
    {
      "cell_type": "code",
      "execution_count": null,
      "metadata": {
        "id": "c532ad29"
      },
      "outputs": [],
      "source": [
        "# cache = {}\n",
        "# matrix['item_last_sale'] = -1\n",
        "# matrix['item_last_sale'] = matrix['item_last_sale'].astype(np.int8)\n",
        "# for idx, row in matrix.iterrows():    \n",
        "#     key = row.item_id\n",
        "#     if key not in cache:\n",
        "#         if row.item_cnt_month!=0:\n",
        "#             cache[key] = row.date_block_num\n",
        "#     else:\n",
        "#         last_date_block_num = cache[key]\n",
        "#         if row.date_block_num>last_date_block_num:\n",
        "#             matrix.at[idx, 'item_last_sale'] = row.date_block_num - last_date_block_num\n",
        "#             cache[key] = row.date_block_num   "
      ]
    },
    {
      "cell_type": "markdown",
      "metadata": {
        "id": "938ae590"
      },
      "source": [
        "Первые продажи магазина и товара"
      ]
    },
    {
      "cell_type": "code",
      "execution_count": null,
      "metadata": {
        "id": "f310a8ee"
      },
      "outputs": [],
      "source": [
        "# matrix['item_shop_first_sale'] = matrix['date_block_num'] - matrix.groupby(['item_id','shop_id'])['date_block_num'].transform('min')\n",
        "# matrix['item_first_sale'] = matrix['date_block_num'] - matrix.groupby('item_id')['date_block_num'].transform('min')"
      ]
    },
    {
      "cell_type": "markdown",
      "metadata": {
        "id": "aff0b16d"
      },
      "source": [
        "Заполние пустых ячеек связнных с залдержками и проданнами товарами за месяц"
      ]
    },
    {
      "cell_type": "code",
      "execution_count": null,
      "metadata": {
        "id": "91daaf2f"
      },
      "outputs": [],
      "source": [
        "def fill_na(df):\n",
        "    for col in df.columns:\n",
        "        if ('_lag_' in col) & (df[col].isnull().any()):\n",
        "            if ('item_cnt' in col):\n",
        "                df[col].fillna(0, inplace=True)         \n",
        "    return df\n",
        "\n",
        "matrix = fill_na(matrix)"
      ]
    },
    {
      "cell_type": "code",
      "execution_count": null,
      "metadata": {
        "colab": {
          "base_uri": "https://localhost:8080/"
        },
        "id": "3ac3684d",
        "outputId": "de688127-6904-42b4-d3e3-02255a1904ca"
      },
      "outputs": [
        {
          "name": "stdout",
          "output_type": "stream",
          "text": [
            "<class 'pandas.core.frame.DataFrame'>\n",
            "Int64Index: 11128050 entries, 0 to 11128049\n",
            "Data columns (total 43 columns):\n",
            " #   Column                                Dtype  \n",
            "---  ------                                -----  \n",
            " 0   date_block_num                        int32  \n",
            " 1   shop_id                               int64  \n",
            " 2   item_id                               int64  \n",
            " 3   item_price                            float64\n",
            " 4   item_cnt_month                        float16\n",
            " 5   item_name                             object \n",
            " 6   item_category_id                      int64  \n",
            " 7   shop_name                             object \n",
            " 8   city                                  object \n",
            " 9   type                                  object \n",
            " 10  subtype                               object \n",
            " 11  item_cnt_month_lag_1                  float16\n",
            " 12  item_cnt_month_lag_2                  float16\n",
            " 13  item_cnt_month_lag_3                  float16\n",
            " 14  item_cnt_month_lag_6                  float16\n",
            " 15  item_cnt_month_lag_12                 float16\n",
            " 16  date_avg_item_cnt_lag_1               float16\n",
            " 17  date_item_avg_item_cnt_lag_1          float16\n",
            " 18  date_item_avg_item_cnt_lag_2          float16\n",
            " 19  date_item_avg_item_cnt_lag_3          float16\n",
            " 20  date_item_avg_item_cnt_lag_6          float16\n",
            " 21  date_item_avg_item_cnt_lag_12         float16\n",
            " 22  date_shop_avg_item_cnt_lag_1          float16\n",
            " 23  date_shop_avg_item_cnt_lag_2          float16\n",
            " 24  date_shop_avg_item_cnt_lag_3          float16\n",
            " 25  date_shop_avg_item_cnt_lag_6          float16\n",
            " 26  date_shop_avg_item_cnt_lag_12         float16\n",
            " 27  date_category_avg_item_cnt_lag_1      float16\n",
            " 28  date_shop_cat_avg_item_cnt_lag_1      float16\n",
            " 29  date_shop_type_avg_item_cnt_lag_1     float16\n",
            " 30  date_shop_subtype_avg_item_cnt_lag_1  float16\n",
            " 31  date_city_avg_item_cnt_lag_1          float16\n",
            " 32  date_item_city_avg_item_cnt_lag_1     float16\n",
            " 33  date_type_avg_item_cnt_lag_1          float16\n",
            " 34  date_subtype_avg_item_cnt_lag_1       float16\n",
            " 35  item_avg_item_price                   float16\n",
            " 36  date_item_avg_item_price              float16\n",
            " 37  date_item_avg_item_price_lag_1        float16\n",
            " 38  date_item_avg_item_price_lag_2        float16\n",
            " 39  date_item_avg_item_price_lag_3        float16\n",
            " 40  date_item_avg_item_price_lag_4        float16\n",
            " 41  date_item_avg_item_price_lag_5        float16\n",
            " 42  date_item_avg_item_price_lag_6        float16\n",
            "dtypes: float16(33), float64(1), int32(1), int64(3), object(5)\n",
            "memory usage: 1.6+ GB\n"
          ]
        }
      ],
      "source": [
        "matrix.info()"
      ]
    },
    {
      "cell_type": "code",
      "execution_count": null,
      "metadata": {
        "colab": {
          "base_uri": "https://localhost:8080/"
        },
        "id": "Mx-BdQ7ZP5ck",
        "outputId": "c993f48d-8563-4649-9c8a-6555a58f09b1"
      },
      "outputs": [
        {
          "data": {
            "text/plain": [
              "5"
            ]
          },
          "execution_count": 4,
          "metadata": {},
          "output_type": "execute_result"
        }
      ],
      "source": [
        "# Определение категориальных признаков\n",
        "cols = matrix.columns\n",
        "num_cols = matrix._get_numeric_data().columns\n",
        "cat_features = list(set(cols) - set(num_cols))"
      ]
    },
    {
      "cell_type": "code",
      "execution_count": null,
      "metadata": {
        "id": "Pyz3-FukD2gZ"
      },
      "outputs": [],
      "source": [
        "# Заменим категориальные признаки NaN на 'missing'\n",
        "for elem in cat_features:\n",
        "    if matrix[elem].isna().any():\n",
        "        matrix[elem] = matrix[elem].fillna('missing')\n",
        "    if matrix[elem].isna().any():\n",
        "        matrix[elem] = matrix[elem].fillna('missing')"
      ]
    },
    {
      "cell_type": "code",
      "execution_count": null,
      "metadata": {
        "id": "PxT3inbMTIPQ"
      },
      "outputs": [],
      "source": [
        "matrix.to_pickle('train.pkl')\n",
        "test.to_pickle('test.pkl')"
      ]
    },
    {
      "cell_type": "code",
      "execution_count": null,
      "metadata": {
        "id": "y0sYsIpxYXJc"
      },
      "outputs": [],
      "source": [
        "%reset -f"
      ]
    },
    {
      "cell_type": "code",
      "execution_count": null,
      "metadata": {
        "colab": {
          "base_uri": "https://localhost:8080/"
        },
        "id": "Gnu6Tkc6YYM1",
        "outputId": "0b0e7271-b2d6-445a-a407-06c04d05a959"
      },
      "outputs": [
        {
          "name": "stdout",
          "output_type": "stream",
          "text": [
            "Requirement already satisfied: catboost in /usr/local/lib/python3.7/dist-packages (1.0.4)\n",
            "Requirement already satisfied: graphviz in /usr/local/lib/python3.7/dist-packages (from catboost) (0.10.1)\n",
            "Requirement already satisfied: plotly in /usr/local/lib/python3.7/dist-packages (from catboost) (5.5.0)\n",
            "Requirement already satisfied: six in /usr/local/lib/python3.7/dist-packages (from catboost) (1.15.0)\n",
            "Requirement already satisfied: numpy>=1.16.0 in /usr/local/lib/python3.7/dist-packages (from catboost) (1.19.5)\n",
            "Requirement already satisfied: pandas>=0.24.0 in /usr/local/lib/python3.7/dist-packages (from catboost) (1.3.5)\n",
            "Requirement already satisfied: matplotlib in /usr/local/lib/python3.7/dist-packages (from catboost) (3.2.2)\n",
            "Requirement already satisfied: scipy in /usr/local/lib/python3.7/dist-packages (from catboost) (1.4.1)\n",
            "Requirement already satisfied: pytz>=2017.3 in /usr/local/lib/python3.7/dist-packages (from pandas>=0.24.0->catboost) (2018.9)\n",
            "Requirement already satisfied: python-dateutil>=2.7.3 in /usr/local/lib/python3.7/dist-packages (from pandas>=0.24.0->catboost) (2.8.2)\n",
            "Requirement already satisfied: cycler>=0.10 in /usr/local/lib/python3.7/dist-packages (from matplotlib->catboost) (0.11.0)\n",
            "Requirement already satisfied: pyparsing!=2.0.4,!=2.1.2,!=2.1.6,>=2.0.1 in /usr/local/lib/python3.7/dist-packages (from matplotlib->catboost) (3.0.7)\n",
            "Requirement already satisfied: kiwisolver>=1.0.1 in /usr/local/lib/python3.7/dist-packages (from matplotlib->catboost) (1.3.2)\n",
            "Requirement already satisfied: tenacity>=6.2.0 in /usr/local/lib/python3.7/dist-packages (from plotly->catboost) (8.0.1)\n"
          ]
        }
      ],
      "source": [
        "!pip install catboost"
      ]
    },
    {
      "cell_type": "code",
      "execution_count": null,
      "metadata": {
        "id": "4kughBFiYZoK"
      },
      "outputs": [],
      "source": [
        "import pandas as pd\n",
        "import matplotlib.pyplot as plt\n",
        "import seaborn as sns\n",
        "import catboost as ctb\n",
        "import numpy as np\n",
        "import math\n",
        "from catboost import CatBoostRegressor, Pool\n",
        "from sklearn.metrics import mean_squared_error as mse"
      ]
    },
    {
      "cell_type": "code",
      "execution_count": null,
      "metadata": {
        "id": "JpYEumiNY8SF"
      },
      "outputs": [],
      "source": [
        "train = pd.read_pickle('/content/drive/MyDrive/train.pkl')\n",
        "test = pd.read_pickle('/content/drive/MyDrive/test.pkl')"
      ]
    },
    {
      "cell_type": "code",
      "execution_count": null,
      "metadata": {
        "id": "miad3dhPZAWi"
      },
      "outputs": [],
      "source": [
        "# Тренировочная выборка\n",
        "X_train = train[train.date_block_num < 33].drop(['item_cnt_month'], axis=1)\n",
        "Y_train = train[train.date_block_num < 33]['item_cnt_month']\n",
        "# Валидационная выборка\n",
        "X_valid = train[train.date_block_num == 33].drop(['item_cnt_month'], axis=1)\n",
        "Y_valid = train[train.date_block_num == 33]['item_cnt_month']\n",
        "# Тестовая выборка\n",
        "X_test = train[train.date_block_num == 34].drop(['item_cnt_month'], axis=1)"
      ]
    },
    {
      "cell_type": "code",
      "execution_count": null,
      "metadata": {
        "id": "9gq0JlkbZbR3"
      },
      "outputs": [],
      "source": [
        "train_pool = Pool(\n",
        "    X_train,\n",
        "    label=Y_train,\n",
        "    cat_features=cat_features)\n",
        "\n",
        "val_pool = Pool(\n",
        "    X_valid,\n",
        "    label=Y_valid,\n",
        "    cat_features=cat_features)\n",
        "\n",
        "test_pool = Pool(\n",
        "    X_test,\n",
        "    cat_features=cat_features)\n"
      ]
    },
    {
      "cell_type": "code",
      "execution_count": null,
      "metadata": {
        "colab": {
          "base_uri": "https://localhost:8080/"
        },
        "id": "aQ2oMQz6ZEBE",
        "outputId": "5e37080e-c42a-43d9-9c32-a53e2cec20e9"
      },
      "outputs": [
        {
          "name": "stdout",
          "output_type": "stream",
          "text": [
            "0:\tlearn: 1.0144407\ttest: 0.9407541\tbest: 0.9407541 (0)\ttotal: 2.1s\tremaining: 34m 56s\n",
            "1:\tlearn: 0.8810642\ttest: 0.8434264\tbest: 0.8434264 (1)\ttotal: 4.45s\tremaining: 36m 59s\n",
            "2:\tlearn: 0.8045077\ttest: 0.7947611\tbest: 0.7947611 (2)\ttotal: 6.8s\tremaining: 37m 39s\n",
            "3:\tlearn: 0.7604353\ttest: 0.7777524\tbest: 0.7777524 (3)\ttotal: 9.16s\tremaining: 38m 1s\n",
            "4:\tlearn: 0.7359988\ttest: 0.7619548\tbest: 0.7619548 (4)\ttotal: 11.6s\tremaining: 38m 32s\n",
            "5:\tlearn: 0.7189833\ttest: 0.7507970\tbest: 0.7507970 (5)\ttotal: 14.3s\tremaining: 39m 22s\n",
            "6:\tlearn: 0.7082363\ttest: 0.7477595\tbest: 0.7477595 (6)\ttotal: 17.1s\tremaining: 40m 22s\n",
            "7:\tlearn: 0.7015071\ttest: 0.7433036\tbest: 0.7433036 (7)\ttotal: 19.8s\tremaining: 40m 52s\n",
            "8:\tlearn: 0.6803339\ttest: 0.7454258\tbest: 0.7433036 (7)\ttotal: 22.4s\tremaining: 41m 3s\n",
            "9:\tlearn: 0.6761133\ttest: 0.7421303\tbest: 0.7421303 (9)\ttotal: 24.7s\tremaining: 40m 43s\n",
            "10:\tlearn: 0.6707125\ttest: 0.7426019\tbest: 0.7421303 (9)\ttotal: 27.3s\tremaining: 40m 51s\n",
            "11:\tlearn: 0.6672365\ttest: 0.7408859\tbest: 0.7408859 (11)\ttotal: 29.9s\tremaining: 41m\n",
            "12:\tlearn: 0.6594239\ttest: 0.7403018\tbest: 0.7403018 (12)\ttotal: 32.4s\tremaining: 40m 56s\n",
            "13:\tlearn: 0.6574048\ttest: 0.7393133\tbest: 0.7393133 (13)\ttotal: 34.9s\tremaining: 40m 58s\n",
            "14:\tlearn: 0.6534847\ttest: 0.7405574\tbest: 0.7393133 (13)\ttotal: 38.1s\tremaining: 41m 39s\n",
            "15:\tlearn: 0.6509593\ttest: 0.7396453\tbest: 0.7393133 (13)\ttotal: 40.9s\tremaining: 41m 58s\n",
            "16:\tlearn: 0.6358595\ttest: 0.7408506\tbest: 0.7393133 (13)\ttotal: 43.4s\tremaining: 41m 51s\n",
            "17:\tlearn: 0.6331670\ttest: 0.7401625\tbest: 0.7393133 (13)\ttotal: 45.9s\tremaining: 41m 41s\n",
            "18:\tlearn: 0.6316186\ttest: 0.7394821\tbest: 0.7393133 (13)\ttotal: 48.3s\tremaining: 41m 33s\n",
            "19:\tlearn: 0.6292446\ttest: 0.7406898\tbest: 0.7393133 (13)\ttotal: 51.3s\tremaining: 41m 55s\n",
            "20:\tlearn: 0.6279805\ttest: 0.7404154\tbest: 0.7393133 (13)\ttotal: 53.9s\tremaining: 41m 54s\n",
            "21:\tlearn: 0.6253820\ttest: 0.7399854\tbest: 0.7393133 (13)\ttotal: 56.5s\tremaining: 41m 50s\n",
            "22:\tlearn: 0.6227818\ttest: 0.7392413\tbest: 0.7392413 (22)\ttotal: 58.8s\tremaining: 41m 38s\n",
            "23:\tlearn: 0.6211563\ttest: 0.7389692\tbest: 0.7389692 (23)\ttotal: 1m 1s\tremaining: 41m 32s\n",
            "24:\tlearn: 0.6161331\ttest: 0.7387221\tbest: 0.7387221 (24)\ttotal: 1m 4s\tremaining: 42m 7s\n",
            "25:\tlearn: 0.6143229\ttest: 0.7384764\tbest: 0.7384764 (25)\ttotal: 1m 8s\tremaining: 42m 43s\n",
            "26:\tlearn: 0.6103618\ttest: 0.7394729\tbest: 0.7384764 (25)\ttotal: 1m 10s\tremaining: 42m 14s\n",
            "27:\tlearn: 0.6088939\ttest: 0.7401450\tbest: 0.7384764 (25)\ttotal: 1m 13s\tremaining: 42m 18s\n",
            "28:\tlearn: 0.6072833\ttest: 0.7396680\tbest: 0.7384764 (25)\ttotal: 1m 16s\tremaining: 42m 30s\n",
            "29:\tlearn: 0.6066262\ttest: 0.7387779\tbest: 0.7384764 (25)\ttotal: 1m 18s\tremaining: 42m 7s\n",
            "30:\tlearn: 0.6042744\ttest: 0.7337170\tbest: 0.7337170 (30)\ttotal: 1m 20s\tremaining: 42m 8s\n",
            "31:\tlearn: 0.5979817\ttest: 0.7481045\tbest: 0.7337170 (30)\ttotal: 1m 23s\tremaining: 42m 18s\n",
            "32:\tlearn: 0.5962300\ttest: 0.7495094\tbest: 0.7337170 (30)\ttotal: 1m 26s\tremaining: 42m 2s\n",
            "33:\tlearn: 0.5948504\ttest: 0.7498722\tbest: 0.7337170 (30)\ttotal: 1m 28s\tremaining: 41m 53s\n",
            "34:\tlearn: 0.5933969\ttest: 0.7502743\tbest: 0.7337170 (30)\ttotal: 1m 31s\tremaining: 41m 48s\n",
            "35:\tlearn: 0.5914367\ttest: 0.7506524\tbest: 0.7337170 (30)\ttotal: 1m 33s\tremaining: 41m 51s\n",
            "36:\tlearn: 0.5905894\ttest: 0.7498917\tbest: 0.7337170 (30)\ttotal: 1m 36s\tremaining: 41m 43s\n",
            "37:\tlearn: 0.5899594\ttest: 0.7496792\tbest: 0.7337170 (30)\ttotal: 1m 38s\tremaining: 41m 37s\n",
            "38:\tlearn: 0.5891086\ttest: 0.7488850\tbest: 0.7337170 (30)\ttotal: 1m 41s\tremaining: 41m 33s\n",
            "39:\tlearn: 0.5885429\ttest: 0.7489571\tbest: 0.7337170 (30)\ttotal: 1m 43s\tremaining: 41m 21s\n",
            "40:\tlearn: 0.5871634\ttest: 0.7523139\tbest: 0.7337170 (30)\ttotal: 1m 46s\tremaining: 41m 32s\n",
            "41:\tlearn: 0.5857215\ttest: 0.7525238\tbest: 0.7337170 (30)\ttotal: 1m 49s\tremaining: 41m 26s\n",
            "42:\tlearn: 0.5849572\ttest: 0.7523346\tbest: 0.7337170 (30)\ttotal: 1m 51s\tremaining: 41m 25s\n",
            "43:\tlearn: 0.5819960\ttest: 0.7533097\tbest: 0.7337170 (30)\ttotal: 1m 55s\tremaining: 41m 40s\n",
            "44:\tlearn: 0.5809214\ttest: 0.7535334\tbest: 0.7337170 (30)\ttotal: 1m 57s\tremaining: 41m 38s\n",
            "45:\tlearn: 0.5802666\ttest: 0.7533225\tbest: 0.7337170 (30)\ttotal: 2m\tremaining: 41m 31s\n",
            "46:\tlearn: 0.5795326\ttest: 0.7543496\tbest: 0.7337170 (30)\ttotal: 2m 2s\tremaining: 41m 18s\n",
            "47:\tlearn: 0.5776204\ttest: 0.7535228\tbest: 0.7337170 (30)\ttotal: 2m 5s\tremaining: 41m 23s\n",
            "48:\tlearn: 0.5767477\ttest: 0.7537918\tbest: 0.7337170 (30)\ttotal: 2m 8s\tremaining: 41m 32s\n",
            "49:\tlearn: 0.5761208\ttest: 0.7537156\tbest: 0.7337170 (30)\ttotal: 2m 11s\tremaining: 41m 29s\n",
            "50:\tlearn: 0.5752479\ttest: 0.7538081\tbest: 0.7337170 (30)\ttotal: 2m 13s\tremaining: 41m 23s\n",
            "51:\tlearn: 0.5747435\ttest: 0.7498743\tbest: 0.7337170 (30)\ttotal: 2m 15s\tremaining: 41m 18s\n",
            "52:\tlearn: 0.5742028\ttest: 0.7496074\tbest: 0.7337170 (30)\ttotal: 2m 18s\tremaining: 41m 9s\n",
            "53:\tlearn: 0.5737942\ttest: 0.7496717\tbest: 0.7337170 (30)\ttotal: 2m 21s\tremaining: 41m 15s\n",
            "54:\tlearn: 0.5727434\ttest: 0.7490086\tbest: 0.7337170 (30)\ttotal: 2m 24s\tremaining: 41m 17s\n",
            "55:\tlearn: 0.5683797\ttest: 0.7505575\tbest: 0.7337170 (30)\ttotal: 2m 26s\tremaining: 41m 17s\n",
            "56:\tlearn: 0.5670841\ttest: 0.7506942\tbest: 0.7337170 (30)\ttotal: 2m 29s\tremaining: 41m 20s\n",
            "57:\tlearn: 0.5662409\ttest: 0.7499499\tbest: 0.7337170 (30)\ttotal: 2m 32s\tremaining: 41m 9s\n",
            "58:\tlearn: 0.5656776\ttest: 0.7495507\tbest: 0.7337170 (30)\ttotal: 2m 34s\tremaining: 41m 10s\n",
            "59:\tlearn: 0.5649243\ttest: 0.7494156\tbest: 0.7337170 (30)\ttotal: 2m 38s\tremaining: 41m 16s\n",
            "60:\tlearn: 0.5645363\ttest: 0.7494623\tbest: 0.7337170 (30)\ttotal: 2m 41s\tremaining: 41m 21s\n",
            "61:\tlearn: 0.5641390\ttest: 0.7493857\tbest: 0.7337170 (30)\ttotal: 2m 43s\tremaining: 41m 13s\n",
            "62:\tlearn: 0.5635114\ttest: 0.7508611\tbest: 0.7337170 (30)\ttotal: 2m 46s\tremaining: 41m 11s\n",
            "63:\tlearn: 0.5607954\ttest: 0.7509518\tbest: 0.7337170 (30)\ttotal: 2m 48s\tremaining: 40m 59s\n",
            "64:\tlearn: 0.5554364\ttest: 0.7534126\tbest: 0.7337170 (30)\ttotal: 2m 51s\tremaining: 41m 3s\n",
            "65:\tlearn: 0.5546519\ttest: 0.7537494\tbest: 0.7337170 (30)\ttotal: 2m 53s\tremaining: 40m 59s\n",
            "66:\tlearn: 0.5539682\ttest: 0.7536706\tbest: 0.7337170 (30)\ttotal: 2m 56s\tremaining: 40m 55s\n",
            "67:\tlearn: 0.5527349\ttest: 0.7540884\tbest: 0.7337170 (30)\ttotal: 2m 59s\tremaining: 40m 57s\n",
            "68:\tlearn: 0.5520002\ttest: 0.7550341\tbest: 0.7337170 (30)\ttotal: 3m 1s\tremaining: 40m 49s\n",
            "69:\tlearn: 0.5514423\ttest: 0.7547534\tbest: 0.7337170 (30)\ttotal: 3m 4s\tremaining: 40m 49s\n",
            "70:\tlearn: 0.5509531\ttest: 0.7550836\tbest: 0.7337170 (30)\ttotal: 3m 7s\tremaining: 40m 51s\n",
            "71:\tlearn: 0.5507132\ttest: 0.7550816\tbest: 0.7337170 (30)\ttotal: 3m 10s\tremaining: 40m 55s\n",
            "72:\tlearn: 0.5504125\ttest: 0.7550863\tbest: 0.7337170 (30)\ttotal: 3m 13s\tremaining: 40m 53s\n",
            "73:\tlearn: 0.5501260\ttest: 0.7550575\tbest: 0.7337170 (30)\ttotal: 3m 15s\tremaining: 40m 49s\n",
            "74:\tlearn: 0.5497342\ttest: 0.7553485\tbest: 0.7337170 (30)\ttotal: 3m 18s\tremaining: 40m 42s\n",
            "75:\tlearn: 0.5493496\ttest: 0.7553542\tbest: 0.7337170 (30)\ttotal: 3m 20s\tremaining: 40m 37s\n",
            "76:\tlearn: 0.5487819\ttest: 0.7550258\tbest: 0.7337170 (30)\ttotal: 3m 23s\tremaining: 40m 41s\n",
            "77:\tlearn: 0.5484447\ttest: 0.7546688\tbest: 0.7337170 (30)\ttotal: 3m 26s\tremaining: 40m 39s\n",
            "78:\tlearn: 0.5481029\ttest: 0.7546106\tbest: 0.7337170 (30)\ttotal: 3m 29s\tremaining: 40m 36s\n",
            "79:\tlearn: 0.5479512\ttest: 0.7546628\tbest: 0.7337170 (30)\ttotal: 3m 31s\tremaining: 40m 33s\n",
            "80:\tlearn: 0.5475180\ttest: 0.7545445\tbest: 0.7337170 (30)\ttotal: 3m 34s\tremaining: 40m 29s\n",
            "81:\tlearn: 0.5473336\ttest: 0.7546422\tbest: 0.7337170 (30)\ttotal: 3m 36s\tremaining: 40m 26s\n",
            "82:\tlearn: 0.5466389\ttest: 0.7557379\tbest: 0.7337170 (30)\ttotal: 3m 39s\tremaining: 40m 26s\n",
            "83:\tlearn: 0.5461368\ttest: 0.7560666\tbest: 0.7337170 (30)\ttotal: 3m 42s\tremaining: 40m 22s\n",
            "84:\tlearn: 0.5453012\ttest: 0.7565052\tbest: 0.7337170 (30)\ttotal: 3m 45s\tremaining: 40m 24s\n",
            "85:\tlearn: 0.5449604\ttest: 0.7574880\tbest: 0.7337170 (30)\ttotal: 3m 47s\tremaining: 40m 19s\n",
            "86:\tlearn: 0.5447121\ttest: 0.7575725\tbest: 0.7337170 (30)\ttotal: 3m 50s\tremaining: 40m 15s\n",
            "87:\tlearn: 0.5442954\ttest: 0.7576852\tbest: 0.7337170 (30)\ttotal: 3m 53s\tremaining: 40m 20s\n",
            "88:\tlearn: 0.5441342\ttest: 0.7575453\tbest: 0.7337170 (30)\ttotal: 3m 57s\tremaining: 40m 27s\n",
            "89:\tlearn: 0.5438433\ttest: 0.7574105\tbest: 0.7337170 (30)\ttotal: 4m\tremaining: 40m 28s\n",
            "90:\tlearn: 0.5432654\ttest: 0.7577734\tbest: 0.7337170 (30)\ttotal: 4m 2s\tremaining: 40m 25s\n",
            "91:\tlearn: 0.5420832\ttest: 0.7578042\tbest: 0.7337170 (30)\ttotal: 4m 5s\tremaining: 40m 20s\n",
            "92:\tlearn: 0.5409162\ttest: 0.7568035\tbest: 0.7337170 (30)\ttotal: 4m 8s\tremaining: 40m 19s\n",
            "93:\tlearn: 0.5406023\ttest: 0.7568081\tbest: 0.7337170 (30)\ttotal: 4m 10s\tremaining: 40m 14s\n",
            "94:\tlearn: 0.5403344\ttest: 0.7580626\tbest: 0.7337170 (30)\ttotal: 4m 13s\tremaining: 40m 10s\n",
            "95:\tlearn: 0.5400530\ttest: 0.7578537\tbest: 0.7337170 (30)\ttotal: 4m 15s\tremaining: 40m 6s\n",
            "96:\tlearn: 0.5397310\ttest: 0.7573357\tbest: 0.7337170 (30)\ttotal: 4m 18s\tremaining: 40m 9s\n",
            "97:\tlearn: 0.5393103\ttest: 0.7574264\tbest: 0.7337170 (30)\ttotal: 4m 21s\tremaining: 40m 7s\n",
            "98:\tlearn: 0.5385823\ttest: 0.7563375\tbest: 0.7337170 (30)\ttotal: 4m 24s\tremaining: 40m 6s\n",
            "99:\tlearn: 0.5382086\ttest: 0.7563343\tbest: 0.7337170 (30)\ttotal: 4m 27s\tremaining: 40m 3s\n",
            "100:\tlearn: 0.5378339\ttest: 0.7563682\tbest: 0.7337170 (30)\ttotal: 4m 29s\tremaining: 40m 2s\n",
            "101:\tlearn: 0.5374330\ttest: 0.7559950\tbest: 0.7337170 (30)\ttotal: 4m 32s\tremaining: 39m 57s\n",
            "102:\tlearn: 0.5372095\ttest: 0.7559183\tbest: 0.7337170 (30)\ttotal: 4m 34s\tremaining: 39m 54s\n",
            "103:\tlearn: 0.5370038\ttest: 0.7558609\tbest: 0.7337170 (30)\ttotal: 4m 37s\tremaining: 39m 52s\n",
            "104:\tlearn: 0.5366763\ttest: 0.7558261\tbest: 0.7337170 (30)\ttotal: 4m 40s\tremaining: 39m 50s\n",
            "105:\tlearn: 0.5357952\ttest: 0.7558208\tbest: 0.7337170 (30)\ttotal: 4m 42s\tremaining: 39m 44s\n",
            "106:\tlearn: 0.5352468\ttest: 0.7554462\tbest: 0.7337170 (30)\ttotal: 4m 44s\tremaining: 39m 38s\n",
            "107:\tlearn: 0.5349147\ttest: 0.7549606\tbest: 0.7337170 (30)\ttotal: 4m 47s\tremaining: 39m 33s\n",
            "108:\tlearn: 0.5347609\ttest: 0.7551503\tbest: 0.7337170 (30)\ttotal: 4m 50s\tremaining: 39m 35s\n",
            "109:\tlearn: 0.5340458\ttest: 0.7577800\tbest: 0.7337170 (30)\ttotal: 4m 53s\tremaining: 39m 33s\n",
            "110:\tlearn: 0.5334721\ttest: 0.7569412\tbest: 0.7337170 (30)\ttotal: 4m 55s\tremaining: 39m 28s\n",
            "111:\tlearn: 0.5327834\ttest: 0.7567325\tbest: 0.7337170 (30)\ttotal: 4m 58s\tremaining: 39m 24s\n",
            "112:\tlearn: 0.5315510\ttest: 0.7576658\tbest: 0.7337170 (30)\ttotal: 5m 1s\tremaining: 39m 22s\n",
            "113:\tlearn: 0.5312986\ttest: 0.7576836\tbest: 0.7337170 (30)\ttotal: 5m 4s\tremaining: 39m 25s\n",
            "114:\tlearn: 0.5309397\ttest: 0.7574475\tbest: 0.7337170 (30)\ttotal: 5m 7s\tremaining: 39m 22s\n",
            "115:\tlearn: 0.5306435\ttest: 0.7576270\tbest: 0.7337170 (30)\ttotal: 5m 9s\tremaining: 39m 22s\n",
            "116:\tlearn: 0.5304682\ttest: 0.7576997\tbest: 0.7337170 (30)\ttotal: 5m 12s\tremaining: 39m 18s\n",
            "117:\tlearn: 0.5302008\ttest: 0.7579747\tbest: 0.7337170 (30)\ttotal: 5m 15s\tremaining: 39m 14s\n",
            "118:\tlearn: 0.5299960\ttest: 0.7589366\tbest: 0.7337170 (30)\ttotal: 5m 17s\tremaining: 39m 10s\n",
            "119:\tlearn: 0.5296699\ttest: 0.7529182\tbest: 0.7337170 (30)\ttotal: 5m 19s\tremaining: 39m 3s\n",
            "120:\tlearn: 0.5294088\ttest: 0.7527477\tbest: 0.7337170 (30)\ttotal: 5m 21s\tremaining: 38m 58s\n",
            "121:\tlearn: 0.5292208\ttest: 0.7532042\tbest: 0.7337170 (30)\ttotal: 5m 24s\tremaining: 38m 55s\n",
            "122:\tlearn: 0.5288552\ttest: 0.7526673\tbest: 0.7337170 (30)\ttotal: 5m 27s\tremaining: 38m 57s\n",
            "123:\tlearn: 0.5287679\ttest: 0.7526327\tbest: 0.7337170 (30)\ttotal: 5m 30s\tremaining: 38m 55s\n",
            "124:\tlearn: 0.5284324\ttest: 0.7524513\tbest: 0.7337170 (30)\ttotal: 5m 33s\tremaining: 38m 52s\n",
            "125:\tlearn: 0.5282714\ttest: 0.7525601\tbest: 0.7337170 (30)\ttotal: 5m 35s\tremaining: 38m 49s\n",
            "126:\tlearn: 0.5277195\ttest: 0.7524837\tbest: 0.7337170 (30)\ttotal: 5m 38s\tremaining: 38m 44s\n",
            "127:\tlearn: 0.5274736\ttest: 0.7524342\tbest: 0.7337170 (30)\ttotal: 5m 40s\tremaining: 38m 40s\n",
            "128:\tlearn: 0.5272418\ttest: 0.7524203\tbest: 0.7337170 (30)\ttotal: 5m 43s\tremaining: 38m 40s\n",
            "129:\tlearn: 0.5267723\ttest: 0.7526320\tbest: 0.7337170 (30)\ttotal: 5m 46s\tremaining: 38m 39s\n",
            "130:\tlearn: 0.5266666\ttest: 0.7524748\tbest: 0.7337170 (30)\ttotal: 5m 49s\tremaining: 38m 37s\n",
            "131:\tlearn: 0.5265093\ttest: 0.7521919\tbest: 0.7337170 (30)\ttotal: 5m 51s\tremaining: 38m 34s\n",
            "132:\tlearn: 0.5262681\ttest: 0.7516651\tbest: 0.7337170 (30)\ttotal: 5m 55s\tremaining: 38m 36s\n",
            "133:\tlearn: 0.5261244\ttest: 0.7518701\tbest: 0.7337170 (30)\ttotal: 5m 58s\tremaining: 38m 38s\n",
            "134:\tlearn: 0.5259670\ttest: 0.7513874\tbest: 0.7337170 (30)\ttotal: 6m 1s\tremaining: 38m 38s\n",
            "135:\tlearn: 0.5256804\ttest: 0.7493168\tbest: 0.7337170 (30)\ttotal: 6m 4s\tremaining: 38m 36s\n",
            "136:\tlearn: 0.5246624\ttest: 0.7491112\tbest: 0.7337170 (30)\ttotal: 6m 8s\tremaining: 38m 40s\n",
            "137:\tlearn: 0.5244813\ttest: 0.7490465\tbest: 0.7337170 (30)\ttotal: 6m 11s\tremaining: 38m 43s\n",
            "138:\tlearn: 0.5242029\ttest: 0.7492641\tbest: 0.7337170 (30)\ttotal: 6m 14s\tremaining: 38m 41s\n",
            "139:\tlearn: 0.5217147\ttest: 0.7495368\tbest: 0.7337170 (30)\ttotal: 6m 18s\tremaining: 38m 43s\n",
            "140:\tlearn: 0.5212289\ttest: 0.7494090\tbest: 0.7337170 (30)\ttotal: 6m 21s\tremaining: 38m 41s\n",
            "141:\tlearn: 0.5206918\ttest: 0.7494550\tbest: 0.7337170 (30)\ttotal: 6m 24s\tremaining: 38m 40s\n",
            "142:\tlearn: 0.5205127\ttest: 0.7494466\tbest: 0.7337170 (30)\ttotal: 6m 28s\tremaining: 38m 45s\n",
            "143:\tlearn: 0.5201762\ttest: 0.7494289\tbest: 0.7337170 (30)\ttotal: 6m 30s\tremaining: 38m 43s\n",
            "144:\tlearn: 0.5200523\ttest: 0.7493945\tbest: 0.7337170 (30)\ttotal: 6m 33s\tremaining: 38m 40s\n",
            "145:\tlearn: 0.5198495\ttest: 0.7490340\tbest: 0.7337170 (30)\ttotal: 6m 36s\tremaining: 38m 37s\n",
            "146:\tlearn: 0.5195974\ttest: 0.7490950\tbest: 0.7337170 (30)\ttotal: 6m 38s\tremaining: 38m 33s\n",
            "147:\tlearn: 0.5194340\ttest: 0.7490094\tbest: 0.7337170 (30)\ttotal: 6m 40s\tremaining: 38m 28s\n",
            "148:\tlearn: 0.5191501\ttest: 0.7490050\tbest: 0.7337170 (30)\ttotal: 6m 43s\tremaining: 38m 22s\n",
            "149:\tlearn: 0.5189838\ttest: 0.7489592\tbest: 0.7337170 (30)\ttotal: 6m 45s\tremaining: 38m 18s\n",
            "150:\tlearn: 0.5186353\ttest: 0.7482216\tbest: 0.7337170 (30)\ttotal: 6m 48s\tremaining: 38m 15s\n",
            "151:\tlearn: 0.5185072\ttest: 0.7482006\tbest: 0.7337170 (30)\ttotal: 6m 50s\tremaining: 38m 11s\n",
            "152:\tlearn: 0.5182704\ttest: 0.7480340\tbest: 0.7337170 (30)\ttotal: 6m 53s\tremaining: 38m 7s\n",
            "153:\tlearn: 0.5179832\ttest: 0.7480037\tbest: 0.7337170 (30)\ttotal: 6m 56s\tremaining: 38m 5s\n",
            "154:\tlearn: 0.5178343\ttest: 0.7480864\tbest: 0.7337170 (30)\ttotal: 6m 58s\tremaining: 38m 3s\n",
            "155:\tlearn: 0.5176313\ttest: 0.7481300\tbest: 0.7337170 (30)\ttotal: 7m 1s\tremaining: 37m 59s\n",
            "156:\tlearn: 0.5174561\ttest: 0.7480316\tbest: 0.7337170 (30)\ttotal: 7m 3s\tremaining: 37m 55s\n",
            "157:\tlearn: 0.5172842\ttest: 0.7480027\tbest: 0.7337170 (30)\ttotal: 7m 6s\tremaining: 37m 50s\n",
            "158:\tlearn: 0.5168778\ttest: 0.7481709\tbest: 0.7337170 (30)\ttotal: 7m 9s\tremaining: 37m 50s\n",
            "159:\tlearn: 0.5165504\ttest: 0.7482572\tbest: 0.7337170 (30)\ttotal: 7m 12s\tremaining: 37m 50s\n",
            "160:\tlearn: 0.5163185\ttest: 0.7483908\tbest: 0.7337170 (30)\ttotal: 7m 14s\tremaining: 37m 46s\n",
            "161:\tlearn: 0.5161147\ttest: 0.7483829\tbest: 0.7337170 (30)\ttotal: 7m 17s\tremaining: 37m 43s\n",
            "162:\tlearn: 0.5155949\ttest: 0.7479670\tbest: 0.7337170 (30)\ttotal: 7m 19s\tremaining: 37m 39s\n",
            "163:\tlearn: 0.5152867\ttest: 0.7483428\tbest: 0.7337170 (30)\ttotal: 7m 22s\tremaining: 37m 35s\n",
            "164:\tlearn: 0.5150495\ttest: 0.7484113\tbest: 0.7337170 (30)\ttotal: 7m 25s\tremaining: 37m 34s\n",
            "165:\tlearn: 0.5149099\ttest: 0.7491306\tbest: 0.7337170 (30)\ttotal: 7m 28s\tremaining: 37m 31s\n",
            "166:\tlearn: 0.5148094\ttest: 0.7490839\tbest: 0.7337170 (30)\ttotal: 7m 30s\tremaining: 37m 29s\n",
            "167:\tlearn: 0.5146605\ttest: 0.7485565\tbest: 0.7337170 (30)\ttotal: 7m 33s\tremaining: 37m 25s\n",
            "168:\tlearn: 0.5144209\ttest: 0.7485458\tbest: 0.7337170 (30)\ttotal: 7m 35s\tremaining: 37m 21s\n",
            "169:\tlearn: 0.5142321\ttest: 0.7484979\tbest: 0.7337170 (30)\ttotal: 7m 38s\tremaining: 37m 17s\n",
            "170:\tlearn: 0.5140957\ttest: 0.7484294\tbest: 0.7337170 (30)\ttotal: 7m 40s\tremaining: 37m 14s\n",
            "171:\tlearn: 0.5138545\ttest: 0.7484192\tbest: 0.7337170 (30)\ttotal: 7m 43s\tremaining: 37m 10s\n",
            "172:\tlearn: 0.5137775\ttest: 0.7483885\tbest: 0.7337170 (30)\ttotal: 7m 46s\tremaining: 37m 9s\n",
            "173:\tlearn: 0.5136630\ttest: 0.7484924\tbest: 0.7337170 (30)\ttotal: 7m 49s\tremaining: 37m 8s\n",
            "174:\tlearn: 0.5134726\ttest: 0.7483478\tbest: 0.7337170 (30)\ttotal: 7m 52s\tremaining: 37m 6s\n",
            "175:\tlearn: 0.5132600\ttest: 0.7484479\tbest: 0.7337170 (30)\ttotal: 7m 54s\tremaining: 37m 3s\n",
            "176:\tlearn: 0.5130386\ttest: 0.7484275\tbest: 0.7337170 (30)\ttotal: 7m 57s\tremaining: 36m 59s\n",
            "177:\tlearn: 0.5128718\ttest: 0.7484486\tbest: 0.7337170 (30)\ttotal: 8m\tremaining: 36m 57s\n",
            "178:\tlearn: 0.5127704\ttest: 0.7484882\tbest: 0.7337170 (30)\ttotal: 8m 2s\tremaining: 36m 54s\n",
            "179:\tlearn: 0.5122449\ttest: 0.7486491\tbest: 0.7337170 (30)\ttotal: 8m 6s\tremaining: 36m 57s\n",
            "180:\tlearn: 0.5119574\ttest: 0.7486444\tbest: 0.7337170 (30)\ttotal: 8m 9s\tremaining: 36m 53s\n",
            "181:\tlearn: 0.5117487\ttest: 0.7489495\tbest: 0.7337170 (30)\ttotal: 8m 11s\tremaining: 36m 50s\n",
            "182:\tlearn: 0.5115720\ttest: 0.7497840\tbest: 0.7337170 (30)\ttotal: 8m 14s\tremaining: 36m 47s\n",
            "183:\tlearn: 0.5114070\ttest: 0.7498586\tbest: 0.7337170 (30)\ttotal: 8m 16s\tremaining: 36m 43s\n",
            "184:\tlearn: 0.5111214\ttest: 0.7500508\tbest: 0.7337170 (30)\ttotal: 8m 19s\tremaining: 36m 39s\n",
            "185:\tlearn: 0.5108109\ttest: 0.7500930\tbest: 0.7337170 (30)\ttotal: 8m 21s\tremaining: 36m 36s\n",
            "186:\tlearn: 0.5106789\ttest: 0.7501125\tbest: 0.7337170 (30)\ttotal: 8m 24s\tremaining: 36m 33s\n",
            "187:\tlearn: 0.5104280\ttest: 0.7503384\tbest: 0.7337170 (30)\ttotal: 8m 27s\tremaining: 36m 32s\n",
            "188:\tlearn: 0.5101960\ttest: 0.7501281\tbest: 0.7337170 (30)\ttotal: 8m 30s\tremaining: 36m 31s\n",
            "189:\tlearn: 0.5100117\ttest: 0.7499512\tbest: 0.7337170 (30)\ttotal: 8m 32s\tremaining: 36m 25s\n",
            "190:\tlearn: 0.5096699\ttest: 0.7497699\tbest: 0.7337170 (30)\ttotal: 8m 35s\tremaining: 36m 25s\n",
            "191:\tlearn: 0.5095092\ttest: 0.7497992\tbest: 0.7337170 (30)\ttotal: 8m 38s\tremaining: 36m 22s\n",
            "192:\tlearn: 0.5093424\ttest: 0.7499593\tbest: 0.7337170 (30)\ttotal: 8m 41s\tremaining: 36m 21s\n",
            "193:\tlearn: 0.5091950\ttest: 0.7499806\tbest: 0.7337170 (30)\ttotal: 8m 44s\tremaining: 36m 17s\n",
            "194:\tlearn: 0.5089586\ttest: 0.7501161\tbest: 0.7337170 (30)\ttotal: 8m 46s\tremaining: 36m 14s\n",
            "195:\tlearn: 0.5084202\ttest: 0.7502918\tbest: 0.7337170 (30)\ttotal: 8m 49s\tremaining: 36m 13s\n",
            "196:\tlearn: 0.5079033\ttest: 0.7489486\tbest: 0.7337170 (30)\ttotal: 8m 52s\tremaining: 36m 11s\n",
            "197:\tlearn: 0.5077256\ttest: 0.7490160\tbest: 0.7337170 (30)\ttotal: 8m 55s\tremaining: 36m 7s\n",
            "198:\tlearn: 0.5075966\ttest: 0.7492321\tbest: 0.7337170 (30)\ttotal: 8m 57s\tremaining: 36m 4s\n",
            "199:\tlearn: 0.5074271\ttest: 0.7492078\tbest: 0.7337170 (30)\ttotal: 9m\tremaining: 36m 3s\n",
            "200:\tlearn: 0.5071041\ttest: 0.7490997\tbest: 0.7337170 (30)\ttotal: 9m 3s\tremaining: 36m 1s\n",
            "201:\tlearn: 0.5069472\ttest: 0.7491672\tbest: 0.7337170 (30)\ttotal: 9m 6s\tremaining: 35m 57s\n",
            "202:\tlearn: 0.5061015\ttest: 0.7477291\tbest: 0.7337170 (30)\ttotal: 9m 9s\tremaining: 35m 57s\n",
            "203:\tlearn: 0.5059244\ttest: 0.7476754\tbest: 0.7337170 (30)\ttotal: 9m 12s\tremaining: 35m 54s\n",
            "204:\tlearn: 0.5056075\ttest: 0.7475228\tbest: 0.7337170 (30)\ttotal: 9m 14s\tremaining: 35m 50s\n",
            "205:\tlearn: 0.5052633\ttest: 0.7479303\tbest: 0.7337170 (30)\ttotal: 9m 17s\tremaining: 35m 48s\n",
            "206:\tlearn: 0.5046758\ttest: 0.7498147\tbest: 0.7337170 (30)\ttotal: 9m 19s\tremaining: 35m 44s\n",
            "207:\tlearn: 0.5041122\ttest: 0.7500792\tbest: 0.7337170 (30)\ttotal: 9m 21s\tremaining: 35m 37s\n",
            "208:\tlearn: 0.5040122\ttest: 0.7501777\tbest: 0.7337170 (30)\ttotal: 9m 24s\tremaining: 35m 37s\n",
            "209:\tlearn: 0.5038473\ttest: 0.7499591\tbest: 0.7337170 (30)\ttotal: 9m 27s\tremaining: 35m 34s\n",
            "210:\tlearn: 0.5037040\ttest: 0.7498784\tbest: 0.7337170 (30)\ttotal: 9m 30s\tremaining: 35m 34s\n",
            "211:\tlearn: 0.5035577\ttest: 0.7501425\tbest: 0.7337170 (30)\ttotal: 9m 33s\tremaining: 35m 30s\n",
            "212:\tlearn: 0.5033879\ttest: 0.7504010\tbest: 0.7337170 (30)\ttotal: 9m 35s\tremaining: 35m 24s\n",
            "213:\tlearn: 0.5032197\ttest: 0.7502022\tbest: 0.7337170 (30)\ttotal: 9m 37s\tremaining: 35m 21s\n",
            "214:\tlearn: 0.5030207\ttest: 0.7502008\tbest: 0.7337170 (30)\ttotal: 9m 40s\tremaining: 35m 18s\n",
            "215:\tlearn: 0.5028172\ttest: 0.7499655\tbest: 0.7337170 (30)\ttotal: 9m 43s\tremaining: 35m 16s\n",
            "216:\tlearn: 0.5026466\ttest: 0.7498876\tbest: 0.7337170 (30)\ttotal: 9m 45s\tremaining: 35m 12s\n",
            "217:\tlearn: 0.5024301\ttest: 0.7499127\tbest: 0.7337170 (30)\ttotal: 9m 47s\tremaining: 35m 8s\n",
            "218:\tlearn: 0.5021498\ttest: 0.7497268\tbest: 0.7337170 (30)\ttotal: 9m 50s\tremaining: 35m 5s\n",
            "219:\tlearn: 0.5020895\ttest: 0.7497851\tbest: 0.7337170 (30)\ttotal: 9m 52s\tremaining: 35m 1s\n",
            "220:\tlearn: 0.5015062\ttest: 0.7502945\tbest: 0.7337170 (30)\ttotal: 9m 55s\tremaining: 34m 59s\n",
            "221:\tlearn: 0.5013748\ttest: 0.7503449\tbest: 0.7337170 (30)\ttotal: 9m 58s\tremaining: 34m 57s\n",
            "222:\tlearn: 0.5012160\ttest: 0.7503197\tbest: 0.7337170 (30)\ttotal: 10m 1s\tremaining: 34m 54s\n",
            "223:\tlearn: 0.5010745\ttest: 0.7503940\tbest: 0.7337170 (30)\ttotal: 10m 3s\tremaining: 34m 50s\n",
            "224:\tlearn: 0.5007198\ttest: 0.7503700\tbest: 0.7337170 (30)\ttotal: 10m 7s\tremaining: 34m 50s\n",
            "225:\tlearn: 0.5004579\ttest: 0.7503519\tbest: 0.7337170 (30)\ttotal: 10m 10s\tremaining: 34m 49s\n",
            "226:\tlearn: 0.5003090\ttest: 0.7504666\tbest: 0.7337170 (30)\ttotal: 10m 12s\tremaining: 34m 46s\n",
            "227:\tlearn: 0.5002012\ttest: 0.7507626\tbest: 0.7337170 (30)\ttotal: 10m 15s\tremaining: 34m 45s\n",
            "228:\tlearn: 0.5000980\ttest: 0.7507731\tbest: 0.7337170 (30)\ttotal: 10m 18s\tremaining: 34m 42s\n",
            "229:\tlearn: 0.5000359\ttest: 0.7507509\tbest: 0.7337170 (30)\ttotal: 10m 21s\tremaining: 34m 39s\n",
            "230:\tlearn: 0.4999281\ttest: 0.7510281\tbest: 0.7337170 (30)\ttotal: 10m 23s\tremaining: 34m 36s\n",
            "231:\tlearn: 0.4997142\ttest: 0.7511305\tbest: 0.7337170 (30)\ttotal: 10m 26s\tremaining: 34m 32s\n",
            "232:\tlearn: 0.4986196\ttest: 0.7514719\tbest: 0.7337170 (30)\ttotal: 10m 28s\tremaining: 34m 29s\n",
            "233:\tlearn: 0.4985344\ttest: 0.7514549\tbest: 0.7337170 (30)\ttotal: 10m 31s\tremaining: 34m 28s\n",
            "234:\tlearn: 0.4983188\ttest: 0.7518313\tbest: 0.7337170 (30)\ttotal: 10m 34s\tremaining: 34m 24s\n",
            "235:\tlearn: 0.4981245\ttest: 0.7517851\tbest: 0.7337170 (30)\ttotal: 10m 37s\tremaining: 34m 22s\n",
            "236:\tlearn: 0.4980430\ttest: 0.7519148\tbest: 0.7337170 (30)\ttotal: 10m 39s\tremaining: 34m 18s\n",
            "237:\tlearn: 0.4977238\ttest: 0.7522534\tbest: 0.7337170 (30)\ttotal: 10m 41s\tremaining: 34m 14s\n",
            "238:\tlearn: 0.4975668\ttest: 0.7522397\tbest: 0.7337170 (30)\ttotal: 10m 44s\tremaining: 34m 11s\n",
            "239:\tlearn: 0.4973515\ttest: 0.7523936\tbest: 0.7337170 (30)\ttotal: 10m 46s\tremaining: 34m 8s\n",
            "240:\tlearn: 0.4972410\ttest: 0.7524308\tbest: 0.7337170 (30)\ttotal: 10m 49s\tremaining: 34m 5s\n",
            "241:\tlearn: 0.4971340\ttest: 0.7524403\tbest: 0.7337170 (30)\ttotal: 10m 51s\tremaining: 34m 1s\n",
            "242:\tlearn: 0.4969392\ttest: 0.7525467\tbest: 0.7337170 (30)\ttotal: 10m 54s\tremaining: 33m 58s\n",
            "243:\tlearn: 0.4967961\ttest: 0.7525743\tbest: 0.7337170 (30)\ttotal: 10m 56s\tremaining: 33m 54s\n",
            "244:\tlearn: 0.4966522\ttest: 0.7526281\tbest: 0.7337170 (30)\ttotal: 10m 59s\tremaining: 33m 52s\n",
            "245:\tlearn: 0.4965738\ttest: 0.7519073\tbest: 0.7337170 (30)\ttotal: 11m 2s\tremaining: 33m 50s\n",
            "246:\tlearn: 0.4964857\ttest: 0.7518669\tbest: 0.7337170 (30)\ttotal: 11m 5s\tremaining: 33m 47s\n",
            "247:\tlearn: 0.4960849\ttest: 0.7521560\tbest: 0.7337170 (30)\ttotal: 11m 7s\tremaining: 33m 45s\n",
            "248:\tlearn: 0.4959007\ttest: 0.7521497\tbest: 0.7337170 (30)\ttotal: 11m 10s\tremaining: 33m 41s\n",
            "249:\tlearn: 0.4957454\ttest: 0.7520222\tbest: 0.7337170 (30)\ttotal: 11m 14s\tremaining: 33m 43s\n",
            "250:\tlearn: 0.4955856\ttest: 0.7518834\tbest: 0.7337170 (30)\ttotal: 11m 17s\tremaining: 33m 40s\n",
            "251:\tlearn: 0.4954429\ttest: 0.7519283\tbest: 0.7337170 (30)\ttotal: 11m 19s\tremaining: 33m 36s\n",
            "252:\tlearn: 0.4951733\ttest: 0.7520712\tbest: 0.7337170 (30)\ttotal: 11m 21s\tremaining: 33m 33s\n",
            "253:\tlearn: 0.4950062\ttest: 0.7521165\tbest: 0.7337170 (30)\ttotal: 11m 25s\tremaining: 33m 32s\n",
            "254:\tlearn: 0.4945057\ttest: 0.7526120\tbest: 0.7337170 (30)\ttotal: 11m 27s\tremaining: 33m 29s\n",
            "255:\tlearn: 0.4943726\ttest: 0.7526240\tbest: 0.7337170 (30)\ttotal: 11m 30s\tremaining: 33m 27s\n",
            "256:\tlearn: 0.4942120\ttest: 0.7527455\tbest: 0.7337170 (30)\ttotal: 11m 33s\tremaining: 33m 23s\n",
            "257:\tlearn: 0.4940923\ttest: 0.7528556\tbest: 0.7337170 (30)\ttotal: 11m 35s\tremaining: 33m 20s\n",
            "258:\tlearn: 0.4936053\ttest: 0.7529377\tbest: 0.7337170 (30)\ttotal: 11m 38s\tremaining: 33m 17s\n",
            "259:\tlearn: 0.4934333\ttest: 0.7529869\tbest: 0.7337170 (30)\ttotal: 11m 40s\tremaining: 33m 14s\n",
            "260:\tlearn: 0.4932491\ttest: 0.7528747\tbest: 0.7337170 (30)\ttotal: 11m 43s\tremaining: 33m 10s\n",
            "261:\tlearn: 0.4930918\ttest: 0.7528256\tbest: 0.7337170 (30)\ttotal: 11m 45s\tremaining: 33m 7s\n",
            "262:\tlearn: 0.4929844\ttest: 0.7527973\tbest: 0.7337170 (30)\ttotal: 11m 48s\tremaining: 33m 5s\n",
            "263:\tlearn: 0.4929419\ttest: 0.7527904\tbest: 0.7337170 (30)\ttotal: 11m 51s\tremaining: 33m 4s\n",
            "264:\tlearn: 0.4928183\ttest: 0.7527863\tbest: 0.7337170 (30)\ttotal: 11m 54s\tremaining: 33m 1s\n",
            "265:\tlearn: 0.4925383\ttest: 0.7525738\tbest: 0.7337170 (30)\ttotal: 11m 57s\tremaining: 32m 59s\n",
            "266:\tlearn: 0.4923699\ttest: 0.7526129\tbest: 0.7337170 (30)\ttotal: 12m\tremaining: 32m 56s\n",
            "267:\tlearn: 0.4921916\ttest: 0.7522465\tbest: 0.7337170 (30)\ttotal: 12m 2s\tremaining: 32m 52s\n",
            "268:\tlearn: 0.4920297\ttest: 0.7524883\tbest: 0.7337170 (30)\ttotal: 12m 4s\tremaining: 32m 49s\n",
            "269:\tlearn: 0.4918601\ttest: 0.7524730\tbest: 0.7337170 (30)\ttotal: 12m 7s\tremaining: 32m 47s\n",
            "270:\tlearn: 0.4917436\ttest: 0.7524611\tbest: 0.7337170 (30)\ttotal: 12m 10s\tremaining: 32m 44s\n",
            "271:\tlearn: 0.4916437\ttest: 0.7524136\tbest: 0.7337170 (30)\ttotal: 12m 12s\tremaining: 32m 41s\n",
            "272:\tlearn: 0.4914427\ttest: 0.7523764\tbest: 0.7337170 (30)\ttotal: 12m 15s\tremaining: 32m 38s\n",
            "273:\tlearn: 0.4912792\ttest: 0.7523462\tbest: 0.7337170 (30)\ttotal: 12m 18s\tremaining: 32m 37s\n",
            "274:\tlearn: 0.4911322\ttest: 0.7523155\tbest: 0.7337170 (30)\ttotal: 12m 21s\tremaining: 32m 33s\n",
            "275:\tlearn: 0.4909824\ttest: 0.7522935\tbest: 0.7337170 (30)\ttotal: 12m 23s\tremaining: 32m 30s\n",
            "276:\tlearn: 0.4908655\ttest: 0.7522780\tbest: 0.7337170 (30)\ttotal: 12m 25s\tremaining: 32m 26s\n",
            "277:\tlearn: 0.4907284\ttest: 0.7524945\tbest: 0.7337170 (30)\ttotal: 12m 28s\tremaining: 32m 23s\n",
            "278:\tlearn: 0.4906239\ttest: 0.7550908\tbest: 0.7337170 (30)\ttotal: 12m 30s\tremaining: 32m 19s\n",
            "279:\tlearn: 0.4902708\ttest: 0.7558342\tbest: 0.7337170 (30)\ttotal: 12m 33s\tremaining: 32m 17s\n",
            "280:\tlearn: 0.4900814\ttest: 0.7558361\tbest: 0.7337170 (30)\ttotal: 12m 36s\tremaining: 32m 14s\n",
            "281:\tlearn: 0.4899852\ttest: 0.7558151\tbest: 0.7337170 (30)\ttotal: 12m 38s\tremaining: 32m 11s\n",
            "282:\tlearn: 0.4894440\ttest: 0.7561829\tbest: 0.7337170 (30)\ttotal: 12m 40s\tremaining: 32m 7s\n",
            "283:\tlearn: 0.4892808\ttest: 0.7560797\tbest: 0.7337170 (30)\ttotal: 12m 43s\tremaining: 32m 3s\n",
            "284:\tlearn: 0.4891747\ttest: 0.7560299\tbest: 0.7337170 (30)\ttotal: 12m 45s\tremaining: 32m\n",
            "285:\tlearn: 0.4889209\ttest: 0.7560644\tbest: 0.7337170 (30)\ttotal: 12m 48s\tremaining: 31m 58s\n",
            "286:\tlearn: 0.4882319\ttest: 0.7557504\tbest: 0.7337170 (30)\ttotal: 12m 51s\tremaining: 31m 56s\n",
            "287:\tlearn: 0.4874093\ttest: 0.7588480\tbest: 0.7337170 (30)\ttotal: 12m 54s\tremaining: 31m 55s\n",
            "288:\tlearn: 0.4872700\ttest: 0.7588463\tbest: 0.7337170 (30)\ttotal: 12m 57s\tremaining: 31m 52s\n",
            "289:\tlearn: 0.4870858\ttest: 0.7587906\tbest: 0.7337170 (30)\ttotal: 12m 59s\tremaining: 31m 49s\n",
            "290:\tlearn: 0.4868627\ttest: 0.7585988\tbest: 0.7337170 (30)\ttotal: 13m 3s\tremaining: 31m 49s\n",
            "291:\tlearn: 0.4867069\ttest: 0.7574453\tbest: 0.7337170 (30)\ttotal: 13m 5s\tremaining: 31m 45s\n",
            "292:\tlearn: 0.4865671\ttest: 0.7574799\tbest: 0.7337170 (30)\ttotal: 13m 8s\tremaining: 31m 42s\n",
            "293:\tlearn: 0.4863592\ttest: 0.7574793\tbest: 0.7337170 (30)\ttotal: 13m 11s\tremaining: 31m 40s\n",
            "294:\tlearn: 0.4862755\ttest: 0.7574704\tbest: 0.7337170 (30)\ttotal: 13m 13s\tremaining: 31m 36s\n",
            "295:\tlearn: 0.4861631\ttest: 0.7574260\tbest: 0.7337170 (30)\ttotal: 13m 16s\tremaining: 31m 33s\n",
            "296:\tlearn: 0.4860598\ttest: 0.7574661\tbest: 0.7337170 (30)\ttotal: 13m 18s\tremaining: 31m 30s\n",
            "297:\tlearn: 0.4859579\ttest: 0.7575104\tbest: 0.7337170 (30)\ttotal: 13m 20s\tremaining: 31m 25s\n",
            "298:\tlearn: 0.4858371\ttest: 0.7576194\tbest: 0.7337170 (30)\ttotal: 13m 22s\tremaining: 31m 22s\n",
            "299:\tlearn: 0.4856818\ttest: 0.7569515\tbest: 0.7337170 (30)\ttotal: 13m 25s\tremaining: 31m 18s\n",
            "300:\tlearn: 0.4855667\ttest: 0.7570690\tbest: 0.7337170 (30)\ttotal: 13m 28s\tremaining: 31m 16s\n",
            "301:\tlearn: 0.4854471\ttest: 0.7570229\tbest: 0.7337170 (30)\ttotal: 13m 30s\tremaining: 31m 12s\n",
            "302:\tlearn: 0.4851569\ttest: 0.7569507\tbest: 0.7337170 (30)\ttotal: 13m 33s\tremaining: 31m 11s\n",
            "303:\tlearn: 0.4850453\ttest: 0.7569840\tbest: 0.7337170 (30)\ttotal: 13m 35s\tremaining: 31m 8s\n",
            "304:\tlearn: 0.4849754\ttest: 0.7569832\tbest: 0.7337170 (30)\ttotal: 13m 38s\tremaining: 31m 4s\n",
            "305:\tlearn: 0.4848846\ttest: 0.7570295\tbest: 0.7337170 (30)\ttotal: 13m 41s\tremaining: 31m 3s\n",
            "306:\tlearn: 0.4846942\ttest: 0.7568524\tbest: 0.7337170 (30)\ttotal: 13m 44s\tremaining: 31m\n",
            "307:\tlearn: 0.4845801\ttest: 0.7568143\tbest: 0.7337170 (30)\ttotal: 13m 46s\tremaining: 30m 57s\n",
            "308:\tlearn: 0.4844888\ttest: 0.7569208\tbest: 0.7337170 (30)\ttotal: 13m 48s\tremaining: 30m 53s\n",
            "309:\tlearn: 0.4843907\ttest: 0.7569340\tbest: 0.7337170 (30)\ttotal: 13m 51s\tremaining: 30m 50s\n",
            "310:\tlearn: 0.4842683\ttest: 0.7573197\tbest: 0.7337170 (30)\ttotal: 13m 53s\tremaining: 30m 47s\n",
            "311:\tlearn: 0.4841605\ttest: 0.7573550\tbest: 0.7337170 (30)\ttotal: 13m 56s\tremaining: 30m 43s\n",
            "312:\tlearn: 0.4840322\ttest: 0.7574502\tbest: 0.7337170 (30)\ttotal: 13m 58s\tremaining: 30m 41s\n",
            "313:\tlearn: 0.4838501\ttest: 0.7570307\tbest: 0.7337170 (30)\ttotal: 14m 1s\tremaining: 30m 37s\n",
            "314:\tlearn: 0.4836538\ttest: 0.7577142\tbest: 0.7337170 (30)\ttotal: 14m 3s\tremaining: 30m 35s\n",
            "315:\tlearn: 0.4833893\ttest: 0.7579553\tbest: 0.7337170 (30)\ttotal: 14m 6s\tremaining: 30m 32s\n",
            "316:\tlearn: 0.4832629\ttest: 0.7579988\tbest: 0.7337170 (30)\ttotal: 14m 9s\tremaining: 30m 29s\n",
            "317:\tlearn: 0.4831944\ttest: 0.7581113\tbest: 0.7337170 (30)\ttotal: 14m 11s\tremaining: 30m 26s\n",
            "318:\tlearn: 0.4831143\ttest: 0.7580792\tbest: 0.7337170 (30)\ttotal: 14m 14s\tremaining: 30m 24s\n",
            "319:\tlearn: 0.4827140\ttest: 0.7605766\tbest: 0.7337170 (30)\ttotal: 14m 17s\tremaining: 30m 21s\n",
            "320:\tlearn: 0.4826200\ttest: 0.7605287\tbest: 0.7337170 (30)\ttotal: 14m 19s\tremaining: 30m 18s\n",
            "321:\tlearn: 0.4824913\ttest: 0.7605038\tbest: 0.7337170 (30)\ttotal: 14m 22s\tremaining: 30m 15s\n",
            "322:\tlearn: 0.4823193\ttest: 0.7605213\tbest: 0.7337170 (30)\ttotal: 14m 24s\tremaining: 30m 11s\n",
            "323:\tlearn: 0.4822161\ttest: 0.7605116\tbest: 0.7337170 (30)\ttotal: 14m 26s\tremaining: 30m 8s\n",
            "324:\tlearn: 0.4820974\ttest: 0.7605507\tbest: 0.7337170 (30)\ttotal: 14m 29s\tremaining: 30m 5s\n",
            "325:\tlearn: 0.4820312\ttest: 0.7603869\tbest: 0.7337170 (30)\ttotal: 14m 32s\tremaining: 30m 2s\n",
            "326:\tlearn: 0.4819231\ttest: 0.7602421\tbest: 0.7337170 (30)\ttotal: 14m 34s\tremaining: 29m 59s\n",
            "327:\tlearn: 0.4818067\ttest: 0.7602793\tbest: 0.7337170 (30)\ttotal: 14m 37s\tremaining: 29m 57s\n",
            "328:\tlearn: 0.4817156\ttest: 0.7602226\tbest: 0.7337170 (30)\ttotal: 14m 41s\tremaining: 29m 56s\n",
            "329:\tlearn: 0.4815351\ttest: 0.7600547\tbest: 0.7337170 (30)\ttotal: 14m 43s\tremaining: 29m 54s\n",
            "330:\tlearn: 0.4814675\ttest: 0.7599571\tbest: 0.7337170 (30)\ttotal: 14m 46s\tremaining: 29m 51s\n",
            "331:\tlearn: 0.4813386\ttest: 0.7599352\tbest: 0.7337170 (30)\ttotal: 14m 48s\tremaining: 29m 48s\n",
            "332:\tlearn: 0.4812137\ttest: 0.7600224\tbest: 0.7337170 (30)\ttotal: 14m 51s\tremaining: 29m 46s\n",
            "333:\tlearn: 0.4810202\ttest: 0.7599848\tbest: 0.7337170 (30)\ttotal: 14m 54s\tremaining: 29m 43s\n",
            "334:\tlearn: 0.4809359\ttest: 0.7599720\tbest: 0.7337170 (30)\ttotal: 14m 56s\tremaining: 29m 39s\n",
            "335:\tlearn: 0.4808284\ttest: 0.7600302\tbest: 0.7337170 (30)\ttotal: 15m\tremaining: 29m 39s\n",
            "336:\tlearn: 0.4807474\ttest: 0.7600403\tbest: 0.7337170 (30)\ttotal: 15m 3s\tremaining: 29m 37s\n",
            "337:\tlearn: 0.4805604\ttest: 0.7597231\tbest: 0.7337170 (30)\ttotal: 15m 6s\tremaining: 29m 34s\n",
            "338:\tlearn: 0.4804982\ttest: 0.7597458\tbest: 0.7337170 (30)\ttotal: 15m 8s\tremaining: 29m 31s\n",
            "339:\tlearn: 0.4804188\ttest: 0.7597434\tbest: 0.7337170 (30)\ttotal: 15m 11s\tremaining: 29m 29s\n",
            "340:\tlearn: 0.4803206\ttest: 0.7598442\tbest: 0.7337170 (30)\ttotal: 15m 14s\tremaining: 29m 26s\n",
            "341:\tlearn: 0.4802205\ttest: 0.7587930\tbest: 0.7337170 (30)\ttotal: 15m 16s\tremaining: 29m 23s\n",
            "342:\tlearn: 0.4800098\ttest: 0.7588001\tbest: 0.7337170 (30)\ttotal: 15m 18s\tremaining: 29m 19s\n",
            "343:\tlearn: 0.4798759\ttest: 0.7587953\tbest: 0.7337170 (30)\ttotal: 15m 21s\tremaining: 29m 16s\n",
            "344:\tlearn: 0.4797436\ttest: 0.7587084\tbest: 0.7337170 (30)\ttotal: 15m 23s\tremaining: 29m 13s\n",
            "345:\tlearn: 0.4794937\ttest: 0.7590266\tbest: 0.7337170 (30)\ttotal: 15m 25s\tremaining: 29m 10s\n",
            "346:\tlearn: 0.4793785\ttest: 0.7588506\tbest: 0.7337170 (30)\ttotal: 15m 28s\tremaining: 29m 7s\n",
            "347:\tlearn: 0.4791753\ttest: 0.7584112\tbest: 0.7337170 (30)\ttotal: 15m 31s\tremaining: 29m 4s\n",
            "348:\tlearn: 0.4790535\ttest: 0.7601174\tbest: 0.7337170 (30)\ttotal: 15m 34s\tremaining: 29m 2s\n",
            "349:\tlearn: 0.4789711\ttest: 0.7603704\tbest: 0.7337170 (30)\ttotal: 15m 36s\tremaining: 29m\n",
            "350:\tlearn: 0.4788599\ttest: 0.7602245\tbest: 0.7337170 (30)\ttotal: 15m 40s\tremaining: 28m 58s\n",
            "351:\tlearn: 0.4784216\ttest: 0.7601625\tbest: 0.7337170 (30)\ttotal: 15m 43s\tremaining: 28m 56s\n",
            "352:\tlearn: 0.4783325\ttest: 0.7602727\tbest: 0.7337170 (30)\ttotal: 15m 45s\tremaining: 28m 53s\n",
            "353:\tlearn: 0.4782607\ttest: 0.7602546\tbest: 0.7337170 (30)\ttotal: 15m 47s\tremaining: 28m 49s\n",
            "354:\tlearn: 0.4781735\ttest: 0.7599211\tbest: 0.7337170 (30)\ttotal: 15m 50s\tremaining: 28m 47s\n",
            "355:\tlearn: 0.4781021\ttest: 0.7598765\tbest: 0.7337170 (30)\ttotal: 15m 53s\tremaining: 28m 45s\n",
            "356:\tlearn: 0.4780683\ttest: 0.7598858\tbest: 0.7337170 (30)\ttotal: 15m 55s\tremaining: 28m 41s\n",
            "357:\tlearn: 0.4779177\ttest: 0.7597187\tbest: 0.7337170 (30)\ttotal: 15m 58s\tremaining: 28m 38s\n",
            "358:\tlearn: 0.4775622\ttest: 0.7599843\tbest: 0.7337170 (30)\ttotal: 16m\tremaining: 28m 35s\n",
            "359:\tlearn: 0.4771029\ttest: 0.7602580\tbest: 0.7337170 (30)\ttotal: 16m 3s\tremaining: 28m 32s\n",
            "360:\tlearn: 0.4770488\ttest: 0.7602593\tbest: 0.7337170 (30)\ttotal: 16m 6s\tremaining: 28m 30s\n",
            "361:\tlearn: 0.4769279\ttest: 0.7601790\tbest: 0.7337170 (30)\ttotal: 16m 9s\tremaining: 28m 28s\n",
            "362:\tlearn: 0.4768751\ttest: 0.7602019\tbest: 0.7337170 (30)\ttotal: 16m 12s\tremaining: 28m 26s\n",
            "363:\tlearn: 0.4760954\ttest: 0.7601262\tbest: 0.7337170 (30)\ttotal: 16m 14s\tremaining: 28m 23s\n",
            "364:\tlearn: 0.4759188\ttest: 0.7601377\tbest: 0.7337170 (30)\ttotal: 16m 17s\tremaining: 28m 20s\n",
            "365:\tlearn: 0.4757388\ttest: 0.7599254\tbest: 0.7337170 (30)\ttotal: 16m 19s\tremaining: 28m 16s\n",
            "366:\tlearn: 0.4756256\ttest: 0.7598257\tbest: 0.7337170 (30)\ttotal: 16m 22s\tremaining: 28m 13s\n",
            "367:\tlearn: 0.4755384\ttest: 0.7597566\tbest: 0.7337170 (30)\ttotal: 16m 24s\tremaining: 28m 10s\n",
            "368:\tlearn: 0.4750910\ttest: 0.7598455\tbest: 0.7337170 (30)\ttotal: 16m 27s\tremaining: 28m 8s\n",
            "369:\tlearn: 0.4750167\ttest: 0.7598475\tbest: 0.7337170 (30)\ttotal: 16m 30s\tremaining: 28m 5s\n",
            "370:\tlearn: 0.4747102\ttest: 0.7592730\tbest: 0.7337170 (30)\ttotal: 16m 32s\tremaining: 28m 3s\n",
            "371:\tlearn: 0.4745758\ttest: 0.7596420\tbest: 0.7337170 (30)\ttotal: 16m 35s\tremaining: 28m\n",
            "372:\tlearn: 0.4745065\ttest: 0.7596704\tbest: 0.7337170 (30)\ttotal: 16m 38s\tremaining: 27m 57s\n",
            "373:\tlearn: 0.4744653\ttest: 0.7597968\tbest: 0.7337170 (30)\ttotal: 16m 41s\tremaining: 27m 55s\n",
            "374:\tlearn: 0.4744248\ttest: 0.7598043\tbest: 0.7337170 (30)\ttotal: 16m 44s\tremaining: 27m 53s\n",
            "375:\tlearn: 0.4742820\ttest: 0.7598398\tbest: 0.7337170 (30)\ttotal: 16m 46s\tremaining: 27m 50s\n",
            "376:\tlearn: 0.4742306\ttest: 0.7598505\tbest: 0.7337170 (30)\ttotal: 16m 49s\tremaining: 27m 48s\n",
            "377:\tlearn: 0.4741309\ttest: 0.7598467\tbest: 0.7337170 (30)\ttotal: 16m 52s\tremaining: 27m 46s\n",
            "378:\tlearn: 0.4740027\ttest: 0.7599268\tbest: 0.7337170 (30)\ttotal: 16m 55s\tremaining: 27m 44s\n",
            "379:\tlearn: 0.4739078\ttest: 0.7598145\tbest: 0.7337170 (30)\ttotal: 16m 59s\tremaining: 27m 42s\n",
            "380:\tlearn: 0.4738059\ttest: 0.7598069\tbest: 0.7337170 (30)\ttotal: 17m 2s\tremaining: 27m 40s\n",
            "381:\tlearn: 0.4737366\ttest: 0.7596987\tbest: 0.7337170 (30)\ttotal: 17m 5s\tremaining: 27m 38s\n",
            "382:\tlearn: 0.4736261\ttest: 0.7595586\tbest: 0.7337170 (30)\ttotal: 17m 7s\tremaining: 27m 35s\n",
            "383:\tlearn: 0.4735142\ttest: 0.7592239\tbest: 0.7337170 (30)\ttotal: 17m 10s\tremaining: 27m 33s\n",
            "384:\tlearn: 0.4733588\ttest: 0.7591766\tbest: 0.7337170 (30)\ttotal: 17m 13s\tremaining: 27m 31s\n",
            "385:\tlearn: 0.4732703\ttest: 0.7592173\tbest: 0.7337170 (30)\ttotal: 17m 16s\tremaining: 27m 28s\n",
            "386:\tlearn: 0.4731786\ttest: 0.7592126\tbest: 0.7337170 (30)\ttotal: 17m 18s\tremaining: 27m 25s\n",
            "387:\tlearn: 0.4731408\ttest: 0.7593430\tbest: 0.7337170 (30)\ttotal: 17m 21s\tremaining: 27m 22s\n",
            "388:\tlearn: 0.4730846\ttest: 0.7593580\tbest: 0.7337170 (30)\ttotal: 17m 23s\tremaining: 27m 19s\n",
            "389:\tlearn: 0.4730054\ttest: 0.7594227\tbest: 0.7337170 (30)\ttotal: 17m 26s\tremaining: 27m 16s\n",
            "390:\tlearn: 0.4729495\ttest: 0.7592758\tbest: 0.7337170 (30)\ttotal: 17m 29s\tremaining: 27m 14s\n",
            "391:\tlearn: 0.4728006\ttest: 0.7592522\tbest: 0.7337170 (30)\ttotal: 17m 31s\tremaining: 27m 11s\n",
            "392:\tlearn: 0.4727430\ttest: 0.7591986\tbest: 0.7337170 (30)\ttotal: 17m 34s\tremaining: 27m 9s\n",
            "393:\tlearn: 0.4726750\ttest: 0.7590289\tbest: 0.7337170 (30)\ttotal: 17m 38s\tremaining: 27m 7s\n",
            "394:\tlearn: 0.4725521\ttest: 0.7590178\tbest: 0.7337170 (30)\ttotal: 17m 40s\tremaining: 27m 3s\n",
            "395:\tlearn: 0.4724893\ttest: 0.7589899\tbest: 0.7337170 (30)\ttotal: 17m 43s\tremaining: 27m 1s\n",
            "396:\tlearn: 0.4722973\ttest: 0.7590828\tbest: 0.7337170 (30)\ttotal: 17m 45s\tremaining: 26m 58s\n",
            "397:\tlearn: 0.4722166\ttest: 0.7587667\tbest: 0.7337170 (30)\ttotal: 17m 48s\tremaining: 26m 56s\n",
            "398:\tlearn: 0.4721108\ttest: 0.7587779\tbest: 0.7337170 (30)\ttotal: 17m 51s\tremaining: 26m 53s\n",
            "399:\tlearn: 0.4720301\ttest: 0.7588107\tbest: 0.7337170 (30)\ttotal: 17m 53s\tremaining: 26m 50s\n",
            "400:\tlearn: 0.4718994\ttest: 0.7588055\tbest: 0.7337170 (30)\ttotal: 17m 56s\tremaining: 26m 48s\n",
            "401:\tlearn: 0.4717397\ttest: 0.7586551\tbest: 0.7337170 (30)\ttotal: 18m\tremaining: 26m 46s\n",
            "402:\tlearn: 0.4716669\ttest: 0.7586551\tbest: 0.7337170 (30)\ttotal: 18m 3s\tremaining: 26m 44s\n",
            "403:\tlearn: 0.4715910\ttest: 0.7586463\tbest: 0.7337170 (30)\ttotal: 18m 5s\tremaining: 26m 41s\n",
            "404:\tlearn: 0.4715180\ttest: 0.7586144\tbest: 0.7337170 (30)\ttotal: 18m 8s\tremaining: 26m 38s\n",
            "405:\tlearn: 0.4711836\ttest: 0.7619557\tbest: 0.7337170 (30)\ttotal: 18m 10s\tremaining: 26m 35s\n",
            "406:\tlearn: 0.4710978\ttest: 0.7618928\tbest: 0.7337170 (30)\ttotal: 18m 13s\tremaining: 26m 33s\n",
            "407:\tlearn: 0.4709603\ttest: 0.7618758\tbest: 0.7337170 (30)\ttotal: 18m 15s\tremaining: 26m 30s\n",
            "408:\tlearn: 0.4708785\ttest: 0.7619292\tbest: 0.7337170 (30)\ttotal: 18m 18s\tremaining: 26m 26s\n",
            "409:\tlearn: 0.4707635\ttest: 0.7619544\tbest: 0.7337170 (30)\ttotal: 18m 20s\tremaining: 26m 23s\n",
            "410:\tlearn: 0.4707119\ttest: 0.7619379\tbest: 0.7337170 (30)\ttotal: 18m 23s\tremaining: 26m 21s\n",
            "411:\tlearn: 0.4706282\ttest: 0.7619766\tbest: 0.7337170 (30)\ttotal: 18m 26s\tremaining: 26m 19s\n",
            "412:\tlearn: 0.4705420\ttest: 0.7619732\tbest: 0.7337170 (30)\ttotal: 18m 29s\tremaining: 26m 17s\n",
            "413:\tlearn: 0.4704473\ttest: 0.7617672\tbest: 0.7337170 (30)\ttotal: 18m 33s\tremaining: 26m 15s\n",
            "414:\tlearn: 0.4703282\ttest: 0.7617265\tbest: 0.7337170 (30)\ttotal: 18m 35s\tremaining: 26m 12s\n",
            "415:\tlearn: 0.4702190\ttest: 0.7617111\tbest: 0.7337170 (30)\ttotal: 18m 37s\tremaining: 26m 9s\n",
            "416:\tlearn: 0.4699905\ttest: 0.7615615\tbest: 0.7337170 (30)\ttotal: 18m 40s\tremaining: 26m 6s\n",
            "417:\tlearn: 0.4698279\ttest: 0.7614562\tbest: 0.7337170 (30)\ttotal: 18m 43s\tremaining: 26m 3s\n",
            "418:\tlearn: 0.4697831\ttest: 0.7614691\tbest: 0.7337170 (30)\ttotal: 18m 46s\tremaining: 26m 1s\n",
            "419:\tlearn: 0.4695089\ttest: 0.7613784\tbest: 0.7337170 (30)\ttotal: 18m 48s\tremaining: 25m 58s\n",
            "420:\tlearn: 0.4694168\ttest: 0.7614166\tbest: 0.7337170 (30)\ttotal: 18m 50s\tremaining: 25m 55s\n",
            "421:\tlearn: 0.4692580\ttest: 0.7612028\tbest: 0.7337170 (30)\ttotal: 18m 53s\tremaining: 25m 52s\n",
            "422:\tlearn: 0.4690912\ttest: 0.7608761\tbest: 0.7337170 (30)\ttotal: 18m 57s\tremaining: 25m 51s\n",
            "423:\tlearn: 0.4689871\ttest: 0.7608640\tbest: 0.7337170 (30)\ttotal: 19m\tremaining: 25m 48s\n",
            "424:\tlearn: 0.4688770\ttest: 0.7608134\tbest: 0.7337170 (30)\ttotal: 19m 3s\tremaining: 25m 46s\n",
            "425:\tlearn: 0.4682193\ttest: 0.7619943\tbest: 0.7337170 (30)\ttotal: 19m 6s\tremaining: 25m 44s\n",
            "426:\tlearn: 0.4681202\ttest: 0.7619414\tbest: 0.7337170 (30)\ttotal: 19m 9s\tremaining: 25m 41s\n",
            "427:\tlearn: 0.4680007\ttest: 0.7623200\tbest: 0.7337170 (30)\ttotal: 19m 11s\tremaining: 25m 38s\n",
            "428:\tlearn: 0.4679113\ttest: 0.7623489\tbest: 0.7337170 (30)\ttotal: 19m 13s\tremaining: 25m 35s\n",
            "429:\tlearn: 0.4677875\ttest: 0.7623984\tbest: 0.7337170 (30)\ttotal: 19m 16s\tremaining: 25m 32s\n",
            "430:\tlearn: 0.4676779\ttest: 0.7626748\tbest: 0.7337170 (30)\ttotal: 19m 18s\tremaining: 25m 29s\n",
            "431:\tlearn: 0.4675748\ttest: 0.7626768\tbest: 0.7337170 (30)\ttotal: 19m 21s\tremaining: 25m 27s\n",
            "432:\tlearn: 0.4674449\ttest: 0.7621701\tbest: 0.7337170 (30)\ttotal: 19m 23s\tremaining: 25m 23s\n",
            "433:\tlearn: 0.4673543\ttest: 0.7621798\tbest: 0.7337170 (30)\ttotal: 19m 25s\tremaining: 25m 20s\n",
            "434:\tlearn: 0.4672033\ttest: 0.7620550\tbest: 0.7337170 (30)\ttotal: 19m 28s\tremaining: 25m 18s\n",
            "435:\tlearn: 0.4671051\ttest: 0.7620881\tbest: 0.7337170 (30)\ttotal: 19m 31s\tremaining: 25m 14s\n",
            "436:\tlearn: 0.4668267\ttest: 0.7621527\tbest: 0.7337170 (30)\ttotal: 19m 34s\tremaining: 25m 13s\n",
            "437:\tlearn: 0.4666813\ttest: 0.7623499\tbest: 0.7337170 (30)\ttotal: 19m 37s\tremaining: 25m 10s\n",
            "438:\tlearn: 0.4666121\ttest: 0.7624045\tbest: 0.7337170 (30)\ttotal: 19m 39s\tremaining: 25m 7s\n",
            "439:\tlearn: 0.4665764\ttest: 0.7623971\tbest: 0.7337170 (30)\ttotal: 19m 42s\tremaining: 25m 4s\n",
            "440:\tlearn: 0.4663465\ttest: 0.7624399\tbest: 0.7337170 (30)\ttotal: 19m 45s\tremaining: 25m 2s\n",
            "441:\tlearn: 0.4661959\ttest: 0.7625474\tbest: 0.7337170 (30)\ttotal: 19m 47s\tremaining: 24m 59s\n",
            "442:\tlearn: 0.4661313\ttest: 0.7625581\tbest: 0.7337170 (30)\ttotal: 19m 50s\tremaining: 24m 56s\n",
            "443:\tlearn: 0.4660468\ttest: 0.7625211\tbest: 0.7337170 (30)\ttotal: 19m 53s\tremaining: 24m 54s\n",
            "444:\tlearn: 0.4659655\ttest: 0.7624580\tbest: 0.7337170 (30)\ttotal: 19m 55s\tremaining: 24m 51s\n",
            "445:\tlearn: 0.4658730\ttest: 0.7623873\tbest: 0.7337170 (30)\ttotal: 19m 58s\tremaining: 24m 48s\n",
            "446:\tlearn: 0.4657667\ttest: 0.7623626\tbest: 0.7337170 (30)\ttotal: 20m 1s\tremaining: 24m 46s\n",
            "447:\tlearn: 0.4656521\ttest: 0.7623633\tbest: 0.7337170 (30)\ttotal: 20m 3s\tremaining: 24m 43s\n",
            "448:\tlearn: 0.4656020\ttest: 0.7612842\tbest: 0.7337170 (30)\ttotal: 20m 5s\tremaining: 24m 39s\n",
            "449:\tlearn: 0.4654828\ttest: 0.7613630\tbest: 0.7337170 (30)\ttotal: 20m 8s\tremaining: 24m 36s\n",
            "450:\tlearn: 0.4653869\ttest: 0.7613141\tbest: 0.7337170 (30)\ttotal: 20m 10s\tremaining: 24m 34s\n",
            "451:\tlearn: 0.4652965\ttest: 0.7611756\tbest: 0.7337170 (30)\ttotal: 20m 13s\tremaining: 24m 31s\n",
            "452:\tlearn: 0.4652429\ttest: 0.7611202\tbest: 0.7337170 (30)\ttotal: 20m 15s\tremaining: 24m 28s\n",
            "453:\tlearn: 0.4648118\ttest: 0.7618395\tbest: 0.7337170 (30)\ttotal: 20m 18s\tremaining: 24m 25s\n",
            "454:\tlearn: 0.4647404\ttest: 0.7618932\tbest: 0.7337170 (30)\ttotal: 20m 21s\tremaining: 24m 23s\n",
            "455:\tlearn: 0.4646218\ttest: 0.7619295\tbest: 0.7337170 (30)\ttotal: 20m 23s\tremaining: 24m 20s\n",
            "456:\tlearn: 0.4645035\ttest: 0.7619163\tbest: 0.7337170 (30)\ttotal: 20m 26s\tremaining: 24m 17s\n",
            "457:\tlearn: 0.4644419\ttest: 0.7619628\tbest: 0.7337170 (30)\ttotal: 20m 29s\tremaining: 24m 14s\n",
            "458:\tlearn: 0.4643849\ttest: 0.7620281\tbest: 0.7337170 (30)\ttotal: 20m 31s\tremaining: 24m 12s\n",
            "459:\tlearn: 0.4643139\ttest: 0.7619440\tbest: 0.7337170 (30)\ttotal: 20m 34s\tremaining: 24m 9s\n",
            "460:\tlearn: 0.4642674\ttest: 0.7619406\tbest: 0.7337170 (30)\ttotal: 20m 37s\tremaining: 24m 6s\n",
            "461:\tlearn: 0.4641600\ttest: 0.7620058\tbest: 0.7337170 (30)\ttotal: 20m 39s\tremaining: 24m 3s\n",
            "462:\tlearn: 0.4640869\ttest: 0.7620195\tbest: 0.7337170 (30)\ttotal: 20m 42s\tremaining: 24m 1s\n",
            "463:\tlearn: 0.4639926\ttest: 0.7619530\tbest: 0.7337170 (30)\ttotal: 20m 45s\tremaining: 23m 58s\n",
            "464:\tlearn: 0.4639016\ttest: 0.7619486\tbest: 0.7337170 (30)\ttotal: 20m 47s\tremaining: 23m 55s\n",
            "465:\tlearn: 0.4638593\ttest: 0.7619339\tbest: 0.7337170 (30)\ttotal: 20m 49s\tremaining: 23m 52s\n",
            "466:\tlearn: 0.4637600\ttest: 0.7617499\tbest: 0.7337170 (30)\ttotal: 20m 52s\tremaining: 23m 49s\n",
            "467:\tlearn: 0.4636488\ttest: 0.7619055\tbest: 0.7337170 (30)\ttotal: 20m 54s\tremaining: 23m 46s\n",
            "468:\tlearn: 0.4635148\ttest: 0.7617499\tbest: 0.7337170 (30)\ttotal: 20m 57s\tremaining: 23m 43s\n",
            "469:\tlearn: 0.4634579\ttest: 0.7616693\tbest: 0.7337170 (30)\ttotal: 21m\tremaining: 23m 40s\n",
            "470:\tlearn: 0.4633963\ttest: 0.7617027\tbest: 0.7337170 (30)\ttotal: 21m 3s\tremaining: 23m 38s\n",
            "471:\tlearn: 0.4633228\ttest: 0.7616357\tbest: 0.7337170 (30)\ttotal: 21m 5s\tremaining: 23m 35s\n",
            "472:\tlearn: 0.4632696\ttest: 0.7617149\tbest: 0.7337170 (30)\ttotal: 21m 8s\tremaining: 23m 33s\n",
            "473:\tlearn: 0.4631347\ttest: 0.7596435\tbest: 0.7337170 (30)\ttotal: 21m 10s\tremaining: 23m 29s\n",
            "474:\tlearn: 0.4630762\ttest: 0.7596403\tbest: 0.7337170 (30)\ttotal: 21m 13s\tremaining: 23m 27s\n",
            "475:\tlearn: 0.4630149\ttest: 0.7596072\tbest: 0.7337170 (30)\ttotal: 21m 16s\tremaining: 23m 24s\n",
            "476:\tlearn: 0.4627022\ttest: 0.7591434\tbest: 0.7337170 (30)\ttotal: 21m 18s\tremaining: 23m 21s\n",
            "477:\tlearn: 0.4626220\ttest: 0.7591615\tbest: 0.7337170 (30)\ttotal: 21m 21s\tremaining: 23m 19s\n",
            "478:\tlearn: 0.4625781\ttest: 0.7591650\tbest: 0.7337170 (30)\ttotal: 21m 23s\tremaining: 23m 16s\n",
            "479:\tlearn: 0.4611104\ttest: 0.7602690\tbest: 0.7337170 (30)\ttotal: 21m 26s\tremaining: 23m 13s\n",
            "480:\tlearn: 0.4609576\ttest: 0.7603012\tbest: 0.7337170 (30)\ttotal: 21m 29s\tremaining: 23m 11s\n",
            "481:\tlearn: 0.4607389\ttest: 0.7596150\tbest: 0.7337170 (30)\ttotal: 21m 31s\tremaining: 23m 8s\n",
            "482:\tlearn: 0.4606491\ttest: 0.7596481\tbest: 0.7337170 (30)\ttotal: 21m 35s\tremaining: 23m 6s\n",
            "483:\tlearn: 0.4605885\ttest: 0.7596915\tbest: 0.7337170 (30)\ttotal: 21m 38s\tremaining: 23m 3s\n",
            "484:\tlearn: 0.4605142\ttest: 0.7597342\tbest: 0.7337170 (30)\ttotal: 21m 40s\tremaining: 23m 1s\n",
            "485:\tlearn: 0.4604319\ttest: 0.7601660\tbest: 0.7337170 (30)\ttotal: 21m 43s\tremaining: 22m 58s\n",
            "486:\tlearn: 0.4554155\ttest: 0.7600804\tbest: 0.7337170 (30)\ttotal: 21m 45s\tremaining: 22m 55s\n",
            "487:\tlearn: 0.4550945\ttest: 0.7606400\tbest: 0.7337170 (30)\ttotal: 21m 48s\tremaining: 22m 53s\n",
            "488:\tlearn: 0.4549949\ttest: 0.7606980\tbest: 0.7337170 (30)\ttotal: 21m 51s\tremaining: 22m 50s\n",
            "489:\tlearn: 0.4545897\ttest: 0.7607520\tbest: 0.7337170 (30)\ttotal: 21m 53s\tremaining: 22m 47s\n",
            "490:\tlearn: 0.4543384\ttest: 0.7606411\tbest: 0.7337170 (30)\ttotal: 21m 56s\tremaining: 22m 44s\n",
            "491:\tlearn: 0.4542643\ttest: 0.7605185\tbest: 0.7337170 (30)\ttotal: 21m 59s\tremaining: 22m 41s\n",
            "492:\tlearn: 0.4541865\ttest: 0.7603672\tbest: 0.7337170 (30)\ttotal: 22m 1s\tremaining: 22m 39s\n",
            "493:\tlearn: 0.4540622\ttest: 0.7603263\tbest: 0.7337170 (30)\ttotal: 22m 5s\tremaining: 22m 37s\n",
            "494:\tlearn: 0.4539715\ttest: 0.7603128\tbest: 0.7337170 (30)\ttotal: 22m 8s\tremaining: 22m 34s\n",
            "495:\tlearn: 0.4539379\ttest: 0.7602403\tbest: 0.7337170 (30)\ttotal: 22m 10s\tremaining: 22m 32s\n",
            "496:\tlearn: 0.4538259\ttest: 0.7602151\tbest: 0.7337170 (30)\ttotal: 22m 13s\tremaining: 22m 29s\n",
            "497:\tlearn: 0.4537441\ttest: 0.7601977\tbest: 0.7337170 (30)\ttotal: 22m 16s\tremaining: 22m 26s\n",
            "498:\tlearn: 0.4536450\ttest: 0.7602366\tbest: 0.7337170 (30)\ttotal: 22m 18s\tremaining: 22m 24s\n",
            "499:\tlearn: 0.4535649\ttest: 0.7602607\tbest: 0.7337170 (30)\ttotal: 22m 21s\tremaining: 22m 21s\n",
            "500:\tlearn: 0.4535187\ttest: 0.7602069\tbest: 0.7337170 (30)\ttotal: 22m 23s\tremaining: 22m 18s\n",
            "501:\tlearn: 0.4534324\ttest: 0.7602362\tbest: 0.7337170 (30)\ttotal: 22m 26s\tremaining: 22m 15s\n",
            "502:\tlearn: 0.4533143\ttest: 0.7601803\tbest: 0.7337170 (30)\ttotal: 22m 29s\tremaining: 22m 13s\n",
            "503:\tlearn: 0.4532335\ttest: 0.7602527\tbest: 0.7337170 (30)\ttotal: 22m 31s\tremaining: 22m 10s\n",
            "504:\tlearn: 0.4530874\ttest: 0.7601692\tbest: 0.7337170 (30)\ttotal: 22m 33s\tremaining: 22m 7s\n",
            "505:\tlearn: 0.4529680\ttest: 0.7599737\tbest: 0.7337170 (30)\ttotal: 22m 36s\tremaining: 22m 4s\n",
            "506:\tlearn: 0.4528490\ttest: 0.7595061\tbest: 0.7337170 (30)\ttotal: 22m 38s\tremaining: 22m 1s\n",
            "507:\tlearn: 0.4527582\ttest: 0.7595000\tbest: 0.7337170 (30)\ttotal: 22m 41s\tremaining: 21m 58s\n",
            "508:\tlearn: 0.4526761\ttest: 0.7595539\tbest: 0.7337170 (30)\ttotal: 22m 43s\tremaining: 21m 55s\n",
            "509:\tlearn: 0.4526320\ttest: 0.7595679\tbest: 0.7337170 (30)\ttotal: 22m 46s\tremaining: 21m 53s\n",
            "510:\tlearn: 0.4525837\ttest: 0.7596874\tbest: 0.7337170 (30)\ttotal: 22m 49s\tremaining: 21m 50s\n",
            "511:\tlearn: 0.4524911\ttest: 0.7597193\tbest: 0.7337170 (30)\ttotal: 22m 51s\tremaining: 21m 47s\n",
            "512:\tlearn: 0.4523520\ttest: 0.7597095\tbest: 0.7337170 (30)\ttotal: 22m 54s\tremaining: 21m 44s\n",
            "513:\tlearn: 0.4522715\ttest: 0.7596305\tbest: 0.7337170 (30)\ttotal: 22m 57s\tremaining: 21m 42s\n",
            "514:\tlearn: 0.4522049\ttest: 0.7596918\tbest: 0.7337170 (30)\ttotal: 23m\tremaining: 21m 39s\n",
            "515:\tlearn: 0.4521287\ttest: 0.7596851\tbest: 0.7337170 (30)\ttotal: 23m 2s\tremaining: 21m 36s\n",
            "516:\tlearn: 0.4520585\ttest: 0.7597088\tbest: 0.7337170 (30)\ttotal: 23m 5s\tremaining: 21m 34s\n",
            "517:\tlearn: 0.4520219\ttest: 0.7597141\tbest: 0.7337170 (30)\ttotal: 23m 7s\tremaining: 21m 31s\n",
            "518:\tlearn: 0.4519367\ttest: 0.7594442\tbest: 0.7337170 (30)\ttotal: 23m 10s\tremaining: 21m 28s\n",
            "519:\tlearn: 0.4518744\ttest: 0.7594852\tbest: 0.7337170 (30)\ttotal: 23m 13s\tremaining: 21m 26s\n",
            "520:\tlearn: 0.4518184\ttest: 0.7593788\tbest: 0.7337170 (30)\ttotal: 23m 15s\tremaining: 21m 23s\n",
            "521:\tlearn: 0.4517583\ttest: 0.7593495\tbest: 0.7337170 (30)\ttotal: 23m 18s\tremaining: 21m 20s\n",
            "522:\tlearn: 0.4516912\ttest: 0.7593026\tbest: 0.7337170 (30)\ttotal: 23m 20s\tremaining: 21m 17s\n",
            "523:\tlearn: 0.4516490\ttest: 0.7587977\tbest: 0.7337170 (30)\ttotal: 23m 23s\tremaining: 21m 14s\n",
            "524:\tlearn: 0.4515731\ttest: 0.7587971\tbest: 0.7337170 (30)\ttotal: 23m 26s\tremaining: 21m 12s\n",
            "525:\tlearn: 0.4515164\ttest: 0.7588364\tbest: 0.7337170 (30)\ttotal: 23m 29s\tremaining: 21m 9s\n",
            "526:\tlearn: 0.4514428\ttest: 0.7588289\tbest: 0.7337170 (30)\ttotal: 23m 31s\tremaining: 21m 6s\n",
            "527:\tlearn: 0.4508782\ttest: 0.7592431\tbest: 0.7337170 (30)\ttotal: 23m 34s\tremaining: 21m 4s\n",
            "528:\tlearn: 0.4507727\ttest: 0.7591690\tbest: 0.7337170 (30)\ttotal: 23m 36s\tremaining: 21m 1s\n",
            "529:\tlearn: 0.4507011\ttest: 0.7591883\tbest: 0.7337170 (30)\ttotal: 23m 39s\tremaining: 20m 59s\n",
            "530:\tlearn: 0.4506464\ttest: 0.7593358\tbest: 0.7337170 (30)\ttotal: 23m 42s\tremaining: 20m 56s\n",
            "531:\tlearn: 0.4505939\ttest: 0.7593797\tbest: 0.7337170 (30)\ttotal: 23m 45s\tremaining: 20m 53s\n",
            "532:\tlearn: 0.4504839\ttest: 0.7595490\tbest: 0.7337170 (30)\ttotal: 23m 48s\tremaining: 20m 51s\n",
            "533:\tlearn: 0.4496822\ttest: 0.7588851\tbest: 0.7337170 (30)\ttotal: 23m 50s\tremaining: 20m 48s\n",
            "534:\tlearn: 0.4495868\ttest: 0.7588763\tbest: 0.7337170 (30)\ttotal: 23m 53s\tremaining: 20m 45s\n",
            "535:\tlearn: 0.4486979\ttest: 0.7589249\tbest: 0.7337170 (30)\ttotal: 23m 57s\tremaining: 20m 44s\n",
            "536:\tlearn: 0.4486132\ttest: 0.7588877\tbest: 0.7337170 (30)\ttotal: 24m\tremaining: 20m 41s\n",
            "537:\tlearn: 0.4484978\ttest: 0.7586877\tbest: 0.7337170 (30)\ttotal: 24m 3s\tremaining: 20m 39s\n",
            "538:\tlearn: 0.4484385\ttest: 0.7587104\tbest: 0.7337170 (30)\ttotal: 24m 6s\tremaining: 20m 37s\n",
            "539:\tlearn: 0.4483401\ttest: 0.7588125\tbest: 0.7337170 (30)\ttotal: 24m 8s\tremaining: 20m 34s\n",
            "540:\tlearn: 0.4479154\ttest: 0.7605797\tbest: 0.7337170 (30)\ttotal: 24m 12s\tremaining: 20m 32s\n",
            "541:\tlearn: 0.4477625\ttest: 0.7602208\tbest: 0.7337170 (30)\ttotal: 24m 15s\tremaining: 20m 29s\n",
            "542:\tlearn: 0.4476903\ttest: 0.7600131\tbest: 0.7337170 (30)\ttotal: 24m 18s\tremaining: 20m 27s\n",
            "543:\tlearn: 0.4476089\ttest: 0.7600507\tbest: 0.7337170 (30)\ttotal: 24m 21s\tremaining: 20m 25s\n",
            "544:\tlearn: 0.4474969\ttest: 0.7600185\tbest: 0.7337170 (30)\ttotal: 24m 24s\tremaining: 20m 22s\n",
            "545:\tlearn: 0.4473931\ttest: 0.7596636\tbest: 0.7337170 (30)\ttotal: 24m 26s\tremaining: 20m 19s\n",
            "546:\tlearn: 0.4472902\ttest: 0.7596841\tbest: 0.7337170 (30)\ttotal: 24m 29s\tremaining: 20m 17s\n",
            "547:\tlearn: 0.4472172\ttest: 0.7597363\tbest: 0.7337170 (30)\ttotal: 24m 32s\tremaining: 20m 14s\n",
            "548:\tlearn: 0.4471153\ttest: 0.7595381\tbest: 0.7337170 (30)\ttotal: 24m 34s\tremaining: 20m 11s\n",
            "549:\tlearn: 0.4470747\ttest: 0.7595717\tbest: 0.7337170 (30)\ttotal: 24m 37s\tremaining: 20m 9s\n",
            "550:\tlearn: 0.4470385\ttest: 0.7595240\tbest: 0.7337170 (30)\ttotal: 24m 40s\tremaining: 20m 6s\n",
            "551:\tlearn: 0.4469095\ttest: 0.7595496\tbest: 0.7337170 (30)\ttotal: 24m 43s\tremaining: 20m 3s\n",
            "552:\tlearn: 0.4466526\ttest: 0.7599797\tbest: 0.7337170 (30)\ttotal: 24m 45s\tremaining: 20m 1s\n",
            "553:\tlearn: 0.4465898\ttest: 0.7599546\tbest: 0.7337170 (30)\ttotal: 24m 48s\tremaining: 19m 58s\n",
            "554:\tlearn: 0.4450268\ttest: 0.7610844\tbest: 0.7337170 (30)\ttotal: 24m 51s\tremaining: 19m 55s\n",
            "555:\tlearn: 0.4449671\ttest: 0.7608724\tbest: 0.7337170 (30)\ttotal: 24m 53s\tremaining: 19m 53s\n",
            "556:\tlearn: 0.4448947\ttest: 0.7608578\tbest: 0.7337170 (30)\ttotal: 24m 56s\tremaining: 19m 50s\n",
            "557:\tlearn: 0.4447788\ttest: 0.7604840\tbest: 0.7337170 (30)\ttotal: 24m 59s\tremaining: 19m 47s\n",
            "558:\tlearn: 0.4447139\ttest: 0.7604350\tbest: 0.7337170 (30)\ttotal: 25m 1s\tremaining: 19m 44s\n",
            "559:\tlearn: 0.4445992\ttest: 0.7601989\tbest: 0.7337170 (30)\ttotal: 25m 4s\tremaining: 19m 41s\n",
            "560:\tlearn: 0.4445323\ttest: 0.7601782\tbest: 0.7337170 (30)\ttotal: 25m 7s\tremaining: 19m 39s\n",
            "561:\tlearn: 0.4442160\ttest: 0.7607659\tbest: 0.7337170 (30)\ttotal: 25m 10s\tremaining: 19m 36s\n",
            "562:\tlearn: 0.4441392\ttest: 0.7608363\tbest: 0.7337170 (30)\ttotal: 25m 12s\tremaining: 19m 34s\n",
            "563:\tlearn: 0.4440339\ttest: 0.7613557\tbest: 0.7337170 (30)\ttotal: 25m 15s\tremaining: 19m 31s\n",
            "564:\tlearn: 0.4438831\ttest: 0.7613900\tbest: 0.7337170 (30)\ttotal: 25m 18s\tremaining: 19m 28s\n",
            "565:\tlearn: 0.4437934\ttest: 0.7614398\tbest: 0.7337170 (30)\ttotal: 25m 21s\tremaining: 19m 26s\n",
            "566:\tlearn: 0.4436935\ttest: 0.7615003\tbest: 0.7337170 (30)\ttotal: 25m 23s\tremaining: 19m 23s\n",
            "567:\tlearn: 0.4435720\ttest: 0.7614192\tbest: 0.7337170 (30)\ttotal: 25m 26s\tremaining: 19m 20s\n",
            "568:\tlearn: 0.4435319\ttest: 0.7613914\tbest: 0.7337170 (30)\ttotal: 25m 28s\tremaining: 19m 17s\n",
            "569:\tlearn: 0.4434635\ttest: 0.7614813\tbest: 0.7337170 (30)\ttotal: 25m 31s\tremaining: 19m 15s\n",
            "570:\tlearn: 0.4433537\ttest: 0.7611115\tbest: 0.7337170 (30)\ttotal: 25m 34s\tremaining: 19m 13s\n",
            "571:\tlearn: 0.4432889\ttest: 0.7609794\tbest: 0.7337170 (30)\ttotal: 25m 37s\tremaining: 19m 10s\n",
            "572:\tlearn: 0.4432392\ttest: 0.7609373\tbest: 0.7337170 (30)\ttotal: 25m 39s\tremaining: 19m 7s\n",
            "573:\tlearn: 0.4431658\ttest: 0.7609250\tbest: 0.7337170 (30)\ttotal: 25m 42s\tremaining: 19m 4s\n",
            "574:\tlearn: 0.4430876\ttest: 0.7610737\tbest: 0.7337170 (30)\ttotal: 25m 44s\tremaining: 19m 1s\n",
            "575:\tlearn: 0.4430339\ttest: 0.7610725\tbest: 0.7337170 (30)\ttotal: 25m 47s\tremaining: 18m 59s\n",
            "576:\tlearn: 0.4429898\ttest: 0.7611165\tbest: 0.7337170 (30)\ttotal: 25m 50s\tremaining: 18m 56s\n",
            "577:\tlearn: 0.4429231\ttest: 0.7611532\tbest: 0.7337170 (30)\ttotal: 25m 53s\tremaining: 18m 53s\n",
            "578:\tlearn: 0.4428987\ttest: 0.7611911\tbest: 0.7337170 (30)\ttotal: 25m 55s\tremaining: 18m 51s\n",
            "579:\tlearn: 0.4428320\ttest: 0.7610505\tbest: 0.7337170 (30)\ttotal: 25m 58s\tremaining: 18m 48s\n",
            "580:\tlearn: 0.4427220\ttest: 0.7610419\tbest: 0.7337170 (30)\ttotal: 26m 1s\tremaining: 18m 46s\n",
            "581:\tlearn: 0.4426465\ttest: 0.7610922\tbest: 0.7337170 (30)\ttotal: 26m 3s\tremaining: 18m 43s\n",
            "582:\tlearn: 0.4425897\ttest: 0.7611244\tbest: 0.7337170 (30)\ttotal: 26m 6s\tremaining: 18m 40s\n",
            "583:\tlearn: 0.4425278\ttest: 0.7610961\tbest: 0.7337170 (30)\ttotal: 26m 9s\tremaining: 18m 37s\n",
            "584:\tlearn: 0.4423995\ttest: 0.7612654\tbest: 0.7337170 (30)\ttotal: 26m 11s\tremaining: 18m 34s\n",
            "585:\tlearn: 0.4423070\ttest: 0.7612543\tbest: 0.7337170 (30)\ttotal: 26m 14s\tremaining: 18m 32s\n",
            "586:\tlearn: 0.4422022\ttest: 0.7612336\tbest: 0.7337170 (30)\ttotal: 26m 16s\tremaining: 18m 29s\n",
            "587:\tlearn: 0.4421141\ttest: 0.7612633\tbest: 0.7337170 (30)\ttotal: 26m 19s\tremaining: 18m 26s\n",
            "588:\tlearn: 0.4420745\ttest: 0.7612519\tbest: 0.7337170 (30)\ttotal: 26m 22s\tremaining: 18m 24s\n",
            "589:\tlearn: 0.4420109\ttest: 0.7614095\tbest: 0.7337170 (30)\ttotal: 26m 25s\tremaining: 18m 21s\n",
            "590:\tlearn: 0.4419680\ttest: 0.7614817\tbest: 0.7337170 (30)\ttotal: 26m 27s\tremaining: 18m 18s\n",
            "591:\tlearn: 0.4419159\ttest: 0.7615070\tbest: 0.7337170 (30)\ttotal: 26m 29s\tremaining: 18m 15s\n",
            "592:\tlearn: 0.4418488\ttest: 0.7615455\tbest: 0.7337170 (30)\ttotal: 26m 32s\tremaining: 18m 13s\n",
            "593:\tlearn: 0.4417860\ttest: 0.7615110\tbest: 0.7337170 (30)\ttotal: 26m 35s\tremaining: 18m 10s\n",
            "594:\tlearn: 0.4417627\ttest: 0.7615369\tbest: 0.7337170 (30)\ttotal: 26m 38s\tremaining: 18m 7s\n",
            "595:\tlearn: 0.4416776\ttest: 0.7614946\tbest: 0.7337170 (30)\ttotal: 26m 40s\tremaining: 18m 5s\n",
            "596:\tlearn: 0.4416344\ttest: 0.7611128\tbest: 0.7337170 (30)\ttotal: 26m 43s\tremaining: 18m 2s\n",
            "597:\tlearn: 0.4415575\ttest: 0.7611270\tbest: 0.7337170 (30)\ttotal: 26m 47s\tremaining: 18m\n",
            "598:\tlearn: 0.4414947\ttest: 0.7611831\tbest: 0.7337170 (30)\ttotal: 26m 50s\tremaining: 17m 58s\n",
            "599:\tlearn: 0.4413578\ttest: 0.7608600\tbest: 0.7337170 (30)\ttotal: 26m 53s\tremaining: 17m 55s\n",
            "600:\tlearn: 0.4412976\ttest: 0.7607127\tbest: 0.7337170 (30)\ttotal: 26m 56s\tremaining: 17m 52s\n",
            "601:\tlearn: 0.4401367\ttest: 0.7624781\tbest: 0.7337170 (30)\ttotal: 26m 59s\tremaining: 17m 50s\n",
            "602:\tlearn: 0.4400576\ttest: 0.7624769\tbest: 0.7337170 (30)\ttotal: 27m 1s\tremaining: 17m 47s\n",
            "603:\tlearn: 0.4399950\ttest: 0.7623907\tbest: 0.7337170 (30)\ttotal: 27m 4s\tremaining: 17m 45s\n",
            "604:\tlearn: 0.4399189\ttest: 0.7623841\tbest: 0.7337170 (30)\ttotal: 27m 7s\tremaining: 17m 42s\n",
            "605:\tlearn: 0.4398480\ttest: 0.7623056\tbest: 0.7337170 (30)\ttotal: 27m 9s\tremaining: 17m 39s\n",
            "606:\tlearn: 0.4397533\ttest: 0.7623586\tbest: 0.7337170 (30)\ttotal: 27m 12s\tremaining: 17m 36s\n",
            "607:\tlearn: 0.4396683\ttest: 0.7625180\tbest: 0.7337170 (30)\ttotal: 27m 14s\tremaining: 17m 34s\n",
            "608:\tlearn: 0.4395488\ttest: 0.7625646\tbest: 0.7337170 (30)\ttotal: 27m 17s\tremaining: 17m 31s\n",
            "609:\tlearn: 0.4394701\ttest: 0.7626022\tbest: 0.7337170 (30)\ttotal: 27m 19s\tremaining: 17m 28s\n",
            "610:\tlearn: 0.4381463\ttest: 0.7634571\tbest: 0.7337170 (30)\ttotal: 27m 22s\tremaining: 17m 25s\n",
            "611:\tlearn: 0.4381102\ttest: 0.7633753\tbest: 0.7337170 (30)\ttotal: 27m 24s\tremaining: 17m 22s\n",
            "612:\tlearn: 0.4380403\ttest: 0.7632713\tbest: 0.7337170 (30)\ttotal: 27m 27s\tremaining: 17m 19s\n",
            "613:\tlearn: 0.4379604\ttest: 0.7631763\tbest: 0.7337170 (30)\ttotal: 27m 29s\tremaining: 17m 17s\n",
            "614:\tlearn: 0.4377123\ttest: 0.7632017\tbest: 0.7337170 (30)\ttotal: 27m 32s\tremaining: 17m 14s\n",
            "615:\tlearn: 0.4376380\ttest: 0.7629994\tbest: 0.7337170 (30)\ttotal: 27m 34s\tremaining: 17m 11s\n",
            "616:\tlearn: 0.4375700\ttest: 0.7628061\tbest: 0.7337170 (30)\ttotal: 27m 37s\tremaining: 17m 8s\n",
            "617:\tlearn: 0.4374360\ttest: 0.7626362\tbest: 0.7337170 (30)\ttotal: 27m 40s\tremaining: 17m 6s\n",
            "618:\tlearn: 0.4373478\ttest: 0.7625877\tbest: 0.7337170 (30)\ttotal: 27m 42s\tremaining: 17m 3s\n",
            "619:\tlearn: 0.4372482\ttest: 0.7625343\tbest: 0.7337170 (30)\ttotal: 27m 45s\tremaining: 17m\n",
            "620:\tlearn: 0.4371682\ttest: 0.7625068\tbest: 0.7337170 (30)\ttotal: 27m 47s\tremaining: 16m 57s\n",
            "621:\tlearn: 0.4371187\ttest: 0.7624882\tbest: 0.7337170 (30)\ttotal: 27m 50s\tremaining: 16m 55s\n",
            "622:\tlearn: 0.4370749\ttest: 0.7624611\tbest: 0.7337170 (30)\ttotal: 27m 53s\tremaining: 16m 52s\n",
            "623:\tlearn: 0.4369250\ttest: 0.7624906\tbest: 0.7337170 (30)\ttotal: 27m 55s\tremaining: 16m 49s\n",
            "624:\tlearn: 0.4364964\ttest: 0.7621506\tbest: 0.7337170 (30)\ttotal: 27m 58s\tremaining: 16m 47s\n",
            "625:\tlearn: 0.4364329\ttest: 0.7622040\tbest: 0.7337170 (30)\ttotal: 28m 2s\tremaining: 16m 44s\n",
            "626:\tlearn: 0.4363784\ttest: 0.7619603\tbest: 0.7337170 (30)\ttotal: 28m 5s\tremaining: 16m 42s\n",
            "627:\tlearn: 0.4362634\ttest: 0.7619581\tbest: 0.7337170 (30)\ttotal: 28m 8s\tremaining: 16m 39s\n",
            "628:\tlearn: 0.4361800\ttest: 0.7621207\tbest: 0.7337170 (30)\ttotal: 28m 10s\tremaining: 16m 37s\n",
            "629:\tlearn: 0.4361295\ttest: 0.7620328\tbest: 0.7337170 (30)\ttotal: 28m 13s\tremaining: 16m 34s\n",
            "630:\tlearn: 0.4360566\ttest: 0.7620033\tbest: 0.7337170 (30)\ttotal: 28m 16s\tremaining: 16m 32s\n",
            "631:\tlearn: 0.4360020\ttest: 0.7620688\tbest: 0.7337170 (30)\ttotal: 28m 18s\tremaining: 16m 29s\n",
            "632:\tlearn: 0.4359550\ttest: 0.7620420\tbest: 0.7337170 (30)\ttotal: 28m 21s\tremaining: 16m 26s\n",
            "633:\tlearn: 0.4358771\ttest: 0.7620815\tbest: 0.7337170 (30)\ttotal: 28m 24s\tremaining: 16m 23s\n",
            "634:\tlearn: 0.4358325\ttest: 0.7619395\tbest: 0.7337170 (30)\ttotal: 28m 26s\tremaining: 16m 21s\n",
            "635:\tlearn: 0.4357680\ttest: 0.7619424\tbest: 0.7337170 (30)\ttotal: 28m 30s\tremaining: 16m 18s\n",
            "636:\tlearn: 0.4354045\ttest: 0.7615927\tbest: 0.7337170 (30)\ttotal: 28m 32s\tremaining: 16m 16s\n",
            "637:\tlearn: 0.4353221\ttest: 0.7616821\tbest: 0.7337170 (30)\ttotal: 28m 35s\tremaining: 16m 13s\n",
            "638:\tlearn: 0.4352536\ttest: 0.7616750\tbest: 0.7337170 (30)\ttotal: 28m 37s\tremaining: 16m 10s\n",
            "639:\tlearn: 0.4351947\ttest: 0.7616850\tbest: 0.7337170 (30)\ttotal: 28m 41s\tremaining: 16m 8s\n",
            "640:\tlearn: 0.4351021\ttest: 0.7618196\tbest: 0.7337170 (30)\ttotal: 28m 44s\tremaining: 16m 5s\n",
            "641:\tlearn: 0.4350579\ttest: 0.7618925\tbest: 0.7337170 (30)\ttotal: 28m 47s\tremaining: 16m 3s\n",
            "642:\tlearn: 0.4349651\ttest: 0.7619686\tbest: 0.7337170 (30)\ttotal: 28m 49s\tremaining: 16m\n",
            "643:\tlearn: 0.4348623\ttest: 0.7619396\tbest: 0.7337170 (30)\ttotal: 28m 52s\tremaining: 15m 57s\n",
            "644:\tlearn: 0.4347791\ttest: 0.7620635\tbest: 0.7337170 (30)\ttotal: 28m 54s\tremaining: 15m 54s\n",
            "645:\tlearn: 0.4347584\ttest: 0.7624139\tbest: 0.7337170 (30)\ttotal: 28m 57s\tremaining: 15m 51s\n",
            "646:\tlearn: 0.4346831\ttest: 0.7626035\tbest: 0.7337170 (30)\ttotal: 28m 59s\tremaining: 15m 49s\n",
            "647:\tlearn: 0.4346463\ttest: 0.7623467\tbest: 0.7337170 (30)\ttotal: 29m 2s\tremaining: 15m 46s\n",
            "648:\tlearn: 0.4345860\ttest: 0.7625571\tbest: 0.7337170 (30)\ttotal: 29m 5s\tremaining: 15m 44s\n",
            "649:\tlearn: 0.4345207\ttest: 0.7626375\tbest: 0.7337170 (30)\ttotal: 29m 8s\tremaining: 15m 41s\n",
            "650:\tlearn: 0.4344724\ttest: 0.7628307\tbest: 0.7337170 (30)\ttotal: 29m 11s\tremaining: 15m 38s\n",
            "651:\tlearn: 0.4343857\ttest: 0.7626486\tbest: 0.7337170 (30)\ttotal: 29m 13s\tremaining: 15m 36s\n",
            "652:\tlearn: 0.4342981\ttest: 0.7627712\tbest: 0.7337170 (30)\ttotal: 29m 16s\tremaining: 15m 33s\n",
            "653:\tlearn: 0.4342158\ttest: 0.7627889\tbest: 0.7337170 (30)\ttotal: 29m 19s\tremaining: 15m 30s\n",
            "654:\tlearn: 0.4341635\ttest: 0.7627631\tbest: 0.7337170 (30)\ttotal: 29m 21s\tremaining: 15m 27s\n",
            "655:\tlearn: 0.4340200\ttest: 0.7628092\tbest: 0.7337170 (30)\ttotal: 29m 24s\tremaining: 15m 25s\n",
            "656:\tlearn: 0.4339838\ttest: 0.7629501\tbest: 0.7337170 (30)\ttotal: 29m 27s\tremaining: 15m 22s\n",
            "657:\tlearn: 0.4339204\ttest: 0.7629676\tbest: 0.7337170 (30)\ttotal: 29m 29s\tremaining: 15m 19s\n",
            "658:\tlearn: 0.4338608\ttest: 0.7629837\tbest: 0.7337170 (30)\ttotal: 29m 32s\tremaining: 15m 17s\n",
            "659:\tlearn: 0.4337749\ttest: 0.7631086\tbest: 0.7337170 (30)\ttotal: 29m 34s\tremaining: 15m 14s\n",
            "660:\tlearn: 0.4337252\ttest: 0.7631137\tbest: 0.7337170 (30)\ttotal: 29m 37s\tremaining: 15m 11s\n",
            "661:\tlearn: 0.4336917\ttest: 0.7630620\tbest: 0.7337170 (30)\ttotal: 29m 40s\tremaining: 15m 9s\n",
            "662:\tlearn: 0.4334670\ttest: 0.7639971\tbest: 0.7337170 (30)\ttotal: 29m 43s\tremaining: 15m 6s\n",
            "663:\tlearn: 0.4334025\ttest: 0.7639502\tbest: 0.7337170 (30)\ttotal: 29m 45s\tremaining: 15m 3s\n",
            "664:\tlearn: 0.4333574\ttest: 0.7640007\tbest: 0.7337170 (30)\ttotal: 29m 48s\tremaining: 15m\n",
            "665:\tlearn: 0.4331166\ttest: 0.7638758\tbest: 0.7337170 (30)\ttotal: 29m 51s\tremaining: 14m 58s\n",
            "666:\tlearn: 0.4330378\ttest: 0.7639606\tbest: 0.7337170 (30)\ttotal: 29m 53s\tremaining: 14m 55s\n",
            "667:\tlearn: 0.4320935\ttest: 0.7664078\tbest: 0.7337170 (30)\ttotal: 29m 56s\tremaining: 14m 53s\n",
            "668:\tlearn: 0.4317641\ttest: 0.7666642\tbest: 0.7337170 (30)\ttotal: 29m 59s\tremaining: 14m 50s\n",
            "669:\tlearn: 0.4316718\ttest: 0.7665052\tbest: 0.7337170 (30)\ttotal: 30m 2s\tremaining: 14m 47s\n",
            "670:\tlearn: 0.4315209\ttest: 0.7664126\tbest: 0.7337170 (30)\ttotal: 30m 5s\tremaining: 14m 45s\n",
            "671:\tlearn: 0.4314756\ttest: 0.7663936\tbest: 0.7337170 (30)\ttotal: 30m 8s\tremaining: 14m 42s\n",
            "672:\tlearn: 0.4314260\ttest: 0.7664078\tbest: 0.7337170 (30)\ttotal: 30m 10s\tremaining: 14m 39s\n",
            "673:\tlearn: 0.4313598\ttest: 0.7660114\tbest: 0.7337170 (30)\ttotal: 30m 12s\tremaining: 14m 36s\n",
            "674:\tlearn: 0.4312834\ttest: 0.7661390\tbest: 0.7337170 (30)\ttotal: 30m 15s\tremaining: 14m 34s\n",
            "675:\tlearn: 0.4311533\ttest: 0.7661218\tbest: 0.7337170 (30)\ttotal: 30m 18s\tremaining: 14m 31s\n",
            "676:\tlearn: 0.4311197\ttest: 0.7661129\tbest: 0.7337170 (30)\ttotal: 30m 20s\tremaining: 14m 28s\n",
            "677:\tlearn: 0.4310535\ttest: 0.7660394\tbest: 0.7337170 (30)\ttotal: 30m 23s\tremaining: 14m 26s\n",
            "678:\tlearn: 0.4309575\ttest: 0.7661499\tbest: 0.7337170 (30)\ttotal: 30m 25s\tremaining: 14m 23s\n",
            "679:\tlearn: 0.4309033\ttest: 0.7661561\tbest: 0.7337170 (30)\ttotal: 30m 28s\tremaining: 14m 20s\n",
            "680:\tlearn: 0.4308258\ttest: 0.7661838\tbest: 0.7337170 (30)\ttotal: 30m 31s\tremaining: 14m 17s\n",
            "681:\tlearn: 0.4307175\ttest: 0.7668616\tbest: 0.7337170 (30)\ttotal: 30m 33s\tremaining: 14m 14s\n",
            "682:\tlearn: 0.4306704\ttest: 0.7668295\tbest: 0.7337170 (30)\ttotal: 30m 37s\tremaining: 14m 12s\n",
            "683:\tlearn: 0.4302089\ttest: 0.7711820\tbest: 0.7337170 (30)\ttotal: 30m 40s\tremaining: 14m 10s\n",
            "684:\tlearn: 0.4301587\ttest: 0.7712521\tbest: 0.7337170 (30)\ttotal: 30m 42s\tremaining: 14m 7s\n",
            "685:\tlearn: 0.4301074\ttest: 0.7712168\tbest: 0.7337170 (30)\ttotal: 30m 45s\tremaining: 14m 4s\n",
            "686:\tlearn: 0.4300501\ttest: 0.7712659\tbest: 0.7337170 (30)\ttotal: 30m 48s\tremaining: 14m 2s\n",
            "687:\tlearn: 0.4299907\ttest: 0.7712572\tbest: 0.7337170 (30)\ttotal: 30m 51s\tremaining: 13m 59s\n",
            "688:\tlearn: 0.4299584\ttest: 0.7715545\tbest: 0.7337170 (30)\ttotal: 30m 53s\tremaining: 13m 56s\n",
            "689:\tlearn: 0.4299090\ttest: 0.7715579\tbest: 0.7337170 (30)\ttotal: 30m 56s\tremaining: 13m 54s\n",
            "690:\tlearn: 0.4298822\ttest: 0.7716076\tbest: 0.7337170 (30)\ttotal: 30m 59s\tremaining: 13m 51s\n",
            "691:\tlearn: 0.4298544\ttest: 0.7716287\tbest: 0.7337170 (30)\ttotal: 31m 1s\tremaining: 13m 48s\n",
            "692:\tlearn: 0.4297445\ttest: 0.7716317\tbest: 0.7337170 (30)\ttotal: 31m 4s\tremaining: 13m 45s\n",
            "693:\tlearn: 0.4296938\ttest: 0.7716488\tbest: 0.7337170 (30)\ttotal: 31m 6s\tremaining: 13m 43s\n",
            "694:\tlearn: 0.4296590\ttest: 0.7716291\tbest: 0.7337170 (30)\ttotal: 31m 9s\tremaining: 13m 40s\n",
            "695:\tlearn: 0.4296205\ttest: 0.7721078\tbest: 0.7337170 (30)\ttotal: 31m 12s\tremaining: 13m 38s\n",
            "696:\tlearn: 0.4295265\ttest: 0.7721574\tbest: 0.7337170 (30)\ttotal: 31m 15s\tremaining: 13m 35s\n",
            "697:\tlearn: 0.4294679\ttest: 0.7721445\tbest: 0.7337170 (30)\ttotal: 31m 17s\tremaining: 13m 32s\n",
            "698:\tlearn: 0.4293676\ttest: 0.7720565\tbest: 0.7337170 (30)\ttotal: 31m 20s\tremaining: 13m 29s\n",
            "699:\tlearn: 0.4292942\ttest: 0.7717824\tbest: 0.7337170 (30)\ttotal: 31m 22s\tremaining: 13m 26s\n",
            "700:\tlearn: 0.4292252\ttest: 0.7718362\tbest: 0.7337170 (30)\ttotal: 31m 25s\tremaining: 13m 24s\n",
            "701:\tlearn: 0.4291702\ttest: 0.7718075\tbest: 0.7337170 (30)\ttotal: 31m 28s\tremaining: 13m 21s\n",
            "702:\tlearn: 0.4290943\ttest: 0.7717775\tbest: 0.7337170 (30)\ttotal: 31m 31s\tremaining: 13m 19s\n",
            "703:\tlearn: 0.4290005\ttest: 0.7718131\tbest: 0.7337170 (30)\ttotal: 31m 34s\tremaining: 13m 16s\n",
            "704:\tlearn: 0.4289387\ttest: 0.7717708\tbest: 0.7337170 (30)\ttotal: 31m 37s\tremaining: 13m 13s\n",
            "705:\tlearn: 0.4288200\ttest: 0.7716235\tbest: 0.7337170 (30)\ttotal: 31m 40s\tremaining: 13m 11s\n",
            "706:\tlearn: 0.4287310\ttest: 0.7716106\tbest: 0.7337170 (30)\ttotal: 31m 42s\tremaining: 13m 8s\n",
            "707:\tlearn: 0.4286580\ttest: 0.7716178\tbest: 0.7337170 (30)\ttotal: 31m 44s\tremaining: 13m 5s\n",
            "708:\tlearn: 0.4286055\ttest: 0.7715976\tbest: 0.7337170 (30)\ttotal: 31m 47s\tremaining: 13m 2s\n",
            "709:\tlearn: 0.4285262\ttest: 0.7714171\tbest: 0.7337170 (30)\ttotal: 31m 50s\tremaining: 13m\n",
            "710:\tlearn: 0.4284461\ttest: 0.7712465\tbest: 0.7337170 (30)\ttotal: 31m 52s\tremaining: 12m 57s\n",
            "711:\tlearn: 0.4284225\ttest: 0.7712192\tbest: 0.7337170 (30)\ttotal: 31m 55s\tremaining: 12m 54s\n",
            "712:\tlearn: 0.4282932\ttest: 0.7712085\tbest: 0.7337170 (30)\ttotal: 31m 58s\tremaining: 12m 52s\n",
            "713:\tlearn: 0.4282169\ttest: 0.7711647\tbest: 0.7337170 (30)\ttotal: 32m\tremaining: 12m 49s\n",
            "714:\tlearn: 0.4281758\ttest: 0.7711786\tbest: 0.7337170 (30)\ttotal: 32m 3s\tremaining: 12m 46s\n",
            "715:\tlearn: 0.4281007\ttest: 0.7710893\tbest: 0.7337170 (30)\ttotal: 32m 5s\tremaining: 12m 43s\n",
            "716:\tlearn: 0.4280316\ttest: 0.7710741\tbest: 0.7337170 (30)\ttotal: 32m 8s\tremaining: 12m 41s\n",
            "717:\tlearn: 0.4278900\ttest: 0.7709758\tbest: 0.7337170 (30)\ttotal: 32m 11s\tremaining: 12m 38s\n",
            "718:\tlearn: 0.4278016\ttest: 0.7708779\tbest: 0.7337170 (30)\ttotal: 32m 13s\tremaining: 12m 35s\n",
            "719:\tlearn: 0.4277183\ttest: 0.7708749\tbest: 0.7337170 (30)\ttotal: 32m 15s\tremaining: 12m 32s\n",
            "720:\tlearn: 0.4276168\ttest: 0.7709827\tbest: 0.7337170 (30)\ttotal: 32m 18s\tremaining: 12m 30s\n",
            "721:\tlearn: 0.4275894\ttest: 0.7709807\tbest: 0.7337170 (30)\ttotal: 32m 21s\tremaining: 12m 27s\n",
            "722:\tlearn: 0.4275346\ttest: 0.7712008\tbest: 0.7337170 (30)\ttotal: 32m 24s\tremaining: 12m 24s\n",
            "723:\tlearn: 0.4274897\ttest: 0.7711751\tbest: 0.7337170 (30)\ttotal: 32m 26s\tremaining: 12m 22s\n",
            "724:\tlearn: 0.4274102\ttest: 0.7712493\tbest: 0.7337170 (30)\ttotal: 32m 29s\tremaining: 12m 19s\n",
            "725:\tlearn: 0.4273483\ttest: 0.7713559\tbest: 0.7337170 (30)\ttotal: 32m 31s\tremaining: 12m 16s\n",
            "726:\tlearn: 0.4273043\ttest: 0.7711976\tbest: 0.7337170 (30)\ttotal: 32m 34s\tremaining: 12m 13s\n",
            "727:\tlearn: 0.4272495\ttest: 0.7712230\tbest: 0.7337170 (30)\ttotal: 32m 37s\tremaining: 12m 11s\n",
            "728:\tlearn: 0.4272220\ttest: 0.7711744\tbest: 0.7337170 (30)\ttotal: 32m 40s\tremaining: 12m 8s\n",
            "729:\tlearn: 0.4271319\ttest: 0.7712684\tbest: 0.7337170 (30)\ttotal: 32m 43s\tremaining: 12m 6s\n",
            "730:\tlearn: 0.4270692\ttest: 0.7712766\tbest: 0.7337170 (30)\ttotal: 32m 46s\tremaining: 12m 3s\n",
            "731:\tlearn: 0.4270001\ttest: 0.7713011\tbest: 0.7337170 (30)\ttotal: 32m 49s\tremaining: 12m\n",
            "732:\tlearn: 0.4268894\ttest: 0.7713170\tbest: 0.7337170 (30)\ttotal: 32m 52s\tremaining: 11m 58s\n",
            "733:\tlearn: 0.4268442\ttest: 0.7713173\tbest: 0.7337170 (30)\ttotal: 32m 54s\tremaining: 11m 55s\n",
            "734:\tlearn: 0.4267992\ttest: 0.7713241\tbest: 0.7337170 (30)\ttotal: 32m 57s\tremaining: 11m 52s\n",
            "735:\tlearn: 0.4263626\ttest: 0.7717030\tbest: 0.7337170 (30)\ttotal: 32m 59s\tremaining: 11m 50s\n",
            "736:\tlearn: 0.4263116\ttest: 0.7717197\tbest: 0.7337170 (30)\ttotal: 33m 2s\tremaining: 11m 47s\n",
            "737:\tlearn: 0.4262833\ttest: 0.7717078\tbest: 0.7337170 (30)\ttotal: 33m 5s\tremaining: 11m 44s\n",
            "738:\tlearn: 0.4262473\ttest: 0.7717474\tbest: 0.7337170 (30)\ttotal: 33m 8s\tremaining: 11m 42s\n",
            "739:\tlearn: 0.4262008\ttest: 0.7713465\tbest: 0.7337170 (30)\ttotal: 33m 11s\tremaining: 11m 39s\n",
            "740:\tlearn: 0.4261586\ttest: 0.7713695\tbest: 0.7337170 (30)\ttotal: 33m 15s\tremaining: 11m 37s\n",
            "741:\tlearn: 0.4260587\ttest: 0.7715175\tbest: 0.7337170 (30)\ttotal: 33m 17s\tremaining: 11m 34s\n",
            "742:\tlearn: 0.4260145\ttest: 0.7719063\tbest: 0.7337170 (30)\ttotal: 33m 20s\tremaining: 11m 32s\n",
            "743:\tlearn: 0.4259820\ttest: 0.7719059\tbest: 0.7337170 (30)\ttotal: 33m 23s\tremaining: 11m 29s\n",
            "744:\tlearn: 0.4259303\ttest: 0.7719027\tbest: 0.7337170 (30)\ttotal: 33m 25s\tremaining: 11m 26s\n",
            "745:\tlearn: 0.4258543\ttest: 0.7718104\tbest: 0.7337170 (30)\ttotal: 33m 29s\tremaining: 11m 24s\n",
            "746:\tlearn: 0.4257739\ttest: 0.7717936\tbest: 0.7337170 (30)\ttotal: 33m 31s\tremaining: 11m 21s\n",
            "747:\tlearn: 0.4257121\ttest: 0.7717364\tbest: 0.7337170 (30)\ttotal: 33m 34s\tremaining: 11m 18s\n",
            "748:\tlearn: 0.4256567\ttest: 0.7717439\tbest: 0.7337170 (30)\ttotal: 33m 37s\tremaining: 11m 16s\n",
            "749:\tlearn: 0.4256047\ttest: 0.7719804\tbest: 0.7337170 (30)\ttotal: 33m 39s\tremaining: 11m 13s\n",
            "750:\tlearn: 0.4255649\ttest: 0.7719953\tbest: 0.7337170 (30)\ttotal: 33m 42s\tremaining: 11m 10s\n",
            "751:\tlearn: 0.4254861\ttest: 0.7720976\tbest: 0.7337170 (30)\ttotal: 33m 45s\tremaining: 11m 7s\n",
            "752:\tlearn: 0.4254475\ttest: 0.7721533\tbest: 0.7337170 (30)\ttotal: 33m 47s\tremaining: 11m 4s\n",
            "753:\tlearn: 0.4253703\ttest: 0.7720677\tbest: 0.7337170 (30)\ttotal: 33m 50s\tremaining: 11m 2s\n",
            "754:\tlearn: 0.4252973\ttest: 0.7720811\tbest: 0.7337170 (30)\ttotal: 33m 52s\tremaining: 10m 59s\n",
            "755:\tlearn: 0.4252308\ttest: 0.7721154\tbest: 0.7337170 (30)\ttotal: 33m 55s\tremaining: 10m 56s\n",
            "756:\tlearn: 0.4250648\ttest: 0.7713266\tbest: 0.7337170 (30)\ttotal: 33m 58s\tremaining: 10m 54s\n",
            "757:\tlearn: 0.4250295\ttest: 0.7710645\tbest: 0.7337170 (30)\ttotal: 34m 1s\tremaining: 10m 51s\n",
            "758:\tlearn: 0.4249222\ttest: 0.7711295\tbest: 0.7337170 (30)\ttotal: 34m 3s\tremaining: 10m 48s\n",
            "759:\tlearn: 0.4248554\ttest: 0.7711891\tbest: 0.7337170 (30)\ttotal: 34m 6s\tremaining: 10m 46s\n",
            "760:\tlearn: 0.4248183\ttest: 0.7712130\tbest: 0.7337170 (30)\ttotal: 34m 9s\tremaining: 10m 43s\n",
            "761:\tlearn: 0.4247455\ttest: 0.7713358\tbest: 0.7337170 (30)\ttotal: 34m 12s\tremaining: 10m 41s\n",
            "762:\tlearn: 0.4246954\ttest: 0.7713681\tbest: 0.7337170 (30)\ttotal: 34m 14s\tremaining: 10m 38s\n",
            "763:\tlearn: 0.4246453\ttest: 0.7713365\tbest: 0.7337170 (30)\ttotal: 34m 17s\tremaining: 10m 35s\n",
            "764:\tlearn: 0.4245885\ttest: 0.7714527\tbest: 0.7337170 (30)\ttotal: 34m 20s\tremaining: 10m 32s\n",
            "765:\tlearn: 0.4244945\ttest: 0.7714245\tbest: 0.7337170 (30)\ttotal: 34m 22s\tremaining: 10m 30s\n",
            "766:\tlearn: 0.4244341\ttest: 0.7714556\tbest: 0.7337170 (30)\ttotal: 34m 25s\tremaining: 10m 27s\n",
            "767:\tlearn: 0.4243846\ttest: 0.7712978\tbest: 0.7337170 (30)\ttotal: 34m 29s\tremaining: 10m 25s\n",
            "768:\tlearn: 0.4243463\ttest: 0.7713422\tbest: 0.7337170 (30)\ttotal: 34m 32s\tremaining: 10m 22s\n",
            "769:\tlearn: 0.4243166\ttest: 0.7713618\tbest: 0.7337170 (30)\ttotal: 34m 34s\tremaining: 10m 19s\n",
            "770:\tlearn: 0.4242902\ttest: 0.7713470\tbest: 0.7337170 (30)\ttotal: 34m 37s\tremaining: 10m 17s\n",
            "771:\tlearn: 0.4242363\ttest: 0.7714093\tbest: 0.7337170 (30)\ttotal: 34m 40s\tremaining: 10m 14s\n",
            "772:\tlearn: 0.4242121\ttest: 0.7714473\tbest: 0.7337170 (30)\ttotal: 34m 42s\tremaining: 10m 11s\n",
            "773:\tlearn: 0.4241723\ttest: 0.7714674\tbest: 0.7337170 (30)\ttotal: 34m 45s\tremaining: 10m 9s\n",
            "774:\tlearn: 0.4241259\ttest: 0.7713875\tbest: 0.7337170 (30)\ttotal: 34m 49s\tremaining: 10m 6s\n",
            "775:\tlearn: 0.4240589\ttest: 0.7713896\tbest: 0.7337170 (30)\ttotal: 34m 51s\tremaining: 10m 3s\n",
            "776:\tlearn: 0.4240216\ttest: 0.7712970\tbest: 0.7337170 (30)\ttotal: 34m 53s\tremaining: 10m\n",
            "777:\tlearn: 0.4239579\ttest: 0.7712600\tbest: 0.7337170 (30)\ttotal: 34m 56s\tremaining: 9m 58s\n",
            "778:\tlearn: 0.4238757\ttest: 0.7713265\tbest: 0.7337170 (30)\ttotal: 34m 58s\tremaining: 9m 55s\n",
            "779:\tlearn: 0.4237771\ttest: 0.7720539\tbest: 0.7337170 (30)\ttotal: 35m 1s\tremaining: 9m 52s\n",
            "780:\tlearn: 0.4236511\ttest: 0.7718475\tbest: 0.7337170 (30)\ttotal: 35m 4s\tremaining: 9m 49s\n",
            "781:\tlearn: 0.4236118\ttest: 0.7718261\tbest: 0.7337170 (30)\ttotal: 35m 6s\tremaining: 9m 47s\n",
            "782:\tlearn: 0.4235570\ttest: 0.7714476\tbest: 0.7337170 (30)\ttotal: 35m 8s\tremaining: 9m 44s\n",
            "783:\tlearn: 0.4234677\ttest: 0.7712803\tbest: 0.7337170 (30)\ttotal: 35m 12s\tremaining: 9m 41s\n",
            "784:\tlearn: 0.4233991\ttest: 0.7712705\tbest: 0.7337170 (30)\ttotal: 35m 15s\tremaining: 9m 39s\n",
            "785:\tlearn: 0.4233507\ttest: 0.7713741\tbest: 0.7337170 (30)\ttotal: 35m 17s\tremaining: 9m 36s\n",
            "786:\tlearn: 0.4232855\ttest: 0.7713843\tbest: 0.7337170 (30)\ttotal: 35m 20s\tremaining: 9m 33s\n",
            "787:\tlearn: 0.4230347\ttest: 0.7719303\tbest: 0.7337170 (30)\ttotal: 35m 23s\tremaining: 9m 31s\n",
            "788:\tlearn: 0.4229774\ttest: 0.7719250\tbest: 0.7337170 (30)\ttotal: 35m 25s\tremaining: 9m 28s\n",
            "789:\tlearn: 0.4229471\ttest: 0.7719653\tbest: 0.7337170 (30)\ttotal: 35m 28s\tremaining: 9m 25s\n",
            "790:\tlearn: 0.4228971\ttest: 0.7720235\tbest: 0.7337170 (30)\ttotal: 35m 30s\tremaining: 9m 23s\n",
            "791:\tlearn: 0.4228193\ttest: 0.7720414\tbest: 0.7337170 (30)\ttotal: 35m 33s\tremaining: 9m 20s\n",
            "792:\tlearn: 0.4227710\ttest: 0.7720647\tbest: 0.7337170 (30)\ttotal: 35m 35s\tremaining: 9m 17s\n",
            "793:\tlearn: 0.4226981\ttest: 0.7721007\tbest: 0.7337170 (30)\ttotal: 35m 37s\tremaining: 9m 14s\n",
            "794:\tlearn: 0.4226684\ttest: 0.7720470\tbest: 0.7337170 (30)\ttotal: 35m 40s\tremaining: 9m 12s\n",
            "795:\tlearn: 0.4226288\ttest: 0.7720586\tbest: 0.7337170 (30)\ttotal: 35m 43s\tremaining: 9m 9s\n",
            "796:\tlearn: 0.4225998\ttest: 0.7720405\tbest: 0.7337170 (30)\ttotal: 35m 46s\tremaining: 9m 6s\n",
            "797:\tlearn: 0.4225474\ttest: 0.7720548\tbest: 0.7337170 (30)\ttotal: 35m 49s\tremaining: 9m 4s\n",
            "798:\tlearn: 0.4224647\ttest: 0.7720438\tbest: 0.7337170 (30)\ttotal: 35m 51s\tremaining: 9m 1s\n",
            "799:\tlearn: 0.4224196\ttest: 0.7720902\tbest: 0.7337170 (30)\ttotal: 35m 54s\tremaining: 8m 58s\n",
            "800:\tlearn: 0.4222696\ttest: 0.7720011\tbest: 0.7337170 (30)\ttotal: 35m 58s\tremaining: 8m 56s\n",
            "801:\tlearn: 0.4222055\ttest: 0.7720450\tbest: 0.7337170 (30)\ttotal: 36m 1s\tremaining: 8m 53s\n",
            "802:\tlearn: 0.4221626\ttest: 0.7720313\tbest: 0.7337170 (30)\ttotal: 36m 3s\tremaining: 8m 50s\n",
            "803:\tlearn: 0.4221195\ttest: 0.7719830\tbest: 0.7337170 (30)\ttotal: 36m 6s\tremaining: 8m 48s\n",
            "804:\tlearn: 0.4215728\ttest: 0.7717315\tbest: 0.7337170 (30)\ttotal: 36m 8s\tremaining: 8m 45s\n",
            "805:\tlearn: 0.4215331\ttest: 0.7717513\tbest: 0.7337170 (30)\ttotal: 36m 11s\tremaining: 8m 42s\n",
            "806:\tlearn: 0.4214788\ttest: 0.7717069\tbest: 0.7337170 (30)\ttotal: 36m 14s\tremaining: 8m 39s\n",
            "807:\tlearn: 0.4213627\ttest: 0.7716198\tbest: 0.7337170 (30)\ttotal: 36m 16s\tremaining: 8m 37s\n",
            "808:\tlearn: 0.4212601\ttest: 0.7716507\tbest: 0.7337170 (30)\ttotal: 36m 18s\tremaining: 8m 34s\n",
            "809:\tlearn: 0.4212076\ttest: 0.7715156\tbest: 0.7337170 (30)\ttotal: 36m 21s\tremaining: 8m 31s\n",
            "810:\tlearn: 0.4211978\ttest: 0.7724213\tbest: 0.7337170 (30)\ttotal: 36m 24s\tremaining: 8m 29s\n",
            "811:\tlearn: 0.4210768\ttest: 0.7726351\tbest: 0.7337170 (30)\ttotal: 36m 26s\tremaining: 8m 26s\n",
            "812:\tlearn: 0.4209790\ttest: 0.7723793\tbest: 0.7337170 (30)\ttotal: 36m 29s\tremaining: 8m 23s\n",
            "813:\tlearn: 0.4209481\ttest: 0.7725734\tbest: 0.7337170 (30)\ttotal: 36m 31s\tremaining: 8m 20s\n",
            "814:\tlearn: 0.4208837\ttest: 0.7725235\tbest: 0.7337170 (30)\ttotal: 36m 35s\tremaining: 8m 18s\n",
            "815:\tlearn: 0.4208375\ttest: 0.7725605\tbest: 0.7337170 (30)\ttotal: 36m 38s\tremaining: 8m 15s\n",
            "816:\tlearn: 0.4207659\ttest: 0.7725786\tbest: 0.7337170 (30)\ttotal: 36m 40s\tremaining: 8m 12s\n",
            "817:\tlearn: 0.4207165\ttest: 0.7725342\tbest: 0.7337170 (30)\ttotal: 36m 43s\tremaining: 8m 10s\n",
            "818:\tlearn: 0.4206719\ttest: 0.7725102\tbest: 0.7337170 (30)\ttotal: 36m 46s\tremaining: 8m 7s\n",
            "819:\tlearn: 0.4206222\ttest: 0.7725423\tbest: 0.7337170 (30)\ttotal: 36m 49s\tremaining: 8m 5s\n",
            "820:\tlearn: 0.4205561\ttest: 0.7724103\tbest: 0.7337170 (30)\ttotal: 36m 52s\tremaining: 8m 2s\n",
            "821:\tlearn: 0.4204131\ttest: 0.7725895\tbest: 0.7337170 (30)\ttotal: 36m 54s\tremaining: 7m 59s\n",
            "822:\tlearn: 0.4203652\ttest: 0.7725073\tbest: 0.7337170 (30)\ttotal: 36m 57s\tremaining: 7m 56s\n",
            "823:\tlearn: 0.4203022\ttest: 0.7724916\tbest: 0.7337170 (30)\ttotal: 36m 59s\tremaining: 7m 54s\n",
            "824:\tlearn: 0.4202271\ttest: 0.7724949\tbest: 0.7337170 (30)\ttotal: 37m 2s\tremaining: 7m 51s\n",
            "825:\tlearn: 0.4200717\ttest: 0.7723917\tbest: 0.7337170 (30)\ttotal: 37m 5s\tremaining: 7m 48s\n",
            "826:\tlearn: 0.4199263\ttest: 0.7724349\tbest: 0.7337170 (30)\ttotal: 37m 8s\tremaining: 7m 46s\n",
            "827:\tlearn: 0.4198622\ttest: 0.7724604\tbest: 0.7337170 (30)\ttotal: 37m 12s\tremaining: 7m 43s\n",
            "828:\tlearn: 0.4198045\ttest: 0.7724911\tbest: 0.7337170 (30)\ttotal: 37m 15s\tremaining: 7m 41s\n",
            "829:\tlearn: 0.4196999\ttest: 0.7724098\tbest: 0.7337170 (30)\ttotal: 37m 18s\tremaining: 7m 38s\n",
            "830:\tlearn: 0.4196428\ttest: 0.7724373\tbest: 0.7337170 (30)\ttotal: 37m 21s\tremaining: 7m 35s\n",
            "831:\tlearn: 0.4195853\ttest: 0.7725352\tbest: 0.7337170 (30)\ttotal: 37m 23s\tremaining: 7m 33s\n",
            "832:\tlearn: 0.4195028\ttest: 0.7724861\tbest: 0.7337170 (30)\ttotal: 37m 26s\tremaining: 7m 30s\n",
            "833:\tlearn: 0.4194561\ttest: 0.7725206\tbest: 0.7337170 (30)\ttotal: 37m 29s\tremaining: 7m 27s\n",
            "834:\tlearn: 0.4193897\ttest: 0.7724648\tbest: 0.7337170 (30)\ttotal: 37m 32s\tremaining: 7m 25s\n",
            "835:\tlearn: 0.4193259\ttest: 0.7725007\tbest: 0.7337170 (30)\ttotal: 37m 35s\tremaining: 7m 22s\n",
            "836:\tlearn: 0.4192945\ttest: 0.7727619\tbest: 0.7337170 (30)\ttotal: 37m 37s\tremaining: 7m 19s\n",
            "837:\tlearn: 0.4192385\ttest: 0.7727624\tbest: 0.7337170 (30)\ttotal: 37m 39s\tremaining: 7m 16s\n",
            "838:\tlearn: 0.4191401\ttest: 0.7728103\tbest: 0.7337170 (30)\ttotal: 37m 42s\tremaining: 7m 14s\n",
            "839:\tlearn: 0.4191180\ttest: 0.7726675\tbest: 0.7337170 (30)\ttotal: 37m 45s\tremaining: 7m 11s\n",
            "840:\tlearn: 0.4190233\ttest: 0.7727228\tbest: 0.7337170 (30)\ttotal: 37m 48s\tremaining: 7m 8s\n",
            "841:\tlearn: 0.4189916\ttest: 0.7726555\tbest: 0.7337170 (30)\ttotal: 37m 51s\tremaining: 7m 6s\n",
            "842:\tlearn: 0.4189570\ttest: 0.7726727\tbest: 0.7337170 (30)\ttotal: 37m 54s\tremaining: 7m 3s\n",
            "843:\tlearn: 0.4189015\ttest: 0.7727020\tbest: 0.7337170 (30)\ttotal: 37m 56s\tremaining: 7m\n",
            "844:\tlearn: 0.4188660\ttest: 0.7726584\tbest: 0.7337170 (30)\ttotal: 38m\tremaining: 6m 58s\n",
            "845:\tlearn: 0.4188124\ttest: 0.7726718\tbest: 0.7337170 (30)\ttotal: 38m 3s\tremaining: 6m 55s\n",
            "846:\tlearn: 0.4187608\ttest: 0.7727080\tbest: 0.7337170 (30)\ttotal: 38m 6s\tremaining: 6m 53s\n",
            "847:\tlearn: 0.4186757\ttest: 0.7726963\tbest: 0.7337170 (30)\ttotal: 38m 8s\tremaining: 6m 50s\n",
            "848:\tlearn: 0.4186261\ttest: 0.7726940\tbest: 0.7337170 (30)\ttotal: 38m 11s\tremaining: 6m 47s\n",
            "849:\tlearn: 0.4185659\ttest: 0.7726756\tbest: 0.7337170 (30)\ttotal: 38m 15s\tremaining: 6m 45s\n",
            "850:\tlearn: 0.4184402\ttest: 0.7728609\tbest: 0.7337170 (30)\ttotal: 38m 18s\tremaining: 6m 42s\n",
            "851:\tlearn: 0.4183631\ttest: 0.7728786\tbest: 0.7337170 (30)\ttotal: 38m 20s\tremaining: 6m 39s\n",
            "852:\tlearn: 0.4183094\ttest: 0.7728549\tbest: 0.7337170 (30)\ttotal: 38m 23s\tremaining: 6m 36s\n",
            "853:\tlearn: 0.4182365\ttest: 0.7728621\tbest: 0.7337170 (30)\ttotal: 38m 25s\tremaining: 6m 34s\n",
            "854:\tlearn: 0.4181349\ttest: 0.7728699\tbest: 0.7337170 (30)\ttotal: 38m 27s\tremaining: 6m 31s\n",
            "855:\tlearn: 0.4180644\ttest: 0.7729208\tbest: 0.7337170 (30)\ttotal: 38m 30s\tremaining: 6m 28s\n",
            "856:\tlearn: 0.4180390\ttest: 0.7728998\tbest: 0.7337170 (30)\ttotal: 38m 33s\tremaining: 6m 26s\n",
            "857:\tlearn: 0.4179638\ttest: 0.7729021\tbest: 0.7337170 (30)\ttotal: 38m 36s\tremaining: 6m 23s\n",
            "858:\tlearn: 0.4178746\ttest: 0.7728683\tbest: 0.7337170 (30)\ttotal: 38m 39s\tremaining: 6m 20s\n",
            "859:\tlearn: 0.4178283\ttest: 0.7729676\tbest: 0.7337170 (30)\ttotal: 38m 41s\tremaining: 6m 17s\n",
            "860:\tlearn: 0.4178106\ttest: 0.7729734\tbest: 0.7337170 (30)\ttotal: 38m 44s\tremaining: 6m 15s\n",
            "861:\tlearn: 0.4177744\ttest: 0.7725949\tbest: 0.7337170 (30)\ttotal: 38m 47s\tremaining: 6m 12s\n",
            "862:\tlearn: 0.4176588\ttest: 0.7725125\tbest: 0.7337170 (30)\ttotal: 38m 49s\tremaining: 6m 9s\n",
            "863:\tlearn: 0.4174191\ttest: 0.7736850\tbest: 0.7337170 (30)\ttotal: 38m 52s\tremaining: 6m 7s\n",
            "864:\tlearn: 0.4173684\ttest: 0.7736630\tbest: 0.7337170 (30)\ttotal: 38m 55s\tremaining: 6m 4s\n",
            "865:\tlearn: 0.4173156\ttest: 0.7736744\tbest: 0.7337170 (30)\ttotal: 38m 58s\tremaining: 6m 1s\n",
            "866:\tlearn: 0.4172594\ttest: 0.7737105\tbest: 0.7337170 (30)\ttotal: 39m 1s\tremaining: 5m 59s\n",
            "867:\tlearn: 0.4171962\ttest: 0.7737019\tbest: 0.7337170 (30)\ttotal: 39m 3s\tremaining: 5m 56s\n",
            "868:\tlearn: 0.4171652\ttest: 0.7737020\tbest: 0.7337170 (30)\ttotal: 39m 7s\tremaining: 5m 53s\n",
            "869:\tlearn: 0.4171141\ttest: 0.7737353\tbest: 0.7337170 (30)\ttotal: 39m 10s\tremaining: 5m 51s\n",
            "870:\tlearn: 0.4170607\ttest: 0.7736904\tbest: 0.7337170 (30)\ttotal: 39m 13s\tremaining: 5m 48s\n",
            "871:\tlearn: 0.4166813\ttest: 0.7734166\tbest: 0.7337170 (30)\ttotal: 39m 16s\tremaining: 5m 45s\n",
            "872:\tlearn: 0.4166608\ttest: 0.7733895\tbest: 0.7337170 (30)\ttotal: 39m 18s\tremaining: 5m 43s\n",
            "873:\tlearn: 0.4165952\ttest: 0.7733855\tbest: 0.7337170 (30)\ttotal: 39m 21s\tremaining: 5m 40s\n",
            "874:\tlearn: 0.4165518\ttest: 0.7733933\tbest: 0.7337170 (30)\ttotal: 39m 23s\tremaining: 5m 37s\n",
            "875:\tlearn: 0.4164943\ttest: 0.7734005\tbest: 0.7337170 (30)\ttotal: 39m 25s\tremaining: 5m 34s\n",
            "876:\tlearn: 0.4164196\ttest: 0.7733615\tbest: 0.7337170 (30)\ttotal: 39m 28s\tremaining: 5m 32s\n",
            "877:\tlearn: 0.4163508\ttest: 0.7731019\tbest: 0.7337170 (30)\ttotal: 39m 30s\tremaining: 5m 29s\n",
            "878:\tlearn: 0.4162678\ttest: 0.7730528\tbest: 0.7337170 (30)\ttotal: 39m 33s\tremaining: 5m 26s\n",
            "879:\tlearn: 0.4162142\ttest: 0.7729066\tbest: 0.7337170 (30)\ttotal: 39m 36s\tremaining: 5m 24s\n",
            "880:\tlearn: 0.4161160\ttest: 0.7729960\tbest: 0.7337170 (30)\ttotal: 39m 39s\tremaining: 5m 21s\n",
            "881:\tlearn: 0.4160448\ttest: 0.7733186\tbest: 0.7337170 (30)\ttotal: 39m 42s\tremaining: 5m 18s\n",
            "882:\tlearn: 0.4160046\ttest: 0.7733164\tbest: 0.7337170 (30)\ttotal: 39m 45s\tremaining: 5m 16s\n",
            "883:\tlearn: 0.4159702\ttest: 0.7733034\tbest: 0.7337170 (30)\ttotal: 39m 48s\tremaining: 5m 13s\n",
            "884:\tlearn: 0.4158823\ttest: 0.7732377\tbest: 0.7337170 (30)\ttotal: 39m 51s\tremaining: 5m 10s\n",
            "885:\tlearn: 0.4158448\ttest: 0.7732560\tbest: 0.7337170 (30)\ttotal: 39m 54s\tremaining: 5m 8s\n",
            "886:\tlearn: 0.4158083\ttest: 0.7735514\tbest: 0.7337170 (30)\ttotal: 39m 57s\tremaining: 5m 5s\n",
            "887:\tlearn: 0.4156975\ttest: 0.7734930\tbest: 0.7337170 (30)\ttotal: 40m\tremaining: 5m 2s\n",
            "888:\tlearn: 0.4156061\ttest: 0.7735032\tbest: 0.7337170 (30)\ttotal: 40m 3s\tremaining: 5m\n",
            "889:\tlearn: 0.4155765\ttest: 0.7735119\tbest: 0.7337170 (30)\ttotal: 40m 5s\tremaining: 4m 57s\n",
            "890:\tlearn: 0.4155384\ttest: 0.7735426\tbest: 0.7337170 (30)\ttotal: 40m 9s\tremaining: 4m 54s\n",
            "891:\tlearn: 0.4155103\ttest: 0.7735398\tbest: 0.7337170 (30)\ttotal: 40m 11s\tremaining: 4m 52s\n",
            "892:\tlearn: 0.4154836\ttest: 0.7736404\tbest: 0.7337170 (30)\ttotal: 40m 14s\tremaining: 4m 49s\n",
            "893:\tlearn: 0.4154279\ttest: 0.7736772\tbest: 0.7337170 (30)\ttotal: 40m 16s\tremaining: 4m 46s\n",
            "894:\tlearn: 0.4151364\ttest: 0.7737058\tbest: 0.7337170 (30)\ttotal: 40m 19s\tremaining: 4m 43s\n",
            "895:\tlearn: 0.4150968\ttest: 0.7737622\tbest: 0.7337170 (30)\ttotal: 40m 21s\tremaining: 4m 41s\n",
            "896:\tlearn: 0.4150614\ttest: 0.7738468\tbest: 0.7337170 (30)\ttotal: 40m 24s\tremaining: 4m 38s\n",
            "897:\tlearn: 0.4150346\ttest: 0.7738268\tbest: 0.7337170 (30)\ttotal: 40m 26s\tremaining: 4m 35s\n",
            "898:\tlearn: 0.4149942\ttest: 0.7738288\tbest: 0.7337170 (30)\ttotal: 40m 29s\tremaining: 4m 32s\n",
            "899:\tlearn: 0.4149591\ttest: 0.7738405\tbest: 0.7337170 (30)\ttotal: 40m 33s\tremaining: 4m 30s\n",
            "900:\tlearn: 0.4148701\ttest: 0.7736667\tbest: 0.7337170 (30)\ttotal: 40m 35s\tremaining: 4m 27s\n",
            "901:\tlearn: 0.4148302\ttest: 0.7736775\tbest: 0.7337170 (30)\ttotal: 40m 39s\tremaining: 4m 24s\n",
            "902:\tlearn: 0.4147542\ttest: 0.7736903\tbest: 0.7337170 (30)\ttotal: 40m 41s\tremaining: 4m 22s\n",
            "903:\tlearn: 0.4146673\ttest: 0.7736847\tbest: 0.7337170 (30)\ttotal: 40m 43s\tremaining: 4m 19s\n",
            "904:\tlearn: 0.4145987\ttest: 0.7736678\tbest: 0.7337170 (30)\ttotal: 40m 46s\tremaining: 4m 16s\n",
            "905:\tlearn: 0.4145568\ttest: 0.7740173\tbest: 0.7337170 (30)\ttotal: 40m 49s\tremaining: 4m 14s\n",
            "906:\tlearn: 0.4143486\ttest: 0.7740327\tbest: 0.7337170 (30)\ttotal: 40m 51s\tremaining: 4m 11s\n",
            "907:\tlearn: 0.4143056\ttest: 0.7740583\tbest: 0.7337170 (30)\ttotal: 40m 54s\tremaining: 4m 8s\n",
            "908:\tlearn: 0.4142791\ttest: 0.7740192\tbest: 0.7337170 (30)\ttotal: 40m 56s\tremaining: 4m 5s\n",
            "909:\tlearn: 0.4142167\ttest: 0.7739599\tbest: 0.7337170 (30)\ttotal: 40m 59s\tremaining: 4m 3s\n",
            "910:\tlearn: 0.4141897\ttest: 0.7739089\tbest: 0.7337170 (30)\ttotal: 41m 2s\tremaining: 4m\n",
            "911:\tlearn: 0.4141576\ttest: 0.7738892\tbest: 0.7337170 (30)\ttotal: 41m 5s\tremaining: 3m 57s\n",
            "912:\tlearn: 0.4141344\ttest: 0.7738139\tbest: 0.7337170 (30)\ttotal: 41m 8s\tremaining: 3m 55s\n",
            "913:\tlearn: 0.4140891\ttest: 0.7739094\tbest: 0.7337170 (30)\ttotal: 41m 11s\tremaining: 3m 52s\n",
            "914:\tlearn: 0.4140487\ttest: 0.7739080\tbest: 0.7337170 (30)\ttotal: 41m 14s\tremaining: 3m 49s\n",
            "915:\tlearn: 0.4139861\ttest: 0.7738781\tbest: 0.7337170 (30)\ttotal: 41m 17s\tremaining: 3m 47s\n",
            "916:\tlearn: 0.4138751\ttest: 0.7741616\tbest: 0.7337170 (30)\ttotal: 41m 19s\tremaining: 3m 44s\n",
            "917:\tlearn: 0.4138268\ttest: 0.7741904\tbest: 0.7337170 (30)\ttotal: 41m 22s\tremaining: 3m 41s\n",
            "918:\tlearn: 0.4137729\ttest: 0.7741506\tbest: 0.7337170 (30)\ttotal: 41m 24s\tremaining: 3m 38s\n",
            "919:\tlearn: 0.4137106\ttest: 0.7742036\tbest: 0.7337170 (30)\ttotal: 41m 27s\tremaining: 3m 36s\n",
            "920:\tlearn: 0.4136472\ttest: 0.7741682\tbest: 0.7337170 (30)\ttotal: 41m 29s\tremaining: 3m 33s\n",
            "921:\tlearn: 0.4136231\ttest: 0.7741670\tbest: 0.7337170 (30)\ttotal: 41m 32s\tremaining: 3m 30s\n",
            "922:\tlearn: 0.4135691\ttest: 0.7741322\tbest: 0.7337170 (30)\ttotal: 41m 35s\tremaining: 3m 28s\n",
            "923:\tlearn: 0.4135322\ttest: 0.7741713\tbest: 0.7337170 (30)\ttotal: 41m 37s\tremaining: 3m 25s\n",
            "924:\tlearn: 0.4134793\ttest: 0.7742158\tbest: 0.7337170 (30)\ttotal: 41m 39s\tremaining: 3m 22s\n",
            "925:\tlearn: 0.4134408\ttest: 0.7742052\tbest: 0.7337170 (30)\ttotal: 41m 42s\tremaining: 3m 19s\n",
            "926:\tlearn: 0.4133944\ttest: 0.7741401\tbest: 0.7337170 (30)\ttotal: 41m 45s\tremaining: 3m 17s\n",
            "927:\tlearn: 0.4133492\ttest: 0.7741516\tbest: 0.7337170 (30)\ttotal: 41m 48s\tremaining: 3m 14s\n",
            "928:\tlearn: 0.4133280\ttest: 0.7742254\tbest: 0.7337170 (30)\ttotal: 41m 50s\tremaining: 3m 11s\n",
            "929:\tlearn: 0.4132456\ttest: 0.7742416\tbest: 0.7337170 (30)\ttotal: 41m 53s\tremaining: 3m 9s\n",
            "930:\tlearn: 0.4131801\ttest: 0.7743617\tbest: 0.7337170 (30)\ttotal: 41m 56s\tremaining: 3m 6s\n",
            "931:\tlearn: 0.4131547\ttest: 0.7743158\tbest: 0.7337170 (30)\ttotal: 41m 59s\tremaining: 3m 3s\n",
            "932:\tlearn: 0.4130785\ttest: 0.7743171\tbest: 0.7337170 (30)\ttotal: 42m 2s\tremaining: 3m 1s\n",
            "933:\tlearn: 0.4130160\ttest: 0.7743764\tbest: 0.7337170 (30)\ttotal: 42m 5s\tremaining: 2m 58s\n",
            "934:\tlearn: 0.4129502\ttest: 0.7744590\tbest: 0.7337170 (30)\ttotal: 42m 7s\tremaining: 2m 55s\n",
            "935:\tlearn: 0.4129000\ttest: 0.7745456\tbest: 0.7337170 (30)\ttotal: 42m 10s\tremaining: 2m 53s\n",
            "936:\tlearn: 0.4128399\ttest: 0.7745927\tbest: 0.7337170 (30)\ttotal: 42m 13s\tremaining: 2m 50s\n",
            "937:\tlearn: 0.4128208\ttest: 0.7746295\tbest: 0.7337170 (30)\ttotal: 42m 16s\tremaining: 2m 47s\n",
            "938:\tlearn: 0.4127356\ttest: 0.7746896\tbest: 0.7337170 (30)\ttotal: 42m 18s\tremaining: 2m 44s\n",
            "939:\tlearn: 0.4127014\ttest: 0.7746978\tbest: 0.7337170 (30)\ttotal: 42m 21s\tremaining: 2m 42s\n",
            "940:\tlearn: 0.4126416\ttest: 0.7748916\tbest: 0.7337170 (30)\ttotal: 42m 24s\tremaining: 2m 39s\n",
            "941:\tlearn: 0.4125854\ttest: 0.7749177\tbest: 0.7337170 (30)\ttotal: 42m 26s\tremaining: 2m 36s\n",
            "942:\tlearn: 0.4125576\ttest: 0.7748837\tbest: 0.7337170 (30)\ttotal: 42m 29s\tremaining: 2m 34s\n",
            "943:\tlearn: 0.4125126\ttest: 0.7748536\tbest: 0.7337170 (30)\ttotal: 42m 32s\tremaining: 2m 31s\n",
            "944:\tlearn: 0.4124364\ttest: 0.7748779\tbest: 0.7337170 (30)\ttotal: 42m 35s\tremaining: 2m 28s\n",
            "945:\tlearn: 0.4123950\ttest: 0.7751136\tbest: 0.7337170 (30)\ttotal: 42m 38s\tremaining: 2m 26s\n",
            "946:\tlearn: 0.4123562\ttest: 0.7751244\tbest: 0.7337170 (30)\ttotal: 42m 40s\tremaining: 2m 23s\n",
            "947:\tlearn: 0.4123289\ttest: 0.7751313\tbest: 0.7337170 (30)\ttotal: 42m 43s\tremaining: 2m 20s\n",
            "948:\tlearn: 0.4122607\ttest: 0.7751421\tbest: 0.7337170 (30)\ttotal: 42m 46s\tremaining: 2m 17s\n",
            "949:\tlearn: 0.4122259\ttest: 0.7756461\tbest: 0.7337170 (30)\ttotal: 42m 48s\tremaining: 2m 15s\n",
            "950:\tlearn: 0.4121717\ttest: 0.7756249\tbest: 0.7337170 (30)\ttotal: 42m 51s\tremaining: 2m 12s\n",
            "951:\tlearn: 0.4121310\ttest: 0.7755554\tbest: 0.7337170 (30)\ttotal: 42m 54s\tremaining: 2m 9s\n",
            "952:\tlearn: 0.4120885\ttest: 0.7754681\tbest: 0.7337170 (30)\ttotal: 42m 56s\tremaining: 2m 7s\n",
            "953:\tlearn: 0.4120214\ttest: 0.7755091\tbest: 0.7337170 (30)\ttotal: 42m 59s\tremaining: 2m 4s\n",
            "954:\tlearn: 0.4119364\ttest: 0.7756001\tbest: 0.7337170 (30)\ttotal: 43m 1s\tremaining: 2m 1s\n",
            "955:\tlearn: 0.4118736\ttest: 0.7756453\tbest: 0.7337170 (30)\ttotal: 43m 4s\tremaining: 1m 58s\n",
            "956:\tlearn: 0.4117873\ttest: 0.7756304\tbest: 0.7337170 (30)\ttotal: 43m 8s\tremaining: 1m 56s\n",
            "957:\tlearn: 0.4117615\ttest: 0.7756087\tbest: 0.7337170 (30)\ttotal: 43m 10s\tremaining: 1m 53s\n",
            "958:\tlearn: 0.4116869\ttest: 0.7756047\tbest: 0.7337170 (30)\ttotal: 43m 13s\tremaining: 1m 50s\n",
            "959:\tlearn: 0.4115990\ttest: 0.7755486\tbest: 0.7337170 (30)\ttotal: 43m 16s\tremaining: 1m 48s\n",
            "960:\tlearn: 0.4115351\ttest: 0.7750415\tbest: 0.7337170 (30)\ttotal: 43m 18s\tremaining: 1m 45s\n",
            "961:\tlearn: 0.4115074\ttest: 0.7750677\tbest: 0.7337170 (30)\ttotal: 43m 21s\tremaining: 1m 42s\n",
            "962:\tlearn: 0.4114729\ttest: 0.7750831\tbest: 0.7337170 (30)\ttotal: 43m 24s\tremaining: 1m 40s\n",
            "963:\tlearn: 0.4114355\ttest: 0.7751200\tbest: 0.7337170 (30)\ttotal: 43m 26s\tremaining: 1m 37s\n",
            "964:\tlearn: 0.4113714\ttest: 0.7750999\tbest: 0.7337170 (30)\ttotal: 43m 30s\tremaining: 1m 34s\n",
            "965:\tlearn: 0.4113159\ttest: 0.7751014\tbest: 0.7337170 (30)\ttotal: 43m 32s\tremaining: 1m 31s\n",
            "966:\tlearn: 0.4112935\ttest: 0.7748772\tbest: 0.7337170 (30)\ttotal: 43m 35s\tremaining: 1m 29s\n",
            "967:\tlearn: 0.4112388\ttest: 0.7749605\tbest: 0.7337170 (30)\ttotal: 43m 37s\tremaining: 1m 26s\n",
            "968:\tlearn: 0.4112129\ttest: 0.7749488\tbest: 0.7337170 (30)\ttotal: 43m 40s\tremaining: 1m 23s\n",
            "969:\tlearn: 0.4111592\ttest: 0.7752046\tbest: 0.7337170 (30)\ttotal: 43m 42s\tremaining: 1m 21s\n",
            "970:\tlearn: 0.4111429\ttest: 0.7752090\tbest: 0.7337170 (30)\ttotal: 43m 45s\tremaining: 1m 18s\n",
            "971:\tlearn: 0.4110459\ttest: 0.7751291\tbest: 0.7337170 (30)\ttotal: 43m 47s\tremaining: 1m 15s\n",
            "972:\tlearn: 0.4109723\ttest: 0.7752070\tbest: 0.7337170 (30)\ttotal: 43m 49s\tremaining: 1m 12s\n",
            "973:\tlearn: 0.4108563\ttest: 0.7752792\tbest: 0.7337170 (30)\ttotal: 43m 51s\tremaining: 1m 10s\n",
            "974:\tlearn: 0.4108092\ttest: 0.7752850\tbest: 0.7337170 (30)\ttotal: 43m 54s\tremaining: 1m 7s\n",
            "975:\tlearn: 0.4107105\ttest: 0.7751242\tbest: 0.7337170 (30)\ttotal: 43m 57s\tremaining: 1m 4s\n",
            "976:\tlearn: 0.4106849\ttest: 0.7751470\tbest: 0.7337170 (30)\ttotal: 43m 59s\tremaining: 1m 2s\n",
            "977:\tlearn: 0.4106027\ttest: 0.7751156\tbest: 0.7337170 (30)\ttotal: 44m 1s\tremaining: 59.4s\n",
            "978:\tlearn: 0.4105473\ttest: 0.7749974\tbest: 0.7337170 (30)\ttotal: 44m 4s\tremaining: 56.7s\n",
            "979:\tlearn: 0.4105202\ttest: 0.7750346\tbest: 0.7337170 (30)\ttotal: 44m 7s\tremaining: 54s\n",
            "980:\tlearn: 0.4104826\ttest: 0.7749956\tbest: 0.7337170 (30)\ttotal: 44m 9s\tremaining: 51.3s\n",
            "981:\tlearn: 0.4104223\ttest: 0.7750040\tbest: 0.7337170 (30)\ttotal: 44m 12s\tremaining: 48.6s\n",
            "982:\tlearn: 0.4103644\ttest: 0.7748204\tbest: 0.7337170 (30)\ttotal: 44m 15s\tremaining: 45.9s\n",
            "983:\tlearn: 0.4103391\ttest: 0.7748242\tbest: 0.7337170 (30)\ttotal: 44m 18s\tremaining: 43.2s\n",
            "984:\tlearn: 0.4103074\ttest: 0.7748003\tbest: 0.7337170 (30)\ttotal: 44m 21s\tremaining: 40.5s\n",
            "985:\tlearn: 0.4102809\ttest: 0.7747752\tbest: 0.7337170 (30)\ttotal: 44m 24s\tremaining: 37.8s\n",
            "986:\tlearn: 0.4102010\ttest: 0.7747865\tbest: 0.7337170 (30)\ttotal: 44m 26s\tremaining: 35.1s\n",
            "987:\tlearn: 0.4101571\ttest: 0.7747967\tbest: 0.7337170 (30)\ttotal: 44m 28s\tremaining: 32.4s\n",
            "988:\tlearn: 0.4101095\ttest: 0.7748141\tbest: 0.7337170 (30)\ttotal: 44m 31s\tremaining: 29.7s\n",
            "989:\tlearn: 0.4099776\ttest: 0.7747627\tbest: 0.7337170 (30)\ttotal: 44m 34s\tremaining: 27s\n",
            "990:\tlearn: 0.4099170\ttest: 0.7748042\tbest: 0.7337170 (30)\ttotal: 44m 37s\tremaining: 24.3s\n",
            "991:\tlearn: 0.4098598\ttest: 0.7748826\tbest: 0.7337170 (30)\ttotal: 44m 40s\tremaining: 21.6s\n",
            "992:\tlearn: 0.4098411\ttest: 0.7748795\tbest: 0.7337170 (30)\ttotal: 44m 43s\tremaining: 18.9s\n",
            "993:\tlearn: 0.4097827\ttest: 0.7748851\tbest: 0.7337170 (30)\ttotal: 44m 45s\tremaining: 16.2s\n",
            "994:\tlearn: 0.4097639\ttest: 0.7749035\tbest: 0.7337170 (30)\ttotal: 44m 48s\tremaining: 13.5s\n",
            "995:\tlearn: 0.4097258\ttest: 0.7747708\tbest: 0.7337170 (30)\ttotal: 44m 51s\tremaining: 10.8s\n",
            "996:\tlearn: 0.4096928\ttest: 0.7747567\tbest: 0.7337170 (30)\ttotal: 44m 54s\tremaining: 8.11s\n",
            "997:\tlearn: 0.4096391\ttest: 0.7747315\tbest: 0.7337170 (30)\ttotal: 44m 57s\tremaining: 5.4s\n",
            "998:\tlearn: 0.4096110\ttest: 0.7747347\tbest: 0.7337170 (30)\ttotal: 45m\tremaining: 2.7s\n",
            "999:\tlearn: 0.4095663\ttest: 0.7747364\tbest: 0.7337170 (30)\ttotal: 45m 3s\tremaining: 0us\n",
            "bestTest = 0.7337169945\n",
            "bestIteration = 30\n",
            "Shrink model to first 31 iterations.\n"
          ]
        },
        {
          "data": {
            "text/plain": [
              "<catboost.core.CatBoostRegressor at 0x7f665b3ed650>"
            ]
          },
          "execution_count": 8,
          "metadata": {},
          "output_type": "execute_result"
        }
      ],
      "source": [
        "model = CatBoostRegressor(\n",
        "    #learning_rate=0.75,\n",
        "    # depth = 10,\n",
        "    # eval_metric='RMSE',\n",
        "    # od_pval=0.1,\n",
        "    # od_wait=30,\n",
        "    # random_seed=321,\n",
        "    max_depth=10, \n",
        "    loss_function='RMSE',\n",
        "    n_estimators = 1000,\n",
        "    eta = 0.3,\n",
        "    random_seed=123,\n",
        "    task_type='GPU',\n",
        "    use_best_model=True,\n",
        "    )\n",
        "\n",
        "model.fit(train_pool, eval_set=val_pool)"
      ]
    },
    {
      "cell_type": "code",
      "execution_count": null,
      "metadata": {
        "id": "B_DhDfPVwkcq"
      },
      "outputs": [],
      "source": [
        "import pickle\n",
        "filename = 'final_model' # name to store model\n",
        "pickle.dump(model, open(filename, 'wb')) # pickling\n",
        "!cp /content/final_model /content/drive/MyDrive/"
      ]
    },
    {
      "cell_type": "code",
      "execution_count": null,
      "metadata": {
        "id": "hlvAXn0Qx3-7"
      },
      "outputs": [],
      "source": [
        "model.save_model('final_model_ctb')\n",
        "!cp /content/final_model_ctb /content/drive/MyDrive/"
      ]
    },
    {
      "cell_type": "code",
      "execution_count": null,
      "metadata": {
        "id": "g_V44OD8wvYB"
      },
      "outputs": [],
      "source": [
        "# loaded_model = pickle.load(open(filename, 'rb'))"
      ]
    },
    {
      "cell_type": "code",
      "execution_count": null,
      "metadata": {
        "id": "dmMPfdyeerlh"
      },
      "outputs": [],
      "source": [
        "Y_pred = model.predict(X_valid)"
      ]
    },
    {
      "cell_type": "code",
      "execution_count": null,
      "metadata": {
        "colab": {
          "base_uri": "https://localhost:8080/",
          "height": 333
        },
        "id": "4NyRF7ewl13l",
        "outputId": "212087b0-07d8-4ac3-ec61-ed2cc5b98dd7"
      },
      "outputs": [
        {
          "data": {
            "image/png": "[encoded data removed]",
            "text/plain": [
              "<Figure size 1800x360 with 1 Axes>"
            ]
          },
          "metadata": {},
          "output_type": "display_data"
        }
      ],
      "source": [
        "submission = pd.DataFrame({\n",
        "    \"ID\": X_valid.index, \n",
        "    \"item_cnt_month\": Y_pred\n",
        "})\n",
        "x = submission['ID'].head(200)\n",
        "y_pred = submission['item_cnt_month'].head(200)\n",
        "y_true = Y_valid.head(200)\n",
        "fig = plt.figure(figsize=(25, 5))\n",
        "ax = fig.add_subplot(111)\n",
        "ax.plot(x, y_pred, label = 'Предсказанные значения', color = 'red')\n",
        "ax.plot(x, y_true, label = 'Истинные', color = 'green')\n",
        "\n",
        "ax.legend()\n",
        "\n",
        "plt.show()"
      ]
    },
    {
      "cell_type": "code",
      "execution_count": null,
      "metadata": {
        "colab": {
          "base_uri": "https://localhost:8080/"
        },
        "id": "YyV03xkdl6Ha",
        "outputId": "cebdbed8-e30c-48c6-b045-c79162b6004d"
      },
      "outputs": [
        {
          "name": "stdout",
          "output_type": "stream",
          "text": [
            "MSE на валиционной выборке: 0.53834\n",
            "RMSE на валиционной выборке: 0.73372\n"
          ]
        }
      ],
      "source": [
        "print(f'MSE на валиционной выборке: {round(mse(Y_valid, Y_pred), 5)}\\nRMSE на валиционной выборке: {round(math.sqrt(mse(Y_valid, Y_pred)),5)}')"
      ]
    },
    {
      "cell_type": "code",
      "execution_count": null,
      "metadata": {
        "id": "dgph4QITl9Ow"
      },
      "outputs": [],
      "source": [
        "def plot_feature_importance(importance,names,model_type):\n",
        "\n",
        "  feature_importance = np.array(importance)\n",
        "  feature_names = np.array(names)\n",
        "\n",
        "  data={'feature_names':feature_names,'feature_importance':feature_importance}\n",
        "  fi_df = pd.DataFrame(data)\n",
        "\n",
        "  fi_df.sort_values(by=['feature_importance'], ascending=False,inplace=True)\n",
        "\n",
        "  plt.figure(figsize=(20,12))\n",
        "  sns.barplot(x=fi_df['feature_importance'], y=fi_df['feature_names'])\n",
        "  plt.title('Оценка важности признаков ' + model_type)\n",
        "  plt.xlabel('Важность признака')\n",
        "  plt.ylabel('Признак')\n",
        "  plt.show()"
      ]
    },
    {
      "cell_type": "code",
      "execution_count": null,
      "metadata": {
        "colab": {
          "base_uri": "https://localhost:8080/",
          "height": 730
        },
        "id": "4y4qTkD0l-af",
        "outputId": "4d35ea4f-2518-45da-db9b-a2df6e52a8ce"
      },
      "outputs": [
        {
          "data": {
            "image/png": "[encoded data removed]",
            "text/plain": [
              "<Figure size 1440x864 with 1 Axes>"
            ]
          },
          "metadata": {},
          "output_type": "display_data"
        }
      ],
      "source": [
        "plot_feature_importance(model.get_feature_importance(),X_train.columns,'CATBOOST')"
      ]
    },
    {
      "cell_type": "code",
      "execution_count": null,
      "metadata": {
        "id": "jNaMOx8kmAG2"
      },
      "outputs": [],
      "source": [
        "Y_test = model.predict(test_pool)"
      ]
    },
    {
      "cell_type": "code",
      "execution_count": null,
      "metadata": {
        "colab": {
          "base_uri": "https://localhost:8080/"
        },
        "id": "LTnvUirRmETi",
        "outputId": "d98f7854-e979-4441-bce8-b07143d047f6"
      },
      "outputs": [
        {
          "name": "stdout",
          "output_type": "stream",
          "text": [
            "Warning: Looks like you're using an outdated API Version, please consider updating (server 1.5.12 / client 1.5.4)\n",
            "100% 5.73M/5.73M [00:00<00:00, 18.5MB/s]\n",
            "Successfully submitted to Predict Future Sales"
          ]
        }
      ],
      "source": [
        "submission = pd.DataFrame({\n",
        "    \"ID\": test.index, \n",
        "    \"item_cnt_month\": Y_test\n",
        "})\n",
        "submission.to_csv('submission.csv', index=False)\n",
        "! kaggle competitions submit -c competitive-data-science-predict-future-sales -f submission.csv -m \"Final\""
      ]
    }
  ],
  "metadata": {
    "accelerator": "GPU",
    "colab": {
      "provenance": []
    },
    "kernelspec": {
      "display_name": "Python 3",
      "name": "python3"
    },
    "language_info": {
      "name": "python"
    }
  },
  "nbformat": 4,
  "nbformat_minor": 0
}